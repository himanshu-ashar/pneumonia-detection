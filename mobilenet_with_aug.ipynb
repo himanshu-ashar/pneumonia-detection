{
  "nbformat": 4,
  "nbformat_minor": 0,
  "metadata": {
    "colab": {
      "name": "mobilenet_with_aug.ipynb",
      "provenance": [],
      "collapsed_sections": []
    },
    "kernelspec": {
      "name": "python3",
      "display_name": "Python 3"
    },
    "accelerator": "GPU"
  },
  "cells": [
    {
      "cell_type": "code",
      "metadata": {
        "id": "RGwlfudNGDSM",
        "colab": {
          "base_uri": "https://localhost:8080/",
          "height": 35
        },
        "outputId": "c0b8c952-a2e7-4716-d538-8b920c90d1a6"
      },
      "source": [
        "from google.colab import drive\n",
        "drive.mount('/content/drive')"
      ],
      "execution_count": null,
      "outputs": [
        {
          "output_type": "stream",
          "text": [
            "Mounted at /content/drive\n"
          ],
          "name": "stdout"
        }
      ]
    },
    {
      "cell_type": "code",
      "metadata": {
        "id": "jBLvuvk6GPbW"
      },
      "source": [
        "import numpy as np \n",
        "import pandas as pd \n",
        "from matplotlib import pyplot as plt\n",
        "from tensorflow.keras.layers import Dense, Dropout, Flatten\n",
        "from tensorflow.keras.models import Model, Sequential\n",
        "from tensorflow.keras.preprocessing.image import ImageDataGenerator\n",
        "from tensorflow.keras.preprocessing.image import ImageDataGenerator\n",
        "import matplotlib.pyplot as plt\n",
        "from tensorflow.keras import callbacks\n",
        "import os\n",
        "import tensorflow as tf\n",
        "from tensorflow.keras.models import load_model"
      ],
      "execution_count": null,
      "outputs": []
    },
    {
      "cell_type": "code",
      "metadata": {
        "id": "N8t4r8j7WHZN"
      },
      "source": [
        ""
      ],
      "execution_count": null,
      "outputs": []
    },
    {
      "cell_type": "code",
      "metadata": {
        "id": "bq8EEnYZGmG_",
        "colab": {
          "base_uri": "https://localhost:8080/",
          "height": 72
        },
        "outputId": "c81e846c-8c38-4d6b-8671-74786fce1fbb"
      },
      "source": [
        "data_generator = ImageDataGenerator(rescale=1./255,\n",
        "                                    rotation_range=30,\n",
        "                                    zoom_range=0.15,\n",
        "                                    width_shift_range=0.2,\n",
        "                                    height_shift_range=0.2,\n",
        "                                    shear_range=0.15,\n",
        "                                    horizontal_flip=True,\n",
        "                                    fill_mode=\"nearest\"\n",
        "                                    )\n",
        "\n",
        "\n",
        "# data_generator = ImageDataGenerator(rescale=1./255)\n",
        "\n",
        "data_generat = ImageDataGenerator(rescale=1./255)\n",
        "\n",
        "train_gen = data_generator.flow_from_directory(\"/content/drive/My Drive/pneumonia_detection_1/pneumonia-detection/train\",\n",
        "                                               target_size=(256,256),\n",
        "                                               color_mode='rgb',\n",
        "                                               class_mode=\"categorical\",\n",
        "                                               batch_size=32,\n",
        "                                               shuffle=True)\n",
        "\n",
        "val_gen = data_generat.flow_from_directory(\"/content/drive/My Drive/pneumonia_detection_1/pneumonia-detection/validation\",\n",
        "                                               target_size=(256,256),\n",
        "                                               color_mode='rgb',\n",
        "                                               class_mode=\"categorical\",\n",
        "                                               batch_size=32)\n",
        "\n",
        "test_gen = data_generat.flow_from_directory(\"/content/drive/My Drive/pneumonia_detection_1/pneumonia-detection/test\",\n",
        "                                               target_size=(256,256),\n",
        "                                               color_mode='rgb',\n",
        "                                               class_mode=\"categorical\",\n",
        "                                               batch_size=32)"
      ],
      "execution_count": null,
      "outputs": [
        {
          "output_type": "stream",
          "text": [
            "Found 4682 images belonging to 3 classes.\n",
            "Found 550 images belonging to 3 classes.\n",
            "Found 624 images belonging to 3 classes.\n"
          ],
          "name": "stdout"
        }
      ]
    },
    {
      "cell_type": "code",
      "metadata": {
        "id": "eMuXevkbHFh1",
        "colab": {
          "base_uri": "https://localhost:8080/",
          "height": 92
        },
        "outputId": "4ffd5f93-c20e-4fae-aa19-69acffe00721"
      },
      "source": [
        "mobilenet = tf.keras.applications.MobileNetV2(input_shape=(256,256,3),include_top=False,weights=\"imagenet\")\n",
        "X = Flatten()(mobilenet.output)\n",
        "X = Dense(640, activation='relu')(X)\n",
        "X = Dense(320, activation='relu')(X)\n",
        "output = Dense(3, activation='softmax')(X)\n",
        "\n",
        "model = Model(inputs=mobilenet.input, outputs=output)\n",
        "\n",
        "for layer in mobilenet.layers:\n",
        "  layer.trainable = False"
      ],
      "execution_count": null,
      "outputs": [
        {
          "output_type": "stream",
          "text": [
            "WARNING:tensorflow:`input_shape` is undefined or non-square, or `rows` is not in [96, 128, 160, 192, 224]. Weights for input shape (224, 224) will be loaded as the default.\n",
            "Downloading data from https://storage.googleapis.com/tensorflow/keras-applications/mobilenet_v2/mobilenet_v2_weights_tf_dim_ordering_tf_kernels_1.0_224_no_top.h5\n",
            "9412608/9406464 [==============================] - 1s 0us/step\n"
          ],
          "name": "stdout"
        }
      ]
    },
    {
      "cell_type": "code",
      "metadata": {
        "id": "p3lprvvHHWbe"
      },
      "source": [
        "model.compile(optimizer='adam', loss='categorical_crossentropy',\n",
        "              metrics=['accuracy'])"
      ],
      "execution_count": null,
      "outputs": []
    },
    {
      "cell_type": "code",
      "metadata": {
        "id": "5YaJ3C4JHXiS"
      },
      "source": [
        "class CustomSaver(callbacks.Callback):\n",
        "    def on_epoch_end(self, epoch, logs=None):\n",
        "        if epoch == 19 or epoch==39 or epoch==49:  # or save after some epoch, each k-th epoch etc.\n",
        "            count = epoch+1\n",
        "            self.model.save(\"/content/drive/My Drive/_mobilenet_aug/model_epoch_{}_loss_{}.h5\".format(count, logs[\"loss\"]))\n",
        "            print(\"\\nEpoch {} over. Saving model\".format(count))\n",
        "\n",
        "model_saver = CustomSaver()"
      ],
      "execution_count": null,
      "outputs": []
    },
    {
      "cell_type": "code",
      "metadata": {
        "id": "Oac7ebPHHei9",
        "colab": {
          "base_uri": "https://localhost:8080/",
          "height": 431
        },
        "outputId": "00816c9d-505e-47ae-93d0-46c1dccebeab"
      },
      "source": [
        "r = model.fit(\n",
        "    train_gen,\n",
        "    validation_data=val_gen,\n",
        "    epochs=50\n",
        "    #callbacks=[model_saver]\n",
        ")"
      ],
      "execution_count": null,
      "outputs": [
        {
          "output_type": "stream",
          "text": [
            "Epoch 1/50\n",
            " 12/147 [=>............................] - ETA: 32:32 - loss: 34.2823 - accuracy: 0.4115"
          ],
          "name": "stdout"
        },
        {
          "output_type": "error",
          "ename": "KeyboardInterrupt",
          "evalue": "ignored",
          "traceback": [
            "\u001b[0;31m---------------------------------------------------------------------------\u001b[0m",
            "\u001b[0;31mKeyboardInterrupt\u001b[0m                         Traceback (most recent call last)",
            "\u001b[0;32m<ipython-input-6-6fbdbbe179b2>\u001b[0m in \u001b[0;36m<module>\u001b[0;34m()\u001b[0m\n\u001b[1;32m      2\u001b[0m     \u001b[0mtrain_gen\u001b[0m\u001b[0;34m,\u001b[0m\u001b[0;34m\u001b[0m\u001b[0;34m\u001b[0m\u001b[0m\n\u001b[1;32m      3\u001b[0m     \u001b[0mvalidation_data\u001b[0m\u001b[0;34m=\u001b[0m\u001b[0mval_gen\u001b[0m\u001b[0;34m,\u001b[0m\u001b[0;34m\u001b[0m\u001b[0;34m\u001b[0m\u001b[0m\n\u001b[0;32m----> 4\u001b[0;31m     \u001b[0mepochs\u001b[0m\u001b[0;34m=\u001b[0m\u001b[0;36m50\u001b[0m\u001b[0;34m\u001b[0m\u001b[0;34m\u001b[0m\u001b[0m\n\u001b[0m\u001b[1;32m      5\u001b[0m     \u001b[0;31m#callbacks=[model_saver]\u001b[0m\u001b[0;34m\u001b[0m\u001b[0;34m\u001b[0m\u001b[0;34m\u001b[0m\u001b[0m\n\u001b[1;32m      6\u001b[0m )\n",
            "\u001b[0;32m/usr/local/lib/python3.6/dist-packages/tensorflow/python/keras/engine/training.py\u001b[0m in \u001b[0;36m_method_wrapper\u001b[0;34m(self, *args, **kwargs)\u001b[0m\n\u001b[1;32m    106\u001b[0m   \u001b[0;32mdef\u001b[0m \u001b[0m_method_wrapper\u001b[0m\u001b[0;34m(\u001b[0m\u001b[0mself\u001b[0m\u001b[0;34m,\u001b[0m \u001b[0;34m*\u001b[0m\u001b[0margs\u001b[0m\u001b[0;34m,\u001b[0m \u001b[0;34m**\u001b[0m\u001b[0mkwargs\u001b[0m\u001b[0;34m)\u001b[0m\u001b[0;34m:\u001b[0m\u001b[0;34m\u001b[0m\u001b[0;34m\u001b[0m\u001b[0m\n\u001b[1;32m    107\u001b[0m     \u001b[0;32mif\u001b[0m \u001b[0;32mnot\u001b[0m \u001b[0mself\u001b[0m\u001b[0;34m.\u001b[0m\u001b[0m_in_multi_worker_mode\u001b[0m\u001b[0;34m(\u001b[0m\u001b[0;34m)\u001b[0m\u001b[0;34m:\u001b[0m  \u001b[0;31m# pylint: disable=protected-access\u001b[0m\u001b[0;34m\u001b[0m\u001b[0;34m\u001b[0m\u001b[0m\n\u001b[0;32m--> 108\u001b[0;31m       \u001b[0;32mreturn\u001b[0m \u001b[0mmethod\u001b[0m\u001b[0;34m(\u001b[0m\u001b[0mself\u001b[0m\u001b[0;34m,\u001b[0m \u001b[0;34m*\u001b[0m\u001b[0margs\u001b[0m\u001b[0;34m,\u001b[0m \u001b[0;34m**\u001b[0m\u001b[0mkwargs\u001b[0m\u001b[0;34m)\u001b[0m\u001b[0;34m\u001b[0m\u001b[0;34m\u001b[0m\u001b[0m\n\u001b[0m\u001b[1;32m    109\u001b[0m \u001b[0;34m\u001b[0m\u001b[0m\n\u001b[1;32m    110\u001b[0m     \u001b[0;31m# Running inside `run_distribute_coordinator` already.\u001b[0m\u001b[0;34m\u001b[0m\u001b[0;34m\u001b[0m\u001b[0;34m\u001b[0m\u001b[0m\n",
            "\u001b[0;32m/usr/local/lib/python3.6/dist-packages/tensorflow/python/keras/engine/training.py\u001b[0m in \u001b[0;36mfit\u001b[0;34m(self, x, y, batch_size, epochs, verbose, callbacks, validation_split, validation_data, shuffle, class_weight, sample_weight, initial_epoch, steps_per_epoch, validation_steps, validation_batch_size, validation_freq, max_queue_size, workers, use_multiprocessing)\u001b[0m\n\u001b[1;32m   1096\u001b[0m                 batch_size=batch_size):\n\u001b[1;32m   1097\u001b[0m               \u001b[0mcallbacks\u001b[0m\u001b[0;34m.\u001b[0m\u001b[0mon_train_batch_begin\u001b[0m\u001b[0;34m(\u001b[0m\u001b[0mstep\u001b[0m\u001b[0;34m)\u001b[0m\u001b[0;34m\u001b[0m\u001b[0;34m\u001b[0m\u001b[0m\n\u001b[0;32m-> 1098\u001b[0;31m               \u001b[0mtmp_logs\u001b[0m \u001b[0;34m=\u001b[0m \u001b[0mtrain_function\u001b[0m\u001b[0;34m(\u001b[0m\u001b[0miterator\u001b[0m\u001b[0;34m)\u001b[0m\u001b[0;34m\u001b[0m\u001b[0;34m\u001b[0m\u001b[0m\n\u001b[0m\u001b[1;32m   1099\u001b[0m               \u001b[0;32mif\u001b[0m \u001b[0mdata_handler\u001b[0m\u001b[0;34m.\u001b[0m\u001b[0mshould_sync\u001b[0m\u001b[0;34m:\u001b[0m\u001b[0;34m\u001b[0m\u001b[0;34m\u001b[0m\u001b[0m\n\u001b[1;32m   1100\u001b[0m                 \u001b[0mcontext\u001b[0m\u001b[0;34m.\u001b[0m\u001b[0masync_wait\u001b[0m\u001b[0;34m(\u001b[0m\u001b[0;34m)\u001b[0m\u001b[0;34m\u001b[0m\u001b[0;34m\u001b[0m\u001b[0m\n",
            "\u001b[0;32m/usr/local/lib/python3.6/dist-packages/tensorflow/python/eager/def_function.py\u001b[0m in \u001b[0;36m__call__\u001b[0;34m(self, *args, **kwds)\u001b[0m\n\u001b[1;32m    778\u001b[0m       \u001b[0;32melse\u001b[0m\u001b[0;34m:\u001b[0m\u001b[0;34m\u001b[0m\u001b[0;34m\u001b[0m\u001b[0m\n\u001b[1;32m    779\u001b[0m         \u001b[0mcompiler\u001b[0m \u001b[0;34m=\u001b[0m \u001b[0;34m\"nonXla\"\u001b[0m\u001b[0;34m\u001b[0m\u001b[0;34m\u001b[0m\u001b[0m\n\u001b[0;32m--> 780\u001b[0;31m         \u001b[0mresult\u001b[0m \u001b[0;34m=\u001b[0m \u001b[0mself\u001b[0m\u001b[0;34m.\u001b[0m\u001b[0m_call\u001b[0m\u001b[0;34m(\u001b[0m\u001b[0;34m*\u001b[0m\u001b[0margs\u001b[0m\u001b[0;34m,\u001b[0m \u001b[0;34m**\u001b[0m\u001b[0mkwds\u001b[0m\u001b[0;34m)\u001b[0m\u001b[0;34m\u001b[0m\u001b[0;34m\u001b[0m\u001b[0m\n\u001b[0m\u001b[1;32m    781\u001b[0m \u001b[0;34m\u001b[0m\u001b[0m\n\u001b[1;32m    782\u001b[0m       \u001b[0mnew_tracing_count\u001b[0m \u001b[0;34m=\u001b[0m \u001b[0mself\u001b[0m\u001b[0;34m.\u001b[0m\u001b[0m_get_tracing_count\u001b[0m\u001b[0;34m(\u001b[0m\u001b[0;34m)\u001b[0m\u001b[0;34m\u001b[0m\u001b[0;34m\u001b[0m\u001b[0m\n",
            "\u001b[0;32m/usr/local/lib/python3.6/dist-packages/tensorflow/python/eager/def_function.py\u001b[0m in \u001b[0;36m_call\u001b[0;34m(self, *args, **kwds)\u001b[0m\n\u001b[1;32m    805\u001b[0m       \u001b[0;31m# In this case we have created variables on the first call, so we run the\u001b[0m\u001b[0;34m\u001b[0m\u001b[0;34m\u001b[0m\u001b[0;34m\u001b[0m\u001b[0m\n\u001b[1;32m    806\u001b[0m       \u001b[0;31m# defunned version which is guaranteed to never create variables.\u001b[0m\u001b[0;34m\u001b[0m\u001b[0;34m\u001b[0m\u001b[0;34m\u001b[0m\u001b[0m\n\u001b[0;32m--> 807\u001b[0;31m       \u001b[0;32mreturn\u001b[0m \u001b[0mself\u001b[0m\u001b[0;34m.\u001b[0m\u001b[0m_stateless_fn\u001b[0m\u001b[0;34m(\u001b[0m\u001b[0;34m*\u001b[0m\u001b[0margs\u001b[0m\u001b[0;34m,\u001b[0m \u001b[0;34m**\u001b[0m\u001b[0mkwds\u001b[0m\u001b[0;34m)\u001b[0m  \u001b[0;31m# pylint: disable=not-callable\u001b[0m\u001b[0;34m\u001b[0m\u001b[0;34m\u001b[0m\u001b[0m\n\u001b[0m\u001b[1;32m    808\u001b[0m     \u001b[0;32melif\u001b[0m \u001b[0mself\u001b[0m\u001b[0;34m.\u001b[0m\u001b[0m_stateful_fn\u001b[0m \u001b[0;32mis\u001b[0m \u001b[0;32mnot\u001b[0m \u001b[0;32mNone\u001b[0m\u001b[0;34m:\u001b[0m\u001b[0;34m\u001b[0m\u001b[0;34m\u001b[0m\u001b[0m\n\u001b[1;32m    809\u001b[0m       \u001b[0;31m# Release the lock early so that multiple threads can perform the call\u001b[0m\u001b[0;34m\u001b[0m\u001b[0;34m\u001b[0m\u001b[0;34m\u001b[0m\u001b[0m\n",
            "\u001b[0;32m/usr/local/lib/python3.6/dist-packages/tensorflow/python/eager/function.py\u001b[0m in \u001b[0;36m__call__\u001b[0;34m(self, *args, **kwargs)\u001b[0m\n\u001b[1;32m   2827\u001b[0m     \u001b[0;32mwith\u001b[0m \u001b[0mself\u001b[0m\u001b[0;34m.\u001b[0m\u001b[0m_lock\u001b[0m\u001b[0;34m:\u001b[0m\u001b[0;34m\u001b[0m\u001b[0;34m\u001b[0m\u001b[0m\n\u001b[1;32m   2828\u001b[0m       \u001b[0mgraph_function\u001b[0m\u001b[0;34m,\u001b[0m \u001b[0margs\u001b[0m\u001b[0;34m,\u001b[0m \u001b[0mkwargs\u001b[0m \u001b[0;34m=\u001b[0m \u001b[0mself\u001b[0m\u001b[0;34m.\u001b[0m\u001b[0m_maybe_define_function\u001b[0m\u001b[0;34m(\u001b[0m\u001b[0margs\u001b[0m\u001b[0;34m,\u001b[0m \u001b[0mkwargs\u001b[0m\u001b[0;34m)\u001b[0m\u001b[0;34m\u001b[0m\u001b[0;34m\u001b[0m\u001b[0m\n\u001b[0;32m-> 2829\u001b[0;31m     \u001b[0;32mreturn\u001b[0m \u001b[0mgraph_function\u001b[0m\u001b[0;34m.\u001b[0m\u001b[0m_filtered_call\u001b[0m\u001b[0;34m(\u001b[0m\u001b[0margs\u001b[0m\u001b[0;34m,\u001b[0m \u001b[0mkwargs\u001b[0m\u001b[0;34m)\u001b[0m  \u001b[0;31m# pylint: disable=protected-access\u001b[0m\u001b[0;34m\u001b[0m\u001b[0;34m\u001b[0m\u001b[0m\n\u001b[0m\u001b[1;32m   2830\u001b[0m \u001b[0;34m\u001b[0m\u001b[0m\n\u001b[1;32m   2831\u001b[0m   \u001b[0;34m@\u001b[0m\u001b[0mproperty\u001b[0m\u001b[0;34m\u001b[0m\u001b[0;34m\u001b[0m\u001b[0m\n",
            "\u001b[0;32m/usr/local/lib/python3.6/dist-packages/tensorflow/python/eager/function.py\u001b[0m in \u001b[0;36m_filtered_call\u001b[0;34m(self, args, kwargs, cancellation_manager)\u001b[0m\n\u001b[1;32m   1846\u001b[0m                            resource_variable_ops.BaseResourceVariable))],\n\u001b[1;32m   1847\u001b[0m         \u001b[0mcaptured_inputs\u001b[0m\u001b[0;34m=\u001b[0m\u001b[0mself\u001b[0m\u001b[0;34m.\u001b[0m\u001b[0mcaptured_inputs\u001b[0m\u001b[0;34m,\u001b[0m\u001b[0;34m\u001b[0m\u001b[0;34m\u001b[0m\u001b[0m\n\u001b[0;32m-> 1848\u001b[0;31m         cancellation_manager=cancellation_manager)\n\u001b[0m\u001b[1;32m   1849\u001b[0m \u001b[0;34m\u001b[0m\u001b[0m\n\u001b[1;32m   1850\u001b[0m   \u001b[0;32mdef\u001b[0m \u001b[0m_call_flat\u001b[0m\u001b[0;34m(\u001b[0m\u001b[0mself\u001b[0m\u001b[0;34m,\u001b[0m \u001b[0margs\u001b[0m\u001b[0;34m,\u001b[0m \u001b[0mcaptured_inputs\u001b[0m\u001b[0;34m,\u001b[0m \u001b[0mcancellation_manager\u001b[0m\u001b[0;34m=\u001b[0m\u001b[0;32mNone\u001b[0m\u001b[0;34m)\u001b[0m\u001b[0;34m:\u001b[0m\u001b[0;34m\u001b[0m\u001b[0;34m\u001b[0m\u001b[0m\n",
            "\u001b[0;32m/usr/local/lib/python3.6/dist-packages/tensorflow/python/eager/function.py\u001b[0m in \u001b[0;36m_call_flat\u001b[0;34m(self, args, captured_inputs, cancellation_manager)\u001b[0m\n\u001b[1;32m   1922\u001b[0m       \u001b[0;31m# No tape is watching; skip to running the function.\u001b[0m\u001b[0;34m\u001b[0m\u001b[0;34m\u001b[0m\u001b[0;34m\u001b[0m\u001b[0m\n\u001b[1;32m   1923\u001b[0m       return self._build_call_outputs(self._inference_function.call(\n\u001b[0;32m-> 1924\u001b[0;31m           ctx, args, cancellation_manager=cancellation_manager))\n\u001b[0m\u001b[1;32m   1925\u001b[0m     forward_backward = self._select_forward_and_backward_functions(\n\u001b[1;32m   1926\u001b[0m         \u001b[0margs\u001b[0m\u001b[0;34m,\u001b[0m\u001b[0;34m\u001b[0m\u001b[0;34m\u001b[0m\u001b[0m\n",
            "\u001b[0;32m/usr/local/lib/python3.6/dist-packages/tensorflow/python/eager/function.py\u001b[0m in \u001b[0;36mcall\u001b[0;34m(self, ctx, args, cancellation_manager)\u001b[0m\n\u001b[1;32m    548\u001b[0m               \u001b[0minputs\u001b[0m\u001b[0;34m=\u001b[0m\u001b[0margs\u001b[0m\u001b[0;34m,\u001b[0m\u001b[0;34m\u001b[0m\u001b[0;34m\u001b[0m\u001b[0m\n\u001b[1;32m    549\u001b[0m               \u001b[0mattrs\u001b[0m\u001b[0;34m=\u001b[0m\u001b[0mattrs\u001b[0m\u001b[0;34m,\u001b[0m\u001b[0;34m\u001b[0m\u001b[0;34m\u001b[0m\u001b[0m\n\u001b[0;32m--> 550\u001b[0;31m               ctx=ctx)\n\u001b[0m\u001b[1;32m    551\u001b[0m         \u001b[0;32melse\u001b[0m\u001b[0;34m:\u001b[0m\u001b[0;34m\u001b[0m\u001b[0;34m\u001b[0m\u001b[0m\n\u001b[1;32m    552\u001b[0m           outputs = execute.execute_with_cancellation(\n",
            "\u001b[0;32m/usr/local/lib/python3.6/dist-packages/tensorflow/python/eager/execute.py\u001b[0m in \u001b[0;36mquick_execute\u001b[0;34m(op_name, num_outputs, inputs, attrs, ctx, name)\u001b[0m\n\u001b[1;32m     58\u001b[0m     \u001b[0mctx\u001b[0m\u001b[0;34m.\u001b[0m\u001b[0mensure_initialized\u001b[0m\u001b[0;34m(\u001b[0m\u001b[0;34m)\u001b[0m\u001b[0;34m\u001b[0m\u001b[0;34m\u001b[0m\u001b[0m\n\u001b[1;32m     59\u001b[0m     tensors = pywrap_tfe.TFE_Py_Execute(ctx._handle, device_name, op_name,\n\u001b[0;32m---> 60\u001b[0;31m                                         inputs, attrs, num_outputs)\n\u001b[0m\u001b[1;32m     61\u001b[0m   \u001b[0;32mexcept\u001b[0m \u001b[0mcore\u001b[0m\u001b[0;34m.\u001b[0m\u001b[0m_NotOkStatusException\u001b[0m \u001b[0;32mas\u001b[0m \u001b[0me\u001b[0m\u001b[0;34m:\u001b[0m\u001b[0;34m\u001b[0m\u001b[0;34m\u001b[0m\u001b[0m\n\u001b[1;32m     62\u001b[0m     \u001b[0;32mif\u001b[0m \u001b[0mname\u001b[0m \u001b[0;32mis\u001b[0m \u001b[0;32mnot\u001b[0m \u001b[0;32mNone\u001b[0m\u001b[0;34m:\u001b[0m\u001b[0;34m\u001b[0m\u001b[0;34m\u001b[0m\u001b[0m\n",
            "\u001b[0;31mKeyboardInterrupt\u001b[0m: "
          ]
        }
      ]
    },
    {
      "cell_type": "code",
      "metadata": {
        "id": "XcOymsoAHd9n"
      },
      "source": [
        "model_50 = load_model(\"/content/drive/My Drive/pneumonia_mobilenet_aug/model_epoch_50_loss_0.4033724367618561.h5\")"
      ],
      "execution_count": null,
      "outputs": []
    },
    {
      "cell_type": "code",
      "metadata": {
        "id": "AW8mIklNNkAh"
      },
      "source": [
        "model_40 = load_model(\"/content/drive/My Drive/pneumonia_mobilenet_aug/model_epoch_40_loss_0.417671263217926.h5\")"
      ],
      "execution_count": null,
      "outputs": []
    },
    {
      "cell_type": "code",
      "metadata": {
        "id": "aWo4wLGDNuHJ",
        "colab": {
          "base_uri": "https://localhost:8080/",
          "height": 54
        },
        "outputId": "4813194a-dd08-443d-ce9f-f2d9d6250d99"
      },
      "source": [
        "model_40.evaluate(test_gen)"
      ],
      "execution_count": null,
      "outputs": [
        {
          "output_type": "stream",
          "text": [
            "20/20 [==============================] - 8s 394ms/step - loss: 0.4545 - accuracy: 0.8622\n"
          ],
          "name": "stdout"
        },
        {
          "output_type": "execute_result",
          "data": {
            "text/plain": [
              "[0.4544748067855835, 0.8621794581413269]"
            ]
          },
          "metadata": {
            "tags": []
          },
          "execution_count": 10
        }
      ]
    },
    {
      "cell_type": "code",
      "metadata": {
        "id": "s0G0FuiPcKIz",
        "colab": {
          "base_uri": "https://localhost:8080/",
          "height": 54
        },
        "outputId": "bf18e0a7-e335-446e-a782-267471bf0682"
      },
      "source": [
        "model.evaluate(test_gen)"
      ],
      "execution_count": null,
      "outputs": [
        {
          "output_type": "stream",
          "text": [
            "20/20 [==============================] - 291s 15s/step - loss: 0.5147 - accuracy: 0.8510\n"
          ],
          "name": "stdout"
        },
        {
          "output_type": "execute_result",
          "data": {
            "text/plain": [
              "[0.5146545767784119, 0.8509615659713745]"
            ]
          },
          "metadata": {
            "tags": []
          },
          "execution_count": 5
        }
      ]
    },
    {
      "cell_type": "code",
      "metadata": {
        "id": "uNFzifg4OA4N",
        "colab": {
          "base_uri": "https://localhost:8080/",
          "height": 235
        },
        "outputId": "42e9d5fa-69cf-4d52-f2fb-144c7e429b35"
      },
      "source": [
        "from sklearn.metrics import confusion_matrix, classification_report\n",
        "\n",
        "y_pred = np.zeros([624,])\n",
        "y_test_full = np.zeros([624,])\n",
        "for i in range(0, 20):\n",
        "  (x_test, y_test) = test_gen[i]\n",
        "  Y_pred = model_40.predict(x_test)\n",
        "  y_test_full[32*i:32*i+32] = np.argmax(y_test, axis=1)\n",
        "  y_pred[32*i:32*i+32] = np.argmax(Y_pred, axis=1)\n",
        "print('Confusion Matrix')\n",
        "cm = confusion_matrix(y_test_full, y_pred)\n",
        "print('Classification Report')\n",
        "target_names = ['Bacterial Pneumonia', 'Normal', 'Viral Pneumonia']\n",
        "print(classification_report(y_test_full, y_pred, target_names=target_names))"
      ],
      "execution_count": null,
      "outputs": [
        {
          "output_type": "stream",
          "text": [
            "Confusion Matrix\n",
            "Classification Report\n",
            "                     precision    recall  f1-score   support\n",
            "\n",
            "Bacterial Pneumonia       0.87      0.91      0.89       242\n",
            "             Normal       0.89      0.88      0.89       234\n",
            "    Viral Pneumonia       0.81      0.74      0.77       148\n",
            "\n",
            "           accuracy                           0.86       624\n",
            "          macro avg       0.85      0.85      0.85       624\n",
            "       weighted avg       0.86      0.86      0.86       624\n",
            "\n"
          ],
          "name": "stdout"
        }
      ]
    },
    {
      "cell_type": "code",
      "metadata": {
        "id": "kZzZbEKTm6bf",
        "colab": {
          "base_uri": "https://localhost:8080/",
          "height": 235
        },
        "outputId": "077db315-f36f-479d-e187-025ba4acea53"
      },
      "source": [
        "from sklearn.metrics import confusion_matrix, classification_report\n",
        "\n",
        "y_pred = np.zeros([624,])\n",
        "y_test_full = np.zeros([624,])\n",
        "for i in range(0, 20):\n",
        "  (x_test, y_test) = test_gen[i]\n",
        "  Y_pred = model_50.predict(x_test)\n",
        "  y_test_full[32*i:32*i+32] = np.argmax(y_test, axis=1)\n",
        "  y_pred[32*i:32*i+32] = np.argmax(Y_pred, axis=1)\n",
        "print('Confusion Matrix')\n",
        "cm = confusion_matrix(y_test_full, y_pred)\n",
        "print('Classification Report')\n",
        "target_names = ['Bacterial Pneumonia', 'Normal', 'Viral Pneumonia']\n",
        "print(classification_report(y_test_full, y_pred, target_names=target_names))"
      ],
      "execution_count": null,
      "outputs": [
        {
          "output_type": "stream",
          "text": [
            "Confusion Matrix\n",
            "Classification Report\n",
            "                     precision    recall  f1-score   support\n",
            "\n",
            "Bacterial Pneumonia       0.84      0.93      0.88       242\n",
            "             Normal       0.88      0.88      0.88       234\n",
            "    Viral Pneumonia       0.83      0.68      0.74       148\n",
            "\n",
            "           accuracy                           0.85       624\n",
            "          macro avg       0.85      0.83      0.83       624\n",
            "       weighted avg       0.85      0.85      0.85       624\n",
            "\n"
          ],
          "name": "stdout"
        }
      ]
    },
    {
      "cell_type": "code",
      "metadata": {
        "id": "AO7mzjNUnP_2"
      },
      "source": [
        "cm"
      ],
      "execution_count": null,
      "outputs": []
    },
    {
      "cell_type": "code",
      "metadata": {
        "id": "coC8P6vBpKF2",
        "colab": {
          "base_uri": "https://localhost:8080/",
          "height": 72
        },
        "outputId": "cd7763bd-a458-4d26-891f-181f596bd638"
      },
      "source": [
        "print(train_gen.class_indices)\n",
        "print(val_gen.class_indices)\n",
        "print(test_gen.class_indices)\n",
        "# print(train_gen.classes)\n",
        "# print(val_gen.classes)\n",
        "# print(test_gen.classes)"
      ],
      "execution_count": null,
      "outputs": [
        {
          "output_type": "stream",
          "text": [
            "{'Bacterial Pneumonia': 0, 'Normal': 1, 'Viral Pneumonia': 2}\n",
            "{'Bacterial Pneumonia': 0, 'Normal': 1, 'Viral Pneumonia': 2}\n",
            "{'Bacterial Pneumonia': 0, 'Normal': 1, 'Viral Pneumonia': 2}\n"
          ],
          "name": "stdout"
        }
      ]
    },
    {
      "cell_type": "code",
      "metadata": {
        "id": "CYF_rkPrpLDe",
        "colab": {
          "base_uri": "https://localhost:8080/",
          "height": 290
        },
        "outputId": "f73e4966-f059-4488-a3e3-1dfca98bcbdd"
      },
      "source": [
        "from sklearn.metrics import classification_report, confusion_matrix\n",
        "\n",
        "Y_pred = model.predict(test_gen)\n",
        "y_pred = np.argmax(Y_pred, axis=-1)\n",
        "print('Confusion Matrix')\n",
        "print(confusion_matrix(test_gen.classes, y_pred))\n",
        "print('Classification Report')\n",
        "target_names = ['Bacterial Pneumonia', 'Normal', 'Viral Pneumonia']\n",
        "print(classification_report(test_gen.classes, y_pred, target_names=target_names))"
      ],
      "execution_count": null,
      "outputs": [
        {
          "output_type": "stream",
          "text": [
            "Confusion Matrix\n",
            "[[102  89  51]\n",
            " [100  95  39]\n",
            " [ 66  51  31]]\n",
            "Classification Report\n",
            "                     precision    recall  f1-score   support\n",
            "\n",
            "Bacterial Pneumonia       0.38      0.42      0.40       242\n",
            "             Normal       0.40      0.41      0.41       234\n",
            "    Viral Pneumonia       0.26      0.21      0.23       148\n",
            "\n",
            "           accuracy                           0.37       624\n",
            "          macro avg       0.35      0.35      0.35       624\n",
            "       weighted avg       0.36      0.37      0.36       624\n",
            "\n"
          ],
          "name": "stdout"
        }
      ]
    },
    {
      "cell_type": "code",
      "metadata": {
        "id": "hESv8Bi2JiGb",
        "colab": {
          "base_uri": "https://localhost:8080/",
          "height": 145
        },
        "outputId": "527457b4-9cca-41c3-904a-e501918c2d05"
      },
      "source": [
        "Y_pred"
      ],
      "execution_count": null,
      "outputs": [
        {
          "output_type": "execute_result",
          "data": {
            "text/plain": [
              "array([[8.3134824e-01, 7.9113012e-03, 1.6074044e-01],\n",
              "       [6.7410976e-01, 9.3047284e-02, 2.3284298e-01],\n",
              "       [9.0276659e-02, 3.8042149e-04, 9.0934289e-01],\n",
              "       ...,\n",
              "       [5.2629137e-01, 5.0555370e-03, 4.6865302e-01],\n",
              "       [4.4281352e-01, 2.1924567e-01, 3.3794084e-01],\n",
              "       [1.2440862e-01, 6.9722341e-04, 8.7489420e-01]], dtype=float32)"
            ]
          },
          "metadata": {
            "tags": []
          },
          "execution_count": 11
        }
      ]
    },
    {
      "cell_type": "code",
      "metadata": {
        "id": "VlvCbLtaIsYS",
        "colab": {
          "base_uri": "https://localhost:8080/",
          "height": 345
        },
        "outputId": "fa33dd8d-13b6-4a3c-8309-1d983852895e"
      },
      "source": [
        "print(Y_pred.shape)\n",
        "print(y_pred)"
      ],
      "execution_count": null,
      "outputs": [
        {
          "output_type": "stream",
          "text": [
            "(624, 3)\n",
            "[1 0 0 2 1 1 1 0 1 0 0 1 1 0 2 1 1 0 1 1 0 2 1 1 1 1 1 1 1 1 2 1 1 2 0 1 0\n",
            " 2 0 1 0 0 0 0 1 1 0 2 2 0 2 2 2 2 1 2 0 1 2 1 2 0 1 0 2 0 2 1 0 1 1 0 2 2\n",
            " 1 2 0 1 0 0 1 0 2 1 2 0 1 1 2 0 0 0 1 1 1 1 0 0 0 1 1 1 0 0 0 0 2 1 0 1 2\n",
            " 2 2 0 0 2 0 2 0 1 0 0 0 1 0 1 1 0 1 0 1 0 0 1 0 0 1 1 1 2 0 1 0 0 0 0 1 2\n",
            " 2 2 0 2 0 0 0 1 0 1 2 0 0 0 1 1 0 2 1 0 1 1 0 1 0 0 0 0 1 0 2 2 1 1 1 1 0\n",
            " 1 0 2 1 1 0 1 1 1 1 1 0 0 1 1 1 1 0 0 1 1 1 2 0 0 1 0 1 0 0 0 2 1 2 1 2 0\n",
            " 0 1 0 0 0 1 2 2 1 0 0 0 1 2 2 1 1 1 1 0 1 1 0 1 0 2 1 0 1 0 0 0 1 0 0 0 0\n",
            " 2 2 2 0 0 1 0 1 0 1 0 1 2 1 2 1 0 0 1 0 1 1 2 2 0 1 1 1 0 2 1 1 1 0 1 0 2\n",
            " 1 1 0 1 0 0 0 0 0 1 1 1 0 0 1 1 0 1 1 0 2 1 0 1 1 0 1 0 1 0 0 0 0 0 2 0 0\n",
            " 0 0 1 1 2 1 2 0 2 0 2 1 0 0 0 0 2 0 1 0 0 0 1 1 1 1 1 0 1 2 0 0 0 1 0 2 1\n",
            " 1 0 0 0 1 0 0 1 0 1 2 1 0 2 0 1 0 2 0 0 1 2 0 0 0 1 2 1 0 1 0 2 2 2 0 0 0\n",
            " 0 0 0 1 2 0 2 0 0 1 1 0 1 2 0 0 0 0 0 0 1 2 0 0 2 1 1 2 1 1 1 2 0 1 1 0 0\n",
            " 0 0 1 2 1 1 0 2 1 1 1 2 0 1 2 1 2 2 0 1 0 1 0 1 0 1 1 0 0 1 1 2 1 1 2 0 0\n",
            " 0 1 0 0 1 1 0 1 2 2 0 0 0 2 2 2 2 1 1 0 0 0 0 0 0 0 0 1 2 0 1 1 1 1 2 0 2\n",
            " 2 1 1 0 0 1 1 1 2 1 0 0 0 1 0 1 1 1 2 0 0 2 1 2 2 0 0 1 0 2 0 0 0 1 2 1 0\n",
            " 0 1 0 0 2 2 1 0 1 1 1 0 0 2 2 0 2 2 0 0 0 0 2 0 1 0 0 0 0 0 1 1 1 1 2 2 1\n",
            " 0 0 2 0 1 1 0 1 1 1 0 0 0 0 1 0 2 1 0 0 0 1 2 2 1 0 1 2 1 0 2 0]\n"
          ],
          "name": "stdout"
        }
      ]
    },
    {
      "cell_type": "code",
      "metadata": {
        "id": "SWBTZkRAcGWt",
        "colab": {
          "base_uri": "https://localhost:8080/",
          "height": 297
        },
        "outputId": "5b651580-0be7-461e-f3f2-821d84d05164"
      },
      "source": [
        "fig, axes = plt.subplots(nrows=1, ncols=2, figsize=(11,4))\n",
        "axes[0].plot(r.history['accuracy'], label='Accuracy')\n",
        "axes[0].plot(r.history['val_accuracy'], label='Validation Accuracy')\n",
        "axes[0].legend()\n",
        "#plt.show()\n",
        "axes[1].plot(r.history['loss'], label='Loss')\n",
        "axes[1].plot(r.history['val_loss'], label='Validation Loss')\n",
        "axes[1].legend()\n",
        "fig.tight_layout()"
      ],
      "execution_count": null,
      "outputs": [
        {
          "output_type": "display_data",
          "data": {
            "image/png": "[encoded data removed]",
            "text/plain": [
              "<Figure size 792x288 with 2 Axes>"
            ]
          },
          "metadata": {
            "tags": [],
            "needs_background": "light"
          }
        }
      ]
    },
    {
      "cell_type": "code",
      "metadata": {
        "id": "Q338_-WEI2AR"
      },
      "source": [
        "accuracy = r.history['accuracy']\n",
        "loss = r.history['loss']\n",
        "val_accuracy = r.history['val_accuracy']\n",
        "val_loss = r.history['val_loss']"
      ],
      "execution_count": null,
      "outputs": []
    },
    {
      "cell_type": "code",
      "metadata": {
        "id": "JpqcFSkEcQJf",
        "colab": {
          "base_uri": "https://localhost:8080/",
          "height": 926
        },
        "outputId": "00643c33-3272-40f6-fb1b-81fc3014cf74"
      },
      "source": [
        "accuracy"
      ],
      "execution_count": null,
      "outputs": [
        {
          "output_type": "execute_result",
          "data": {
            "text/plain": [
              "[0.6467321515083313,\n",
              " 0.7362238168716431,\n",
              " 0.7456215023994446,\n",
              " 0.7654848098754883,\n",
              " 0.7590773105621338,\n",
              " 0.7693293690681458,\n",
              " 0.7718923687934875,\n",
              " 0.7699701189994812,\n",
              " 0.7812900543212891,\n",
              " 0.7815036177635193,\n",
              " 0.7748825550079346,\n",
              " 0.788338303565979,\n",
              " 0.7996582388877869,\n",
              " 0.8045706748962402,\n",
              " 0.8028620481491089,\n",
              " 0.7996582388877869,\n",
              " 0.7981631755828857,\n",
              " 0.807133674621582,\n",
              " 0.8024348616600037,\n",
              " 0.801580548286438,\n",
              " 0.7998718619346619,\n",
              " 0.8052114248275757,\n",
              " 0.8032891750335693,\n",
              " 0.8092695474624634,\n",
              " 0.8092695474624634,\n",
              " 0.8030756115913391,\n",
              " 0.810337483882904,\n",
              " 0.8052114248275757,\n",
              " 0.8096967339515686,\n",
              " 0.807133674621582,\n",
              " 0.8099102973937988,\n",
              " 0.8107646107673645,\n",
              " 0.8129004836082458,\n",
              " 0.810123860836029,\n",
              " 0.8133276104927063,\n",
              " 0.8139683604240417,\n",
              " 0.8137547969818115,\n",
              " 0.8199487328529358,\n",
              " 0.8214438557624817,\n",
              " 0.8184536695480347,\n",
              " 0.8158906698226929,\n",
              " 0.8152499198913574,\n",
              " 0.810337483882904,\n",
              " 0.8244339823722839,\n",
              " 0.8171721696853638,\n",
              " 0.823152482509613,\n",
              " 0.8218709826469421,\n",
              " 0.8227253556251526,\n",
              " 0.823366105556488,\n",
              " 0.8237932324409485]"
            ]
          },
          "metadata": {
            "tags": []
          },
          "execution_count": 14
        }
      ]
    },
    {
      "cell_type": "code",
      "metadata": {
        "id": "jI0hgn0GcRU4",
        "colab": {
          "base_uri": "https://localhost:8080/",
          "height": 926
        },
        "outputId": "5e7da2ed-7e9c-4e03-b3e8-66d2fc645389"
      },
      "source": [
        "loss"
      ],
      "execution_count": null,
      "outputs": [
        {
          "output_type": "execute_result",
          "data": {
            "text/plain": [
              "[3.950165271759033,\n",
              " 0.6422800421714783,\n",
              " 0.5879874229431152,\n",
              " 0.5464120507240295,\n",
              " 0.5574573278427124,\n",
              " 0.5310460329055786,\n",
              " 0.5355070233345032,\n",
              " 0.5464696288108826,\n",
              " 0.5018845796585083,\n",
              " 0.5180821418762207,\n",
              " 0.5110071301460266,\n",
              " 0.48836269974708557,\n",
              " 0.47319573163986206,\n",
              " 0.45810240507125854,\n",
              " 0.46211835741996765,\n",
              " 0.4645008444786072,\n",
              " 0.4707063138484955,\n",
              " 0.46536484360694885,\n",
              " 0.46559780836105347,\n",
              " 0.46449014544487,\n",
              " 0.4610227942466736,\n",
              " 0.4592163562774658,\n",
              " 0.4586643576622009,\n",
              " 0.4456588923931122,\n",
              " 0.4433152675628662,\n",
              " 0.4554717242717743,\n",
              " 0.44125857949256897,\n",
              " 0.4502543807029724,\n",
              " 0.4499731659889221,\n",
              " 0.44446268677711487,\n",
              " 0.4360734224319458,\n",
              " 0.43773987889289856,\n",
              " 0.4270915985107422,\n",
              " 0.43311378359794617,\n",
              " 0.42492276430130005,\n",
              " 0.432171493768692,\n",
              " 0.43015310168266296,\n",
              " 0.42353031039237976,\n",
              " 0.41791731119155884,\n",
              " 0.417671263217926,\n",
              " 0.4201306700706482,\n",
              " 0.41377928853034973,\n",
              " 0.42140132188796997,\n",
              " 0.4107528328895569,\n",
              " 0.41966620087623596,\n",
              " 0.40571266412734985,\n",
              " 0.4104805290699005,\n",
              " 0.41299474239349365,\n",
              " 0.4041457772254944,\n",
              " 0.4033724367618561]"
            ]
          },
          "metadata": {
            "tags": []
          },
          "execution_count": 15
        }
      ]
    },
    {
      "cell_type": "code",
      "metadata": {
        "id": "h7dS4I7OcR1K",
        "colab": {
          "base_uri": "https://localhost:8080/",
          "height": 926
        },
        "outputId": "b5c11d6f-d09c-4532-b9c2-c3542af09940"
      },
      "source": [
        "val_accuracy"
      ],
      "execution_count": null,
      "outputs": [
        {
          "output_type": "execute_result",
          "data": {
            "text/plain": [
              "[0.7418181896209717,\n",
              " 0.7327272891998291,\n",
              " 0.7290909290313721,\n",
              " 0.692727267742157,\n",
              " 0.7327272891998291,\n",
              " 0.8145454525947571,\n",
              " 0.7454545497894287,\n",
              " 0.7690908908843994,\n",
              " 0.7345454692840576,\n",
              " 0.7581818103790283,\n",
              " 0.7909091114997864,\n",
              " 0.7490909099578857,\n",
              " 0.7545454502105713,\n",
              " 0.699999988079071,\n",
              " 0.7563636302947998,\n",
              " 0.774545431137085,\n",
              " 0.7490909099578857,\n",
              " 0.7799999713897705,\n",
              " 0.7654545307159424,\n",
              " 0.7545454502105713,\n",
              " 0.7400000095367432,\n",
              " 0.7836363911628723,\n",
              " 0.774545431137085,\n",
              " 0.7927272915840149,\n",
              " 0.7309091091156006,\n",
              " 0.7799999713897705,\n",
              " 0.7545454502105713,\n",
              " 0.7727272510528564,\n",
              " 0.7763636112213135,\n",
              " 0.7654545307159424,\n",
              " 0.7854545712471008,\n",
              " 0.7236363887786865,\n",
              " 0.7690908908843994,\n",
              " 0.7509090900421143,\n",
              " 0.774545431137085,\n",
              " 0.7690908908843994,\n",
              " 0.7599999904632568,\n",
              " 0.8090909123420715,\n",
              " 0.7872727513313293,\n",
              " 0.7709090709686279,\n",
              " 0.7654545307159424,\n",
              " 0.7654545307159424,\n",
              " 0.7599999904632568,\n",
              " 0.7690908908843994,\n",
              " 0.7854545712471008,\n",
              " 0.8090909123420715,\n",
              " 0.7654545307159424,\n",
              " 0.7727272510528564,\n",
              " 0.7836363911628723,\n",
              " 0.7690908908843994]"
            ]
          },
          "metadata": {
            "tags": []
          },
          "execution_count": 16
        }
      ]
    },
    {
      "cell_type": "code",
      "metadata": {
        "id": "dcfOw8rjcTFW",
        "colab": {
          "base_uri": "https://localhost:8080/",
          "height": 926
        },
        "outputId": "6e22ede5-8e5a-4db1-ba28-753b141e9950"
      },
      "source": [
        "val_loss"
      ],
      "execution_count": null,
      "outputs": [
        {
          "output_type": "execute_result",
          "data": {
            "text/plain": [
              "[0.6981595158576965,\n",
              " 0.650301456451416,\n",
              " 0.7141810655593872,\n",
              " 0.6714816689491272,\n",
              " 0.6098067164421082,\n",
              " 0.48784139752388,\n",
              " 0.820073664188385,\n",
              " 0.6932108998298645,\n",
              " 0.6740608215332031,\n",
              " 0.6137104630470276,\n",
              " 0.5896533131599426,\n",
              " 0.5723601579666138,\n",
              " 0.676413357257843,\n",
              " 0.7566880583763123,\n",
              " 0.5721580386161804,\n",
              " 0.5332213640213013,\n",
              " 0.5646602511405945,\n",
              " 0.5504651069641113,\n",
              " 0.5536208152770996,\n",
              " 0.6084241271018982,\n",
              " 0.6722538471221924,\n",
              " 0.529416024684906,\n",
              " 0.5713672041893005,\n",
              " 0.5302768349647522,\n",
              " 0.6876763105392456,\n",
              " 0.5405734777450562,\n",
              " 0.6247848868370056,\n",
              " 0.5125328302383423,\n",
              " 0.581964373588562,\n",
              " 0.608569860458374,\n",
              " 0.5762587785720825,\n",
              " 0.881757915019989,\n",
              " 0.5964219570159912,\n",
              " 0.6744961738586426,\n",
              " 0.5455447435379028,\n",
              " 0.5863105058670044,\n",
              " 0.6236700415611267,\n",
              " 0.5044517517089844,\n",
              " 0.5743345618247986,\n",
              " 0.6115338802337646,\n",
              " 0.7156737446784973,\n",
              " 0.6640703082084656,\n",
              " 0.5664326548576355,\n",
              " 0.5320910811424255,\n",
              " 0.5254592895507812,\n",
              " 0.49405139684677124,\n",
              " 0.557534396648407,\n",
              " 0.5207136869430542,\n",
              " 0.519435465335846,\n",
              " 0.632941484451294]"
            ]
          },
          "metadata": {
            "tags": []
          },
          "execution_count": 17
        }
      ]
    },
    {
      "cell_type": "code",
      "metadata": {
        "id": "TQ6a38gZo9nz",
        "colab": {
          "base_uri": "https://localhost:8080/",
          "height": 35
        },
        "outputId": "557b4a0f-4109-4ecc-e250-130a48ee5eb9"
      },
      "source": [
        "print(len(accuracy),len(loss),len(val_accuracy),len(val_loss))"
      ],
      "execution_count": null,
      "outputs": [
        {
          "output_type": "stream",
          "text": [
            "50 50 50 50\n"
          ],
          "name": "stdout"
        }
      ]
    },
    {
      "cell_type": "code",
      "metadata": {
        "id": "370PCo2vqZZe"
      },
      "source": [
        ""
      ],
      "execution_count": null,
      "outputs": []
    },
    {
      "cell_type": "code",
      "metadata": {
        "id": "DDC2fATxmX58"
      },
      "source": [
        "from sklearn.metrics import confusion_matrix\n",
        "import itertools\n",
        "\n",
        "def plot_confusion_matrix(cm, classes,\n",
        "                          normalize=False,\n",
        "                          title='MobileNetV2 with augmentation',\n",
        "                          cmap=plt.cm.Blues):\n",
        "  if normalize:\n",
        "      cm = cm.astype('float') / cm.sum(axis=1)[:, np.newaxis]\n",
        "      print(\"Normalized confusion matrix\")\n",
        "  else:\n",
        "      print('Confusion matrix, without normalization')\n",
        "\n",
        "  print(cm)\n",
        "\n",
        "  plt.imshow(cm, interpolation='nearest', cmap=cmap)\n",
        "  plt.title(title)\n",
        "  plt.colorbar()\n",
        "  tick_marks = np.arange(len(classes))\n",
        "  plt.xticks(tick_marks, classes, rotation=45)\n",
        "  plt.yticks(tick_marks, classes)\n",
        "\n",
        "  fmt = '.2f' if normalize else 'd'\n",
        "  thresh = cm.max() / 2.\n",
        "  for i, j in itertools.product(range(cm.shape[0]), range(cm.shape[1])):\n",
        "      plt.text(j, i, format(cm[i, j], fmt),\n",
        "               horizontalalignment=\"center\",\n",
        "               color=\"white\" if cm[i, j] > thresh else \"black\")\n",
        "\n",
        "  plt.tight_layout()\n",
        "  plt.ylabel('True label')\n",
        "  plt.xlabel('Predicted label')\n",
        "  plt.savefig(\"mobile_net_with_aug_40_epoch.png\")\n",
        "  plt.show()\n"
      ],
      "execution_count": null,
      "outputs": []
    },
    {
      "cell_type": "code",
      "metadata": {
        "id": "Po_1DOvimcqJ",
        "colab": {
          "base_uri": "https://localhost:8080/",
          "height": 384
        },
        "outputId": "440a6fa8-0d39-41d6-84c4-c0a602aad3ac"
      },
      "source": [
        "# cm = confusion_matrix(y_test, p_test)\n",
        "plot_confusion_matrix(cm, ['BP','N', 'VP'])"
      ],
      "execution_count": null,
      "outputs": [
        {
          "output_type": "stream",
          "text": [
            "Confusion matrix, without normalization\n",
            "[[221  18   3]\n",
            " [  4 207  23]\n",
            " [ 30   8 110]]\n"
          ],
          "name": "stdout"
        },
        {
          "output_type": "display_data",
          "data": {
            "image/png": "[encoded data removed]",
            "text/plain": [
              "<Figure size 432x288 with 2 Axes>"
            ]
          },
          "metadata": {
            "tags": [],
            "needs_background": "light"
          }
        }
      ]
    },
    {
      "cell_type": "code",
      "metadata": {
        "id": "1ZqecVvxNbFt"
      },
      "source": [
        ""
      ],
      "execution_count": null,
      "outputs": []
    }
  ]
}