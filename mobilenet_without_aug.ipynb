{
  "nbformat": 4,
  "nbformat_minor": 0,
  "metadata": {
    "colab": {
      "name": "mobilenet_no_aug.ipynb",
      "provenance": []
    },
    "kernelspec": {
      "name": "python3",
      "display_name": "Python 3"
    },
    "accelerator": "GPU"
  },
  "cells": [
    {
      "cell_type": "code",
      "metadata": {
        "id": "RGwlfudNGDSM",
        "colab": {
          "base_uri": "https://localhost:8080/",
          "height": 128
        },
        "outputId": "48c1bc5c-8dc4-44b6-eb00-cfe1d59cfe47"
      },
      "source": [
        "from google.colab import drive\n",
        "drive.mount('/content/drive')"
      ],
      "execution_count": null,
      "outputs": [
        {
          "output_type": "stream",
          "text": [
            "Go to this URL in a browser: https://accounts.google.com/o/oauth2/auth?client_id=947318989803-6bn6qk8qdgf4n4g3pfee6491hc0brc4i.apps.googleusercontent.com&redirect_uri=urn%3aietf%3awg%3aoauth%3a2.0%3aoob&scope=email%20https%3a%2f%2fwww.googleapis.com%2fauth%2fdocs.test%20https%3a%2f%2fwww.googleapis.com%2fauth%2fdrive%20https%3a%2f%2fwww.googleapis.com%2fauth%2fdrive.photos.readonly%20https%3a%2f%2fwww.googleapis.com%2fauth%2fpeopleapi.readonly&response_type=code\n",
            "\n",
            "Enter your authorization code:\n",
            "··········\n",
            "Mounted at /content/drive\n"
          ],
          "name": "stdout"
        }
      ]
    },
    {
      "cell_type": "code",
      "metadata": {
        "id": "gqbuSEv8rX_1"
      },
      "source": [
        ""
      ],
      "execution_count": null,
      "outputs": []
    },
    {
      "cell_type": "code",
      "metadata": {
        "id": "jBLvuvk6GPbW"
      },
      "source": [
        "import numpy as np \n",
        "import pandas as pd \n",
        "from matplotlib import pyplot as plt\n",
        "from tensorflow.keras.layers import Dense, Dropout, Flatten\n",
        "from tensorflow.keras.models import Model, Sequential\n",
        "from tensorflow.keras.preprocessing.image import ImageDataGenerator\n",
        "from tensorflow.keras.preprocessing.image import ImageDataGenerator\n",
        "import matplotlib.pyplot as plt\n",
        "from tensorflow.keras import callbacks\n",
        "import os\n",
        "import tensorflow as tf\n",
        "from tensorflow.keras.models import load_model"
      ],
      "execution_count": null,
      "outputs": []
    },
    {
      "cell_type": "code",
      "metadata": {
        "id": "bq8EEnYZGmG_",
        "colab": {
          "base_uri": "https://localhost:8080/",
          "height": 72
        },
        "outputId": "285852dc-bede-4664-9a72-d50f62a4e8e9"
      },
      "source": [
        "# data_generator = ImageDataGenerator(rescale=1./255,\n",
        "#                                     rotation_range=30,\n",
        "#                                     zoom_range=0.15,\n",
        "#                                     width_shift_range=0.2,\n",
        "#                                     height_shift_range=0.2,\n",
        "#                                     shear_range=0.15,\n",
        "#                                     horizontal_flip=True,\n",
        "#                                     fill_mode=\"nearest\"\n",
        "#                                     )\n",
        "\n",
        "\n",
        "data_generator = ImageDataGenerator(rescale=1./255)\n",
        "\n",
        "data_generat = ImageDataGenerator(rescale=1./255)\n",
        "\n",
        "train_gen = data_generator.flow_from_directory(\"/content/drive/My Drive/pneumonia_detection_1/pneumonia-detection/train\",\n",
        "                                               target_size=(256,256),\n",
        "                                               color_mode='rgb',\n",
        "                                               class_mode=\"categorical\",\n",
        "                                               batch_size=32,\n",
        "                                               shuffle=True)\n",
        "\n",
        "val_gen = data_generat.flow_from_directory(\"/content/drive/My Drive/pneumonia_detection_1/pneumonia-detection/validation\",\n",
        "                                               target_size=(256,256),\n",
        "                                               color_mode='rgb',\n",
        "                                               class_mode=\"categorical\",\n",
        "                                               batch_size=32)\n",
        "\n",
        "test_gen = data_generat.flow_from_directory(\"/content/drive/My Drive/pneumonia_detection_1/pneumonia-detection/test\",\n",
        "                                               target_size=(256,256),\n",
        "                                               color_mode='rgb',\n",
        "                                               class_mode=\"categorical\",\n",
        "                                               batch_size=32)"
      ],
      "execution_count": null,
      "outputs": [
        {
          "output_type": "stream",
          "text": [
            "Found 4682 images belonging to 3 classes.\n",
            "Found 550 images belonging to 3 classes.\n",
            "Found 624 images belonging to 3 classes.\n"
          ],
          "name": "stdout"
        }
      ]
    },
    {
      "cell_type": "code",
      "metadata": {
        "id": "eMuXevkbHFh1",
        "colab": {
          "base_uri": "https://localhost:8080/",
          "height": 92
        },
        "outputId": "f5d0a721-f0bb-42e4-95ad-ec8d1f57f411"
      },
      "source": [
        "mobilenet = tf.keras.applications.MobileNetV2(input_shape=(256,256,3),include_top=False,weights=\"imagenet\")\n",
        "X = Flatten()(mobilenet.output)\n",
        "X = Dense(640, activation='relu')(X)\n",
        "X = Dense(320, activation='relu')(X)\n",
        "output = Dense(3, activation='softmax')(X)\n",
        "\n",
        "model = Model(inputs=mobilenet.input, outputs=output)\n",
        "\n",
        "for layer in mobilenet.layers:\n",
        "  layer.trainable = False"
      ],
      "execution_count": null,
      "outputs": [
        {
          "output_type": "stream",
          "text": [
            "WARNING:tensorflow:`input_shape` is undefined or non-square, or `rows` is not in [96, 128, 160, 192, 224]. Weights for input shape (224, 224) will be loaded as the default.\n",
            "Downloading data from https://storage.googleapis.com/tensorflow/keras-applications/mobilenet_v2/mobilenet_v2_weights_tf_dim_ordering_tf_kernels_1.0_224_no_top.h5\n",
            "9412608/9406464 [==============================] - 0s 0us/step\n"
          ],
          "name": "stdout"
        }
      ]
    },
    {
      "cell_type": "code",
      "metadata": {
        "id": "p3lprvvHHWbe"
      },
      "source": [
        "model.compile(optimizer='adam', loss='categorical_crossentropy',\n",
        "              metrics=['accuracy'])"
      ],
      "execution_count": null,
      "outputs": []
    },
    {
      "cell_type": "code",
      "metadata": {
        "id": "5YaJ3C4JHXiS"
      },
      "source": [
        "class CustomSaver(callbacks.Callback):\n",
        "    def on_epoch_end(self, epoch, logs=None):\n",
        "        if epoch == 19 or epoch==39 or epoch==49:  # or save after some epoch, each k-th epoch etc.\n",
        "            count = epoch+1\n",
        "            self.model.save(\"/content/drive/My Drive/pneumonia_mobilenet_no_aug/model_epoch_{}_loss_{}.h5\".format(count, logs[\"loss\"]))\n",
        "            print(\"\\nEpoch {} over. Saving model\".format(count))\n",
        "\n",
        "model_saver = CustomSaver()"
      ],
      "execution_count": null,
      "outputs": []
    },
    {
      "cell_type": "code",
      "metadata": {
        "id": "Oac7ebPHHei9",
        "colab": {
          "base_uri": "https://localhost:8080/",
          "height": 1000
        },
        "outputId": "75a8aee0-31d3-445c-f4ff-8a2b3d99a13f"
      },
      "source": [
        "r = model.fit(\n",
        "    train_gen,\n",
        "    validation_data=val_gen,\n",
        "    epochs=50,\n",
        "    callbacks=[model_saver]\n",
        ")"
      ],
      "execution_count": null,
      "outputs": [
        {
          "output_type": "stream",
          "text": [
            "Epoch 1/50\n",
            "147/147 [==============================] - 1284s 9s/step - loss: 3.4052 - accuracy: 0.7183 - val_loss: 0.5078 - val_accuracy: 0.8091\n",
            "Epoch 2/50\n",
            "147/147 [==============================] - 58s 397ms/step - loss: 0.4120 - accuracy: 0.8456 - val_loss: 0.5909 - val_accuracy: 0.7745\n",
            "Epoch 3/50\n",
            "147/147 [==============================] - 58s 395ms/step - loss: 0.2261 - accuracy: 0.9088 - val_loss: 0.6055 - val_accuracy: 0.7982\n",
            "Epoch 4/50\n",
            "147/147 [==============================] - 58s 395ms/step - loss: 0.1163 - accuracy: 0.9524 - val_loss: 0.7529 - val_accuracy: 0.7909\n",
            "Epoch 5/50\n",
            "147/147 [==============================] - 58s 397ms/step - loss: 0.0772 - accuracy: 0.9716 - val_loss: 0.8701 - val_accuracy: 0.7909\n",
            "Epoch 6/50\n",
            "147/147 [==============================] - 58s 393ms/step - loss: 0.0460 - accuracy: 0.9818 - val_loss: 1.1229 - val_accuracy: 0.7782\n",
            "Epoch 7/50\n",
            "147/147 [==============================] - 59s 400ms/step - loss: 0.0651 - accuracy: 0.9774 - val_loss: 1.2220 - val_accuracy: 0.8091\n",
            "Epoch 8/50\n",
            "147/147 [==============================] - 58s 398ms/step - loss: 0.2221 - accuracy: 0.9364 - val_loss: 1.1931 - val_accuracy: 0.7800\n",
            "Epoch 9/50\n",
            "147/147 [==============================] - 58s 397ms/step - loss: 0.0971 - accuracy: 0.9663 - val_loss: 1.2628 - val_accuracy: 0.7582\n",
            "Epoch 10/50\n",
            "147/147 [==============================] - 59s 399ms/step - loss: 0.1156 - accuracy: 0.9605 - val_loss: 1.0109 - val_accuracy: 0.7727\n",
            "Epoch 11/50\n",
            "147/147 [==============================] - 59s 398ms/step - loss: 0.0783 - accuracy: 0.9714 - val_loss: 1.5562 - val_accuracy: 0.7855\n",
            "Epoch 12/50\n",
            "147/147 [==============================] - 60s 407ms/step - loss: 0.0990 - accuracy: 0.9710 - val_loss: 2.4880 - val_accuracy: 0.7891\n",
            "Epoch 13/50\n",
            "147/147 [==============================] - 59s 404ms/step - loss: 0.0698 - accuracy: 0.9791 - val_loss: 1.7071 - val_accuracy: 0.7836\n",
            "Epoch 14/50\n",
            "147/147 [==============================] - 59s 399ms/step - loss: 0.1078 - accuracy: 0.9701 - val_loss: 2.2758 - val_accuracy: 0.7964\n",
            "Epoch 15/50\n",
            "147/147 [==============================] - 59s 402ms/step - loss: 0.0328 - accuracy: 0.9885 - val_loss: 1.2943 - val_accuracy: 0.7982\n",
            "Epoch 16/50\n",
            "147/147 [==============================] - 60s 407ms/step - loss: 0.0296 - accuracy: 0.9917 - val_loss: 1.6742 - val_accuracy: 0.7418\n",
            "Epoch 17/50\n",
            "147/147 [==============================] - 61s 414ms/step - loss: 0.0805 - accuracy: 0.9759 - val_loss: 1.9630 - val_accuracy: 0.7945\n",
            "Epoch 18/50\n",
            "147/147 [==============================] - 60s 407ms/step - loss: 0.0135 - accuracy: 0.9947 - val_loss: 2.4022 - val_accuracy: 0.7818\n",
            "Epoch 19/50\n",
            "147/147 [==============================] - 60s 407ms/step - loss: 0.0119 - accuracy: 0.9944 - val_loss: 2.1273 - val_accuracy: 0.7855\n",
            "Epoch 20/50\n",
            "147/147 [==============================] - ETA: 0s - loss: 0.0264 - accuracy: 0.9919\n",
            "Epoch 20 over. Saving model\n",
            "147/147 [==============================] - 63s 428ms/step - loss: 0.0264 - accuracy: 0.9919 - val_loss: 2.2823 - val_accuracy: 0.8000\n",
            "Epoch 21/50\n",
            "147/147 [==============================] - 61s 415ms/step - loss: 0.0422 - accuracy: 0.9876 - val_loss: 1.5297 - val_accuracy: 0.7782\n",
            "Epoch 22/50\n",
            "147/147 [==============================] - 60s 410ms/step - loss: 0.0484 - accuracy: 0.9846 - val_loss: 2.5799 - val_accuracy: 0.7891\n",
            "Epoch 23/50\n",
            "147/147 [==============================] - 60s 410ms/step - loss: 0.1217 - accuracy: 0.9692 - val_loss: 1.7239 - val_accuracy: 0.7836\n",
            "Epoch 24/50\n",
            "147/147 [==============================] - 60s 405ms/step - loss: 0.0539 - accuracy: 0.9857 - val_loss: 2.3581 - val_accuracy: 0.7636\n",
            "Epoch 25/50\n",
            "147/147 [==============================] - 60s 405ms/step - loss: 0.0391 - accuracy: 0.9900 - val_loss: 3.1693 - val_accuracy: 0.7745\n",
            "Epoch 26/50\n",
            "147/147 [==============================] - 60s 408ms/step - loss: 0.1477 - accuracy: 0.9633 - val_loss: 1.7096 - val_accuracy: 0.7927\n",
            "Epoch 27/50\n",
            "147/147 [==============================] - 61s 412ms/step - loss: 0.0309 - accuracy: 0.9902 - val_loss: 1.6966 - val_accuracy: 0.7836\n",
            "Epoch 28/50\n",
            "147/147 [==============================] - 60s 406ms/step - loss: 0.0094 - accuracy: 0.9966 - val_loss: 2.4006 - val_accuracy: 0.7818\n",
            "Epoch 29/50\n",
            "147/147 [==============================] - 59s 404ms/step - loss: 8.2615e-04 - accuracy: 1.0000 - val_loss: 1.8641 - val_accuracy: 0.7836\n",
            "Epoch 30/50\n",
            "147/147 [==============================] - 59s 405ms/step - loss: 0.0020 - accuracy: 0.9996 - val_loss: 2.1390 - val_accuracy: 0.7855\n",
            "Epoch 31/50\n",
            "147/147 [==============================] - 60s 405ms/step - loss: 1.4205e-04 - accuracy: 1.0000 - val_loss: 2.2411 - val_accuracy: 0.7909\n",
            "Epoch 32/50\n",
            "147/147 [==============================] - 60s 407ms/step - loss: 2.8086e-05 - accuracy: 1.0000 - val_loss: 2.2541 - val_accuracy: 0.7891\n",
            "Epoch 33/50\n",
            "147/147 [==============================] - 60s 407ms/step - loss: 2.3401e-05 - accuracy: 1.0000 - val_loss: 2.2773 - val_accuracy: 0.7891\n",
            "Epoch 34/50\n",
            "147/147 [==============================] - 60s 406ms/step - loss: 2.0384e-05 - accuracy: 1.0000 - val_loss: 2.2805 - val_accuracy: 0.7909\n",
            "Epoch 35/50\n",
            "147/147 [==============================] - 60s 407ms/step - loss: 1.7850e-05 - accuracy: 1.0000 - val_loss: 2.2910 - val_accuracy: 0.7927\n",
            "Epoch 36/50\n",
            "147/147 [==============================] - 60s 405ms/step - loss: 1.5933e-05 - accuracy: 1.0000 - val_loss: 2.2857 - val_accuracy: 0.7927\n",
            "Epoch 37/50\n",
            "147/147 [==============================] - 60s 407ms/step - loss: 1.4215e-05 - accuracy: 1.0000 - val_loss: 2.2913 - val_accuracy: 0.7927\n",
            "Epoch 38/50\n",
            "147/147 [==============================] - 60s 410ms/step - loss: 1.2761e-05 - accuracy: 1.0000 - val_loss: 2.3076 - val_accuracy: 0.7927\n",
            "Epoch 39/50\n",
            "147/147 [==============================] - 60s 406ms/step - loss: 1.1586e-05 - accuracy: 1.0000 - val_loss: 2.3171 - val_accuracy: 0.7927\n",
            "Epoch 40/50\n",
            "147/147 [==============================] - ETA: 0s - loss: 1.0432e-05 - accuracy: 1.0000\n",
            "Epoch 40 over. Saving model\n",
            "147/147 [==============================] - 62s 424ms/step - loss: 1.0432e-05 - accuracy: 1.0000 - val_loss: 2.3275 - val_accuracy: 0.7927\n",
            "Epoch 41/50\n",
            "147/147 [==============================] - 62s 422ms/step - loss: 9.4823e-06 - accuracy: 1.0000 - val_loss: 2.3377 - val_accuracy: 0.7927\n",
            "Epoch 42/50\n",
            "147/147 [==============================] - 61s 417ms/step - loss: 8.6086e-06 - accuracy: 1.0000 - val_loss: 2.3454 - val_accuracy: 0.7927\n",
            "Epoch 43/50\n",
            "147/147 [==============================] - 60s 411ms/step - loss: 7.8235e-06 - accuracy: 1.0000 - val_loss: 2.3531 - val_accuracy: 0.7927\n",
            "Epoch 44/50\n",
            "147/147 [==============================] - 61s 413ms/step - loss: 7.0687e-06 - accuracy: 1.0000 - val_loss: 2.3657 - val_accuracy: 0.7927\n",
            "Epoch 45/50\n",
            "147/147 [==============================] - 60s 407ms/step - loss: 6.3788e-06 - accuracy: 1.0000 - val_loss: 2.3832 - val_accuracy: 0.7927\n",
            "Epoch 46/50\n",
            "147/147 [==============================] - 60s 408ms/step - loss: 5.8018e-06 - accuracy: 1.0000 - val_loss: 2.4043 - val_accuracy: 0.7964\n",
            "Epoch 47/50\n",
            "147/147 [==============================] - 60s 407ms/step - loss: 5.2842e-06 - accuracy: 1.0000 - val_loss: 2.4102 - val_accuracy: 0.7964\n",
            "Epoch 48/50\n",
            "147/147 [==============================] - 60s 410ms/step - loss: 4.8253e-06 - accuracy: 1.0000 - val_loss: 2.4238 - val_accuracy: 0.7964\n",
            "Epoch 49/50\n",
            "147/147 [==============================] - 60s 411ms/step - loss: 4.4149e-06 - accuracy: 1.0000 - val_loss: 2.4411 - val_accuracy: 0.7964\n",
            "Epoch 50/50\n",
            "147/147 [==============================] - ETA: 0s - loss: 4.0407e-06 - accuracy: 1.0000\n",
            "Epoch 50 over. Saving model\n",
            "147/147 [==============================] - 63s 426ms/step - loss: 4.0407e-06 - accuracy: 1.0000 - val_loss: 2.4596 - val_accuracy: 0.7964\n"
          ],
          "name": "stdout"
        }
      ]
    },
    {
      "cell_type": "code",
      "metadata": {
        "id": "4_UdUbBtNCeR"
      },
      "source": [
        "model_50 = load_model(\"/content/drive/My Drive/pneumonia_mobilenet_no_aug/model_epoch_50_loss_4.040745807287749e-06.h5\")"
      ],
      "execution_count": null,
      "outputs": []
    },
    {
      "cell_type": "code",
      "metadata": {
        "id": "36vmIj6ONKwb"
      },
      "source": [
        "model_40 = load_model(\"/content/drive/My Drive/pneumonia_mobilenet_no_aug/model_epoch_40_loss_1.043177235260373e-05.h5\")"
      ],
      "execution_count": null,
      "outputs": []
    },
    {
      "cell_type": "code",
      "metadata": {
        "id": "Z9j1megoPCtb",
        "colab": {
          "base_uri": "https://localhost:8080/",
          "height": 54
        },
        "outputId": "12a11067-cb70-4046-c09a-e8464bde8bb5"
      },
      "source": [
        "model_40.evaluate(test_gen)"
      ],
      "execution_count": null,
      "outputs": [
        {
          "output_type": "stream",
          "text": [
            "20/20 [==============================] - 338s 17s/step - loss: 4.0515 - accuracy: 0.7035\n"
          ],
          "name": "stdout"
        },
        {
          "output_type": "execute_result",
          "data": {
            "text/plain": [
              "[4.051451206207275, 0.7035256624221802]"
            ]
          },
          "metadata": {
            "tags": []
          },
          "execution_count": 6
        }
      ]
    },
    {
      "cell_type": "code",
      "metadata": {
        "id": "Bt4tKxKQbrnL",
        "colab": {
          "base_uri": "https://localhost:8080/",
          "height": 54
        },
        "outputId": "ae96062c-04e8-488b-bc7d-4b510a04fe68"
      },
      "source": [
        "model.evaluate(test_gen)"
      ],
      "execution_count": null,
      "outputs": [
        {
          "output_type": "stream",
          "text": [
            "20/20 [==============================] - 188s 9s/step - loss: 4.2315 - accuracy: 0.7019\n"
          ],
          "name": "stdout"
        },
        {
          "output_type": "execute_result",
          "data": {
            "text/plain": [
              "[4.23146390914917, 0.7019230723381042]"
            ]
          },
          "metadata": {
            "tags": []
          },
          "execution_count": 8
        }
      ]
    },
    {
      "cell_type": "code",
      "metadata": {
        "id": "ViiXGi3hM8yg",
        "colab": {
          "base_uri": "https://localhost:8080/",
          "height": 235
        },
        "outputId": "6f11ef53-2dca-4736-8934-b39b90bacaa8"
      },
      "source": [
        "from sklearn.metrics import confusion_matrix, classification_report\n",
        "\n",
        "y_pred = np.zeros([624,])\n",
        "y_test_full = np.zeros([624,])\n",
        "for i in range(0, 20):\n",
        "  (x_test, y_test) = test_gen[i]\n",
        "  Y_pred = model_50.predict(x_test)\n",
        "  y_test_full[32*i:32*i+32] = np.argmax(y_test, axis=1)\n",
        "  y_pred[32*i:32*i+32] = np.argmax(Y_pred, axis=1)\n",
        "print('Confusion Matrix')\n",
        "cm = confusion_matrix(y_test_full, y_pred)\n",
        "print('Classification Report')\n",
        "target_names = ['Bacterial Pneumonia', 'Normal', 'Viral Pneumonia']\n",
        "print(classification_report(y_test_full, y_pred, target_names=target_names))"
      ],
      "execution_count": null,
      "outputs": [
        {
          "output_type": "stream",
          "text": [
            "Confusion Matrix\n",
            "Classification Report\n",
            "                     precision    recall  f1-score   support\n",
            "\n",
            "Bacterial Pneumonia       0.73      0.95      0.82       242\n",
            "             Normal       0.97      0.51      0.67       234\n",
            "    Viral Pneumonia       0.48      0.60      0.53       148\n",
            "\n",
            "           accuracy                           0.70       624\n",
            "          macro avg       0.73      0.69      0.68       624\n",
            "       weighted avg       0.76      0.70      0.70       624\n",
            "\n"
          ],
          "name": "stdout"
        }
      ]
    },
    {
      "cell_type": "code",
      "metadata": {
        "id": "wgj9Pjl9NOSM",
        "colab": {
          "base_uri": "https://localhost:8080/",
          "height": 235
        },
        "outputId": "5df2225a-225d-4b96-e7ef-a8d0432d1a0f"
      },
      "source": [
        "from sklearn.metrics import confusion_matrix, classification_report\n",
        "\n",
        "y_pred = np.zeros([624,])\n",
        "y_test_full = np.zeros([624,])\n",
        "for i in range(0, 20):\n",
        "  (x_test, y_test) = test_gen[i]\n",
        "  Y_pred = model_40.predict(x_test)\n",
        "  y_test_full[32*i:32*i+32] = np.argmax(y_test, axis=1)\n",
        "  y_pred[32*i:32*i+32] = np.argmax(Y_pred, axis=1)\n",
        "print('Confusion Matrix')\n",
        "cm = confusion_matrix(y_test_full, y_pred)\n",
        "print('Classification Report')\n",
        "target_names = ['Bacterial Pneumonia', 'Normal', 'Viral Pneumonia']\n",
        "print(classification_report(y_test_full, y_pred, target_names=target_names))"
      ],
      "execution_count": null,
      "outputs": [
        {
          "output_type": "stream",
          "text": [
            "Confusion Matrix\n",
            "Classification Report\n",
            "                     precision    recall  f1-score   support\n",
            "\n",
            "Bacterial Pneumonia       0.73      0.95      0.82       242\n",
            "             Normal       0.97      0.52      0.67       234\n",
            "    Viral Pneumonia       0.48      0.59      0.53       148\n",
            "\n",
            "           accuracy                           0.70       624\n",
            "          macro avg       0.73      0.69      0.68       624\n",
            "       weighted avg       0.76      0.70      0.70       624\n",
            "\n"
          ],
          "name": "stdout"
        }
      ]
    },
    {
      "cell_type": "code",
      "metadata": {
        "id": "puG7AL2Sf3ue",
        "colab": {
          "base_uri": "https://localhost:8080/",
          "height": 72
        },
        "outputId": "e549ddf3-0f9e-4cf8-a302-091031068183"
      },
      "source": [
        "print(train_gen.class_indices)\n",
        "print(val_gen.class_indices)\n",
        "print(test_gen.class_indices)\n",
        "# print(train_gen.classes)\n",
        "# print(val_gen.classes)\n",
        "# print(test_gen.classes)"
      ],
      "execution_count": null,
      "outputs": [
        {
          "output_type": "stream",
          "text": [
            "{'Bacterial Pneumonia': 0, 'Normal': 1, 'Viral Pneumonia': 2}\n",
            "{'Bacterial Pneumonia': 0, 'Normal': 1, 'Viral Pneumonia': 2}\n",
            "{'Bacterial Pneumonia': 0, 'Normal': 1, 'Viral Pneumonia': 2}\n"
          ],
          "name": "stdout"
        }
      ]
    },
    {
      "cell_type": "code",
      "metadata": {
        "id": "_4l5Ap9Wiq44"
      },
      "source": [
        "model = load_model(\"/content/drive/My Drive/pneumonia_mobilenet_no_aug/model_epoch_50_loss_4.040745807287749e-06.h5\")"
      ],
      "execution_count": null,
      "outputs": []
    },
    {
      "cell_type": "code",
      "metadata": {
        "id": "Lww_QUshdx_Y",
        "colab": {
          "base_uri": "https://localhost:8080/",
          "height": 290
        },
        "outputId": "7909d41b-d297-4575-ed1a-46d56d3e028f"
      },
      "source": [
        "from sklearn.metrics import classification_report, confusion_matrix\n",
        "\n",
        "Y_pred = model.predict(test_gen)\n",
        "Y_pred = Y_pred.reshape((624,3))\n",
        "y_pred = np.argmax(Y_pred, axis=1)\n",
        "print('Confusion Matrix')\n",
        "print(confusion_matrix(test_gen.classes, y_pred))\n",
        "print('Classification Report')\n",
        "target_names = ['Bacterial Pneumonia', 'Normal', 'Viral Pneumonia']\n",
        "print(classification_report(test_gen.classes, y_pred, target_names=target_names))"
      ],
      "execution_count": null,
      "outputs": [
        {
          "output_type": "stream",
          "text": [
            "Confusion Matrix\n",
            "[[115  47  80]\n",
            " [121  50  63]\n",
            " [ 80  26  42]]\n",
            "Classification Report\n",
            "                     precision    recall  f1-score   support\n",
            "\n",
            "Bacterial Pneumonia       0.36      0.48      0.41       242\n",
            "             Normal       0.41      0.21      0.28       234\n",
            "    Viral Pneumonia       0.23      0.28      0.25       148\n",
            "\n",
            "           accuracy                           0.33       624\n",
            "          macro avg       0.33      0.32      0.31       624\n",
            "       weighted avg       0.35      0.33      0.32       624\n",
            "\n"
          ],
          "name": "stdout"
        }
      ]
    },
    {
      "cell_type": "code",
      "metadata": {
        "id": "qbp29USDi7Br",
        "colab": {
          "base_uri": "https://localhost:8080/",
          "height": 35
        },
        "outputId": "4cbe52e6-b3cb-4740-d751-0e3b313da181"
      },
      "source": [
        "Y_pred.shape"
      ],
      "execution_count": null,
      "outputs": [
        {
          "output_type": "execute_result",
          "data": {
            "text/plain": [
              "(624, 3)"
            ]
          },
          "metadata": {
            "tags": []
          },
          "execution_count": 8
        }
      ]
    },
    {
      "cell_type": "code",
      "metadata": {
        "id": "z04lUg4acq6V",
        "colab": {
          "base_uri": "https://localhost:8080/",
          "height": 297
        },
        "outputId": "29b6e27d-a894-4379-cd0a-0c545a0def5d"
      },
      "source": [
        "fig, axes = plt.subplots(nrows=1, ncols=2, figsize=(11,4))\n",
        "axes[0].plot(r.history['accuracy'], label='Accuracy')\n",
        "axes[0].plot(r.history['val_accuracy'], label='Validation Accuracy')\n",
        "axes[0].legend()\n",
        "#plt.show()\n",
        "axes[1].plot(r.history['loss'], label='Loss')\n",
        "axes[1].plot(r.history['val_loss'], label='Validation Loss')\n",
        "axes[1].legend()\n",
        "fig.tight_layout()"
      ],
      "execution_count": null,
      "outputs": [
        {
          "output_type": "display_data",
          "data": {
            "image/png": "[encoded data removed]",
            "text/plain": [
              "<Figure size 792x288 with 2 Axes>"
            ]
          },
          "metadata": {
            "tags": [],
            "needs_background": "light"
          }
        }
      ]
    },
    {
      "cell_type": "code",
      "metadata": {
        "id": "Q338_-WEI2AR"
      },
      "source": [
        "accuracy = r.history['accuracy']\n",
        "loss = r.history['loss']\n",
        "val_accuracy = r.history['val_accuracy']\n",
        "val_loss = r.history['val_loss']"
      ],
      "execution_count": null,
      "outputs": []
    },
    {
      "cell_type": "code",
      "metadata": {
        "id": "AX-UcEEQbjZl",
        "colab": {
          "base_uri": "https://localhost:8080/",
          "height": 926
        },
        "outputId": "3cd0022c-2042-449b-9175-aa9bae3cf1d6"
      },
      "source": [
        "accuracy"
      ],
      "execution_count": null,
      "outputs": [
        {
          "output_type": "execute_result",
          "data": {
            "text/plain": [
              "[0.7182827591896057,\n",
              " 0.8455787897109985,\n",
              " 0.9087996482849121,\n",
              " 0.9523707628250122,\n",
              " 0.9715933203697205,\n",
              " 0.9818453788757324,\n",
              " 0.9773601293563843,\n",
              " 0.936352014541626,\n",
              " 0.9662537574768066,\n",
              " 0.9604869484901428,\n",
              " 0.9713797569274902,\n",
              " 0.970952570438385,\n",
              " 0.9790687561035156,\n",
              " 0.9700982570648193,\n",
              " 0.9884664416313171,\n",
              " 0.9916702508926392,\n",
              " 0.9758650064468384,\n",
              " 0.9946603775024414,\n",
              " 0.9944468140602112,\n",
              " 0.9918838143348694,\n",
              " 0.9876121282577515,\n",
              " 0.9846219420433044,\n",
              " 0.9692438840866089,\n",
              " 0.9856898784637451,\n",
              " 0.989961564540863,\n",
              " 0.9632635712623596,\n",
              " 0.9901751279830933,\n",
              " 0.9965826272964478,\n",
              " 1.0,\n",
              " 0.9995728135108948,\n",
              " 1.0,\n",
              " 1.0,\n",
              " 1.0,\n",
              " 1.0,\n",
              " 1.0,\n",
              " 1.0,\n",
              " 1.0,\n",
              " 1.0,\n",
              " 1.0,\n",
              " 1.0,\n",
              " 1.0,\n",
              " 1.0,\n",
              " 1.0,\n",
              " 1.0,\n",
              " 1.0,\n",
              " 1.0,\n",
              " 1.0,\n",
              " 1.0,\n",
              " 1.0,\n",
              " 1.0]"
            ]
          },
          "metadata": {
            "tags": []
          },
          "execution_count": 10
        }
      ]
    },
    {
      "cell_type": "code",
      "metadata": {
        "id": "JFO4hZpobnf6",
        "colab": {
          "base_uri": "https://localhost:8080/",
          "height": 926
        },
        "outputId": "9b68eb75-33e3-4c55-8f95-949b07dfb317"
      },
      "source": [
        "loss"
      ],
      "execution_count": null,
      "outputs": [
        {
          "output_type": "execute_result",
          "data": {
            "text/plain": [
              "[3.4051589965820312,\n",
              " 0.41196495294570923,\n",
              " 0.22610047459602356,\n",
              " 0.11634121090173721,\n",
              " 0.0771656483411789,\n",
              " 0.04599877819418907,\n",
              " 0.06513515114784241,\n",
              " 0.22212867438793182,\n",
              " 0.09706691652536392,\n",
              " 0.11558060348033905,\n",
              " 0.07826320827007294,\n",
              " 0.09903634339570999,\n",
              " 0.06983768194913864,\n",
              " 0.10778628289699554,\n",
              " 0.03279441222548485,\n",
              " 0.029594700783491135,\n",
              " 0.08048583567142487,\n",
              " 0.013516820967197418,\n",
              " 0.011922680772840977,\n",
              " 0.026422947645187378,\n",
              " 0.0421532467007637,\n",
              " 0.04844187572598457,\n",
              " 0.12172544002532959,\n",
              " 0.053886618465185165,\n",
              " 0.039139945060014725,\n",
              " 0.14770740270614624,\n",
              " 0.030942747369408607,\n",
              " 0.009396196343004704,\n",
              " 0.0008261521579697728,\n",
              " 0.0020409272983670235,\n",
              " 0.00014204549370333552,\n",
              " 2.808603494486306e-05,\n",
              " 2.340135324629955e-05,\n",
              " 2.0384266463224776e-05,\n",
              " 1.7849632058641873e-05,\n",
              " 1.5932810129015706e-05,\n",
              " 1.4214722796168644e-05,\n",
              " 1.276122475246666e-05,\n",
              " 1.1586347682168707e-05,\n",
              " 1.043177235260373e-05,\n",
              " 9.482336281507742e-06,\n",
              " 8.60856926010456e-06,\n",
              " 7.823544365237467e-06,\n",
              " 7.0687042352801654e-06,\n",
              " 6.378785656124819e-06,\n",
              " 5.801847237307811e-06,\n",
              " 5.28420378032024e-06,\n",
              " 4.825312771572499e-06,\n",
              " 4.4149405766802374e-06,\n",
              " 4.040745807287749e-06]"
            ]
          },
          "metadata": {
            "tags": []
          },
          "execution_count": 11
        }
      ]
    },
    {
      "cell_type": "code",
      "metadata": {
        "id": "1sZIsEmIbozq",
        "colab": {
          "base_uri": "https://localhost:8080/",
          "height": 926
        },
        "outputId": "384f48ac-ccbe-455b-95bd-feed5b384541"
      },
      "source": [
        "val_accuracy"
      ],
      "execution_count": null,
      "outputs": [
        {
          "output_type": "execute_result",
          "data": {
            "text/plain": [
              "[0.8090909123420715,\n",
              " 0.774545431137085,\n",
              " 0.7981818318367004,\n",
              " 0.7909091114997864,\n",
              " 0.7909091114997864,\n",
              " 0.778181791305542,\n",
              " 0.8090909123420715,\n",
              " 0.7799999713897705,\n",
              " 0.7581818103790283,\n",
              " 0.7727272510528564,\n",
              " 0.7854545712471008,\n",
              " 0.7890909314155579,\n",
              " 0.7836363911628723,\n",
              " 0.7963636517524719,\n",
              " 0.7981818318367004,\n",
              " 0.7418181896209717,\n",
              " 0.7945454716682434,\n",
              " 0.7818182110786438,\n",
              " 0.7854545712471008,\n",
              " 0.800000011920929,\n",
              " 0.778181791305542,\n",
              " 0.7890909314155579,\n",
              " 0.7836363911628723,\n",
              " 0.7636363506317139,\n",
              " 0.774545431137085,\n",
              " 0.7927272915840149,\n",
              " 0.7836363911628723,\n",
              " 0.7818182110786438,\n",
              " 0.7836363911628723,\n",
              " 0.7854545712471008,\n",
              " 0.7909091114997864,\n",
              " 0.7890909314155579,\n",
              " 0.7890909314155579,\n",
              " 0.7909091114997864,\n",
              " 0.7927272915840149,\n",
              " 0.7927272915840149,\n",
              " 0.7927272915840149,\n",
              " 0.7927272915840149,\n",
              " 0.7927272915840149,\n",
              " 0.7927272915840149,\n",
              " 0.7927272915840149,\n",
              " 0.7927272915840149,\n",
              " 0.7927272915840149,\n",
              " 0.7927272915840149,\n",
              " 0.7927272915840149,\n",
              " 0.7963636517524719,\n",
              " 0.7963636517524719,\n",
              " 0.7963636517524719,\n",
              " 0.7963636517524719,\n",
              " 0.7963636517524719]"
            ]
          },
          "metadata": {
            "tags": []
          },
          "execution_count": 12
        }
      ]
    },
    {
      "cell_type": "code",
      "metadata": {
        "id": "Da1alTqRbqKd",
        "colab": {
          "base_uri": "https://localhost:8080/",
          "height": 926
        },
        "outputId": "342bd4f9-3ce1-478e-916c-e2dd910fc428"
      },
      "source": [
        "val_loss"
      ],
      "execution_count": null,
      "outputs": [
        {
          "output_type": "execute_result",
          "data": {
            "text/plain": [
              "[0.507800817489624,\n",
              " 0.5908948183059692,\n",
              " 0.6054913401603699,\n",
              " 0.7528656125068665,\n",
              " 0.8700924515724182,\n",
              " 1.1228649616241455,\n",
              " 1.2219974994659424,\n",
              " 1.193079948425293,\n",
              " 1.2627557516098022,\n",
              " 1.0109003782272339,\n",
              " 1.5562087297439575,\n",
              " 2.488037109375,\n",
              " 1.7071352005004883,\n",
              " 2.275761604309082,\n",
              " 1.2943395376205444,\n",
              " 1.674222469329834,\n",
              " 1.9630086421966553,\n",
              " 2.4021599292755127,\n",
              " 2.1273419857025146,\n",
              " 2.2822742462158203,\n",
              " 1.529723048210144,\n",
              " 2.579923629760742,\n",
              " 1.7239251136779785,\n",
              " 2.3581197261810303,\n",
              " 3.1693434715270996,\n",
              " 1.7095810174942017,\n",
              " 1.6965912580490112,\n",
              " 2.400623321533203,\n",
              " 1.864118218421936,\n",
              " 2.1389567852020264,\n",
              " 2.241079330444336,\n",
              " 2.2541422843933105,\n",
              " 2.277255058288574,\n",
              " 2.28054141998291,\n",
              " 2.2909655570983887,\n",
              " 2.2857046127319336,\n",
              " 2.2912728786468506,\n",
              " 2.3076255321502686,\n",
              " 2.3170952796936035,\n",
              " 2.327481985092163,\n",
              " 2.337733745574951,\n",
              " 2.345423936843872,\n",
              " 2.35306978225708,\n",
              " 2.3657379150390625,\n",
              " 2.383208990097046,\n",
              " 2.4043095111846924,\n",
              " 2.410238027572632,\n",
              " 2.4238088130950928,\n",
              " 2.4411356449127197,\n",
              " 2.459576368331909]"
            ]
          },
          "metadata": {
            "tags": []
          },
          "execution_count": 13
        }
      ]
    },
    {
      "cell_type": "code",
      "metadata": {
        "id": "0PMcAnpKc16p",
        "colab": {
          "base_uri": "https://localhost:8080/",
          "height": 35
        },
        "outputId": "316dab5d-4aa7-4e3f-ed7a-735951488670"
      },
      "source": [
        "print(len(accuracy),len(loss),len(val_accuracy),len(val_loss))"
      ],
      "execution_count": null,
      "outputs": [
        {
          "output_type": "stream",
          "text": [
            "50 50 50 50\n"
          ],
          "name": "stdout"
        }
      ]
    },
    {
      "cell_type": "code",
      "metadata": {
        "id": "5AaOFISZc_07"
      },
      "source": [
        "from sklearn.metrics import confusion_matrix\n",
        "import itertools\n",
        "\n",
        "def plot_confusion_matrix(cm, classes,\n",
        "                          normalize=False,\n",
        "                          title='MobileNetV2 without augmentation',\n",
        "                          cmap=plt.cm.Blues):\n",
        "  if normalize:\n",
        "      cm = cm.astype('float') / cm.sum(axis=1)[:, np.newaxis]\n",
        "      print(\"Normalized confusion matrix\")\n",
        "  else:\n",
        "      print('Confusion matrix, without normalization')\n",
        "\n",
        "  print(cm)\n",
        "\n",
        "  plt.imshow(cm, interpolation='nearest', cmap=cmap)\n",
        "  plt.title(title)\n",
        "  plt.colorbar()\n",
        "  tick_marks = np.arange(len(classes))\n",
        "  plt.xticks(tick_marks, classes, rotation=45)\n",
        "  plt.yticks(tick_marks, classes)\n",
        "\n",
        "  fmt = '.2f' if normalize else 'd'\n",
        "  thresh = cm.max() / 2.\n",
        "  for i, j in itertools.product(range(cm.shape[0]), range(cm.shape[1])):\n",
        "      plt.text(j, i, format(cm[i, j], fmt),\n",
        "               horizontalalignment=\"center\",\n",
        "               color=\"white\" if cm[i, j] > thresh else \"black\")\n",
        "\n",
        "  plt.tight_layout()\n",
        "  plt.ylabel('True label')\n",
        "  plt.xlabel('Predicted label')\n",
        "  plt.savefig(\"mobile_net_without_aug_40_epoch.png\")\n",
        "  plt.show()\n",
        "  "
      ],
      "execution_count": null,
      "outputs": []
    },
    {
      "cell_type": "code",
      "metadata": {
        "id": "_HuOcMOVPV5y",
        "colab": {
          "base_uri": "https://localhost:8080/",
          "height": 384
        },
        "outputId": "f3076c22-b740-4500-8a62-bbd59266b7e7"
      },
      "source": [
        "# cm = confusion_matrix(y_test, p_test)\n",
        "plot_confusion_matrix(cm, ['BP','N', 'VP'])"
      ],
      "execution_count": null,
      "outputs": [
        {
          "output_type": "stream",
          "text": [
            "Confusion matrix, without normalization\n",
            "[[230   3   9]\n",
            " [ 28 121  85]\n",
            " [ 59   1  88]]\n"
          ],
          "name": "stdout"
        },
        {
          "output_type": "display_data",
          "data": {
            "image/png": "[encoded data removed]",
            "text/plain": [
              "<Figure size 432x288 with 2 Axes>"
            ]
          },
          "metadata": {
            "tags": [],
            "needs_background": "light"
          }
        }
      ]
    },
    {
      "cell_type": "code",
      "metadata": {
        "id": "TYtqrDG0Rkmu"
      },
      "source": [
        ""
      ],
      "execution_count": null,
      "outputs": []
    }
  ]
}