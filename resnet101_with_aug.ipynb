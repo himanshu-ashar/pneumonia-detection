{
  "nbformat": 4,
  "nbformat_minor": 0,
  "metadata": {
    "colab": {
      "name": "resnet101_with_aug.ipynb",
      "provenance": []
    },
    "kernelspec": {
      "name": "python3",
      "display_name": "Python 3"
    },
    "accelerator": "GPU"
  },
  "cells": [
    {
      "cell_type": "code",
      "metadata": {
        "id": "IGxv_gcL37Xt",
        "colab": {
          "base_uri": "https://localhost:8080/",
          "height": 128
        },
        "outputId": "56971fc4-0893-413f-c921-a7918f4e36aa"
      },
      "source": [
        "from google.colab import drive\n",
        "drive.mount(\"/content/drive\")"
      ],
      "execution_count": null,
      "outputs": [
        {
          "output_type": "stream",
          "text": [
            "Go to this URL in a browser: https://accounts.google.com/o/oauth2/auth?client_id=947318989803-6bn6qk8qdgf4n4g3pfee6491hc0brc4i.apps.googleusercontent.com&redirect_uri=urn%3aietf%3awg%3aoauth%3a2.0%3aoob&scope=email%20https%3a%2f%2fwww.googleapis.com%2fauth%2fdocs.test%20https%3a%2f%2fwww.googleapis.com%2fauth%2fdrive%20https%3a%2f%2fwww.googleapis.com%2fauth%2fdrive.photos.readonly%20https%3a%2f%2fwww.googleapis.com%2fauth%2fpeopleapi.readonly&response_type=code\n",
            "\n",
            "Enter your authorization code:\n",
            "··········\n",
            "Mounted at /content/drive\n"
          ],
          "name": "stdout"
        }
      ]
    },
    {
      "cell_type": "code",
      "metadata": {
        "id": "ZJl1I_UN4Ewx"
      },
      "source": [
        "import numpy as np \n",
        "import pandas as pd \n",
        "from matplotlib import pyplot as plt\n",
        "from tensorflow.keras.layers import Dense, Dropout, Flatten\n",
        "from tensorflow.keras.models import Model, Sequential\n",
        "from tensorflow.keras.preprocessing.image import ImageDataGenerator\n",
        "from tensorflow.keras.preprocessing.image import ImageDataGenerator\n",
        "import matplotlib.pyplot as plt\n",
        "from tensorflow.keras import callbacks\n",
        "import os\n",
        "import tensorflow as tf\n",
        "from tensorflow.keras.models import load_model"
      ],
      "execution_count": null,
      "outputs": []
    },
    {
      "cell_type": "code",
      "metadata": {
        "id": "7KxrbCOGWQiO",
        "colab": {
          "base_uri": "https://localhost:8080/",
          "height": 235
        },
        "outputId": "dfb7493f-1904-411f-8904-16df4301cba1"
      },
      "source": [
        "print(\"Training set:\")\n",
        "for content in os.listdir(\"/content/drive/My Drive/pneumonia_detection_1/pneumonia-detection/train\"):\n",
        "    print(str(len(os.listdir(\"/content/drive/My Drive/pneumonia_detection_1/pneumonia-detection/train/\"+content))),content,\"images.\")\n",
        "\n",
        "print(\"Validation set:\")\n",
        "for content in os.listdir(\"/content/drive/My Drive/pneumonia_detection_1/pneumonia-detection/validation\"):\n",
        "    print(str(len(os.listdir(\"/content/drive/My Drive/pneumonia_detection_1/pneumonia-detection/validation/\"+content))),content,\"images.\")\n",
        "\n",
        "\n",
        "print(\"Test set:\")\n",
        "for content in os.listdir(\"/content/drive/My Drive/pneumonia_detection_1/pneumonia-detection/test\"):\n",
        "    print(str(len(os.listdir(\"/content/drive/My Drive/pneumonia_detection_1/pneumonia-detection/test/\"+content))),content,\"images.\")"
      ],
      "execution_count": null,
      "outputs": [
        {
          "output_type": "stream",
          "text": [
            "Training set:\n",
            "2288 Bacterial Pneumonia images.\n",
            "1199 Normal images.\n",
            "1196 Viral Pneumonia images.\n",
            "Validation set:\n",
            "151 Viral Pneumonia images.\n",
            "250 Bacterial Pneumonia images.\n",
            "150 Normal images.\n",
            "Test set:\n",
            "242 Bacterial Pneumonia images.\n",
            "234 Normal images.\n",
            "149 Viral Pneumonia images.\n"
          ],
          "name": "stdout"
        }
      ]
    },
    {
      "cell_type": "code",
      "metadata": {
        "id": "B5Uz-zWo4Yvd",
        "colab": {
          "base_uri": "https://localhost:8080/",
          "height": 72
        },
        "outputId": "425f528e-2545-4652-8c37-cdfa6b804334"
      },
      "source": [
        "data_generator = ImageDataGenerator(rescale=1./255,\n",
        "                                    rotation_range=30,\n",
        "                                    zoom_range=0.15,\n",
        "                                    width_shift_range=0.2,\n",
        "                                    height_shift_range=0.2,\n",
        "                                    shear_range=0.15,\n",
        "                                    horizontal_flip=True,\n",
        "                                    fill_mode=\"nearest\"\n",
        "                                    )\n",
        "\n",
        "\n",
        "# data_generator = ImageDataGenerator(rescale=1./255)\n",
        "\n",
        "data_generat = ImageDataGenerator(rescale=1./255)\n",
        "\n",
        "train_gen = data_generator.flow_from_directory(\"/content/drive/My Drive/pneumonia_detection_1/pneumonia-detection/train\",\n",
        "                                               target_size=(256,256),\n",
        "                                               color_mode='rgb',\n",
        "                                               class_mode=\"categorical\",\n",
        "                                               batch_size=32,\n",
        "                                               shuffle=True)\n",
        "\n",
        "val_gen = data_generat.flow_from_directory(\"/content/drive/My Drive/pneumonia_detection_1/pneumonia-detection/validation\",\n",
        "                                               target_size=(256,256),\n",
        "                                               color_mode='rgb',\n",
        "                                               class_mode=\"categorical\",\n",
        "                                               batch_size=32)\n",
        "\n",
        "test_gen = data_generat.flow_from_directory(\"/content/drive/My Drive/pneumonia_detection_1/pneumonia-detection/test\",\n",
        "                                               target_size=(256,256),\n",
        "                                               color_mode='rgb',\n",
        "                                               class_mode=\"categorical\",\n",
        "                                               batch_size=32)"
      ],
      "execution_count": null,
      "outputs": [
        {
          "output_type": "stream",
          "text": [
            "Found 4682 images belonging to 3 classes.\n",
            "Found 550 images belonging to 3 classes.\n",
            "Found 624 images belonging to 3 classes.\n"
          ],
          "name": "stdout"
        }
      ]
    },
    {
      "cell_type": "code",
      "metadata": {
        "id": "X6ZBLXy65h9a",
        "colab": {
          "base_uri": "https://localhost:8080/",
          "height": 55
        },
        "outputId": "927f6d59-2884-4357-fc46-841abd77fefe"
      },
      "source": [
        "print(train_gen.class_indices, test_gen.class_indices, val_gen.class_indices)"
      ],
      "execution_count": null,
      "outputs": [
        {
          "output_type": "stream",
          "text": [
            "{'Bacterial Pneumonia': 0, 'Normal': 1, 'Viral Pneumonia': 2} {'Bacterial Pneumonia': 0, 'Normal': 1, 'Viral Pneumonia': 2} {'Bacterial Pneumonia': 0, 'Normal': 1, 'Viral Pneumonia': 2}\n"
          ],
          "name": "stdout"
        }
      ]
    },
    {
      "cell_type": "code",
      "metadata": {
        "id": "kbNNC4UD4pYY",
        "colab": {
          "base_uri": "https://localhost:8080/",
          "height": 74
        },
        "outputId": "34d28ba1-700b-4325-d5d0-0eadc610dfd2"
      },
      "source": [
        "from tensorflow.keras.layers import Flatten\n",
        "resnet = tf.keras.applications.resnet.ResNet101(input_shape=(256,256,3), weights='imagenet', include_top=False)\n",
        "x = Flatten()(resnet.output)\n",
        "x = Dense(512 ,activation='relu')(x)\n",
        "x = Dense(64 ,activation='relu')(x)\n",
        "prediction = Dense(3 ,activation='softmax')(x),\n",
        "model = Model(inputs=resnet.input, outputs=prediction)\n",
        "\n",
        "for layer in resnet.layers:\n",
        "    layer.trainable = False"
      ],
      "execution_count": null,
      "outputs": [
        {
          "output_type": "stream",
          "text": [
            "Downloading data from https://storage.googleapis.com/tensorflow/keras-applications/resnet/resnet101_weights_tf_dim_ordering_tf_kernels_notop.h5\n",
            "171450368/171446536 [==============================] - 2s 0us/step\n"
          ],
          "name": "stdout"
        }
      ]
    },
    {
      "cell_type": "code",
      "metadata": {
        "id": "BwExYQ995GZv"
      },
      "source": [
        "model.compile(optimizer='adam', loss='categorical_crossentropy', metrics=['accuracy'])"
      ],
      "execution_count": null,
      "outputs": []
    },
    {
      "cell_type": "code",
      "metadata": {
        "id": "ZEiH1ixc5c_K"
      },
      "source": [
        "class CustomSaver(callbacks.Callback):\n",
        "    def on_epoch_end(self, epoch, logs=None):\n",
        "        if epoch == 19 or epoch==39 or epoch==49:  # or save after some epoch, each k-th epoch etc.\n",
        "            count = epoch+1\n",
        "            self.model.save(\"/content/drive/My Drive/pneumonia_resnet101_aug/model_epoch_{}_loss_{}.h5\".format(count, logs[\"loss\"]))\n",
        "            print(\"\\nEpoch {} over. Saving model\".format(count))\n",
        "\n",
        "model_saver = CustomSaver()"
      ],
      "execution_count": null,
      "outputs": []
    },
    {
      "cell_type": "code",
      "metadata": {
        "id": "gnMrZJ7b6OR0",
        "colab": {
          "base_uri": "https://localhost:8080/",
          "height": 1000
        },
        "outputId": "90a36509-4d5d-4d73-a26c-8a9fbc9640b8"
      },
      "source": [
        "r = model.fit(\n",
        "    train_gen,\n",
        "    validation_data=val_gen,\n",
        "    epochs=50,\n",
        "    callbacks=[model_saver]\n",
        ")"
      ],
      "execution_count": null,
      "outputs": [
        {
          "output_type": "stream",
          "text": [
            "Epoch 1/50\n",
            "147/147 [==============================] - 1301s 9s/step - loss: 3.0328 - accuracy: 0.4859 - val_loss: 3.0791 - val_accuracy: 0.2891\n",
            "Epoch 2/50\n",
            "147/147 [==============================] - 166s 1s/step - loss: 1.5199 - accuracy: 0.5254 - val_loss: 0.9917 - val_accuracy: 0.5491\n",
            "Epoch 3/50\n",
            "147/147 [==============================] - 166s 1s/step - loss: 1.2175 - accuracy: 0.5355 - val_loss: 1.0692 - val_accuracy: 0.4218\n",
            "Epoch 4/50\n",
            "147/147 [==============================] - 166s 1s/step - loss: 0.9890 - accuracy: 0.5942 - val_loss: 0.8463 - val_accuracy: 0.5600\n",
            "Epoch 5/50\n",
            "147/147 [==============================] - 166s 1s/step - loss: 0.8836 - accuracy: 0.5980 - val_loss: 0.7384 - val_accuracy: 0.6418\n",
            "Epoch 6/50\n",
            "147/147 [==============================] - 166s 1s/step - loss: 0.8749 - accuracy: 0.6256 - val_loss: 0.7845 - val_accuracy: 0.6473\n",
            "Epoch 7/50\n",
            "147/147 [==============================] - 165s 1s/step - loss: 0.9242 - accuracy: 0.5931 - val_loss: 0.7539 - val_accuracy: 0.6836\n",
            "Epoch 8/50\n",
            "147/147 [==============================] - 166s 1s/step - loss: 0.8084 - accuracy: 0.6346 - val_loss: 0.7367 - val_accuracy: 0.6473\n",
            "Epoch 9/50\n",
            "147/147 [==============================] - 166s 1s/step - loss: 0.7615 - accuracy: 0.6514 - val_loss: 0.6641 - val_accuracy: 0.7164\n",
            "Epoch 10/50\n",
            "147/147 [==============================] - 166s 1s/step - loss: 0.8064 - accuracy: 0.6267 - val_loss: 0.8566 - val_accuracy: 0.5982\n",
            "Epoch 11/50\n",
            "147/147 [==============================] - 165s 1s/step - loss: 0.7867 - accuracy: 0.6416 - val_loss: 0.7241 - val_accuracy: 0.6582\n",
            "Epoch 12/50\n",
            "147/147 [==============================] - 166s 1s/step - loss: 0.7735 - accuracy: 0.6440 - val_loss: 0.6991 - val_accuracy: 0.7382\n",
            "Epoch 13/50\n",
            "147/147 [==============================] - 166s 1s/step - loss: 0.7722 - accuracy: 0.6534 - val_loss: 0.7121 - val_accuracy: 0.6709\n",
            "Epoch 14/50\n",
            "147/147 [==============================] - 165s 1s/step - loss: 0.7785 - accuracy: 0.6425 - val_loss: 0.7172 - val_accuracy: 0.6600\n",
            "Epoch 15/50\n",
            "147/147 [==============================] - 167s 1s/step - loss: 0.7469 - accuracy: 0.6615 - val_loss: 0.6560 - val_accuracy: 0.7218\n",
            "Epoch 16/50\n",
            "147/147 [==============================] - 166s 1s/step - loss: 0.7521 - accuracy: 0.6707 - val_loss: 0.6503 - val_accuracy: 0.7145\n",
            "Epoch 17/50\n",
            "147/147 [==============================] - 167s 1s/step - loss: 0.7495 - accuracy: 0.6561 - val_loss: 0.6558 - val_accuracy: 0.7218\n",
            "Epoch 18/50\n",
            "147/147 [==============================] - 166s 1s/step - loss: 0.7581 - accuracy: 0.6521 - val_loss: 0.8339 - val_accuracy: 0.6091\n",
            "Epoch 19/50\n",
            "147/147 [==============================] - 166s 1s/step - loss: 0.7456 - accuracy: 0.6674 - val_loss: 0.6498 - val_accuracy: 0.7291\n",
            "Epoch 20/50\n",
            "147/147 [==============================] - ETA: 0s - loss: 0.7706 - accuracy: 0.6542\n",
            "Epoch 20 over. Saving model\n",
            "147/147 [==============================] - 171s 1s/step - loss: 0.7706 - accuracy: 0.6542 - val_loss: 0.6444 - val_accuracy: 0.7382\n",
            "Epoch 21/50\n",
            "147/147 [==============================] - 169s 1s/step - loss: 0.7444 - accuracy: 0.6619 - val_loss: 0.6542 - val_accuracy: 0.7436\n",
            "Epoch 22/50\n",
            "147/147 [==============================] - 165s 1s/step - loss: 0.7540 - accuracy: 0.6666 - val_loss: 0.6850 - val_accuracy: 0.7455\n",
            "Epoch 23/50\n",
            "147/147 [==============================] - 166s 1s/step - loss: 0.7512 - accuracy: 0.6724 - val_loss: 0.6912 - val_accuracy: 0.6873\n",
            "Epoch 24/50\n",
            "147/147 [==============================] - 166s 1s/step - loss: 0.7279 - accuracy: 0.6700 - val_loss: 0.8586 - val_accuracy: 0.6345\n",
            "Epoch 25/50\n",
            "147/147 [==============================] - 166s 1s/step - loss: 0.7357 - accuracy: 0.6687 - val_loss: 0.6432 - val_accuracy: 0.7382\n",
            "Epoch 26/50\n",
            "147/147 [==============================] - 166s 1s/step - loss: 0.7486 - accuracy: 0.6638 - val_loss: 0.6981 - val_accuracy: 0.7055\n",
            "Epoch 27/50\n",
            "147/147 [==============================] - 165s 1s/step - loss: 0.7489 - accuracy: 0.6687 - val_loss: 0.7283 - val_accuracy: 0.6509\n",
            "Epoch 28/50\n",
            "147/147 [==============================] - 165s 1s/step - loss: 0.7349 - accuracy: 0.6632 - val_loss: 0.7124 - val_accuracy: 0.7055\n",
            "Epoch 29/50\n",
            "147/147 [==============================] - 166s 1s/step - loss: 0.7341 - accuracy: 0.6756 - val_loss: 0.6649 - val_accuracy: 0.6982\n",
            "Epoch 30/50\n",
            "147/147 [==============================] - 166s 1s/step - loss: 0.7219 - accuracy: 0.6751 - val_loss: 0.6189 - val_accuracy: 0.7400\n",
            "Epoch 31/50\n",
            "147/147 [==============================] - 165s 1s/step - loss: 0.7107 - accuracy: 0.6901 - val_loss: 0.6899 - val_accuracy: 0.6855\n",
            "Epoch 32/50\n",
            "147/147 [==============================] - 165s 1s/step - loss: 0.7334 - accuracy: 0.6807 - val_loss: 0.6993 - val_accuracy: 0.6927\n",
            "Epoch 33/50\n",
            "147/147 [==============================] - 165s 1s/step - loss: 0.7172 - accuracy: 0.6830 - val_loss: 0.6370 - val_accuracy: 0.7236\n",
            "Epoch 34/50\n",
            "147/147 [==============================] - 166s 1s/step - loss: 0.7333 - accuracy: 0.6751 - val_loss: 0.6265 - val_accuracy: 0.7455\n",
            "Epoch 35/50\n",
            "147/147 [==============================] - 165s 1s/step - loss: 0.7205 - accuracy: 0.6781 - val_loss: 0.6991 - val_accuracy: 0.6782\n",
            "Epoch 36/50\n",
            "147/147 [==============================] - 166s 1s/step - loss: 0.7333 - accuracy: 0.6766 - val_loss: 0.7432 - val_accuracy: 0.6582\n",
            "Epoch 37/50\n",
            "147/147 [==============================] - 164s 1s/step - loss: 0.7433 - accuracy: 0.6651 - val_loss: 0.6729 - val_accuracy: 0.6945\n",
            "Epoch 38/50\n",
            "147/147 [==============================] - 165s 1s/step - loss: 0.7233 - accuracy: 0.6715 - val_loss: 0.6897 - val_accuracy: 0.6927\n",
            "Epoch 39/50\n",
            "147/147 [==============================] - 164s 1s/step - loss: 0.7177 - accuracy: 0.6779 - val_loss: 0.7784 - val_accuracy: 0.6364\n",
            "Epoch 40/50\n",
            "147/147 [==============================] - ETA: 0s - loss: 0.7178 - accuracy: 0.6805\n",
            "Epoch 40 over. Saving model\n",
            "147/147 [==============================] - 170s 1s/step - loss: 0.7178 - accuracy: 0.6805 - val_loss: 0.6287 - val_accuracy: 0.7236\n",
            "Epoch 41/50\n",
            "147/147 [==============================] - 168s 1s/step - loss: 0.7234 - accuracy: 0.6807 - val_loss: 0.6946 - val_accuracy: 0.6909\n",
            "Epoch 42/50\n",
            "147/147 [==============================] - 166s 1s/step - loss: 0.7232 - accuracy: 0.6783 - val_loss: 0.7299 - val_accuracy: 0.6836\n",
            "Epoch 43/50\n",
            "147/147 [==============================] - 167s 1s/step - loss: 0.7259 - accuracy: 0.6681 - val_loss: 0.6238 - val_accuracy: 0.7600\n",
            "Epoch 44/50\n",
            "147/147 [==============================] - 167s 1s/step - loss: 0.7068 - accuracy: 0.6869 - val_loss: 0.7492 - val_accuracy: 0.6491\n",
            "Epoch 45/50\n",
            "147/147 [==============================] - 167s 1s/step - loss: 0.7083 - accuracy: 0.6820 - val_loss: 0.6491 - val_accuracy: 0.7145\n",
            "Epoch 46/50\n",
            "147/147 [==============================] - 165s 1s/step - loss: 0.7414 - accuracy: 0.6696 - val_loss: 0.6624 - val_accuracy: 0.6873\n",
            "Epoch 47/50\n",
            "147/147 [==============================] - 166s 1s/step - loss: 0.7116 - accuracy: 0.6850 - val_loss: 0.6165 - val_accuracy: 0.7436\n",
            "Epoch 48/50\n",
            "147/147 [==============================] - 165s 1s/step - loss: 0.7207 - accuracy: 0.6749 - val_loss: 0.6788 - val_accuracy: 0.7000\n",
            "Epoch 49/50\n",
            "147/147 [==============================] - 165s 1s/step - loss: 0.7092 - accuracy: 0.6933 - val_loss: 0.6106 - val_accuracy: 0.7527\n",
            "Epoch 50/50\n",
            "147/147 [==============================] - ETA: 0s - loss: 0.7044 - accuracy: 0.6950\n",
            "Epoch 50 over. Saving model\n",
            "147/147 [==============================] - 170s 1s/step - loss: 0.7044 - accuracy: 0.6950 - val_loss: 0.6369 - val_accuracy: 0.7309\n"
          ],
          "name": "stdout"
        }
      ]
    },
    {
      "cell_type": "code",
      "metadata": {
        "id": "kvEauKtrQTJX"
      },
      "source": [
        "model_50 = load_model(\"/content/drive/My Drive/pneumonia_resnet101_aug/model_epoch_50_loss_0.7044059038162231.h5\")"
      ],
      "execution_count": null,
      "outputs": []
    },
    {
      "cell_type": "code",
      "metadata": {
        "id": "3fqGuPS8QVbp"
      },
      "source": [
        "model_40 = load_model(\"/content/drive/My Drive/pneumonia_resnet101_aug/model_epoch_40_loss_0.7178491950035095.h5\")"
      ],
      "execution_count": null,
      "outputs": []
    },
    {
      "cell_type": "code",
      "metadata": {
        "id": "UtAdoSGJ6Y0t",
        "colab": {
          "base_uri": "https://localhost:8080/",
          "height": 54
        },
        "outputId": "d81881c8-28e1-416b-9106-8e8d2d54167e"
      },
      "source": [
        "model_50.evaluate(test_gen)"
      ],
      "execution_count": null,
      "outputs": [
        {
          "output_type": "stream",
          "text": [
            "20/20 [==============================] - 7s 326ms/step - loss: 0.6901 - accuracy: 0.7660\n"
          ],
          "name": "stdout"
        },
        {
          "output_type": "execute_result",
          "data": {
            "text/plain": [
              "[0.6900656819343567, 0.7660256624221802]"
            ]
          },
          "metadata": {
            "tags": []
          },
          "execution_count": 10
        }
      ]
    },
    {
      "cell_type": "code",
      "metadata": {
        "id": "xzfoif1NQYNi",
        "colab": {
          "base_uri": "https://localhost:8080/",
          "height": 54
        },
        "outputId": "00abce99-cff6-4192-fb98-28a10e72e0de"
      },
      "source": [
        "model_40.evaluate(test_gen)"
      ],
      "execution_count": null,
      "outputs": [
        {
          "output_type": "stream",
          "text": [
            "20/20 [==============================] - 192s 10s/step - loss: 0.8621 - accuracy: 0.6458\n"
          ],
          "name": "stdout"
        },
        {
          "output_type": "execute_result",
          "data": {
            "text/plain": [
              "[0.8621034026145935, 0.6458333134651184]"
            ]
          },
          "metadata": {
            "tags": []
          },
          "execution_count": 6
        }
      ]
    },
    {
      "cell_type": "code",
      "metadata": {
        "id": "77L0sUroktwE",
        "colab": {
          "base_uri": "https://localhost:8080/",
          "height": 235
        },
        "outputId": "284778d1-e28d-4410-dbfb-de0f9a042c18"
      },
      "source": [
        "from sklearn.metrics import confusion_matrix, classification_report\n",
        "\n",
        "y_pred = np.zeros([624,])\n",
        "y_test_full = np.zeros([624,])\n",
        "for i in range(0, 20):\n",
        "  (x_test, y_test) = test_gen[i]\n",
        "  Y_pred = model_50.predict(x_test)\n",
        "  y_test_full[32*i:32*i+32] = np.argmax(y_test, axis=1)\n",
        "  y_pred[32*i:32*i+32] = np.argmax(Y_pred, axis=1)\n",
        "print('Confusion Matrix')\n",
        "cm = confusion_matrix(y_test_full, y_pred)\n",
        "print('Classification Report')\n",
        "target_names = ['Bacterial Pneumonia', 'Normal', 'Viral Pneumonia']\n",
        "print(classification_report(y_test_full, y_pred, target_names=target_names))"
      ],
      "execution_count": null,
      "outputs": [
        {
          "output_type": "stream",
          "text": [
            "Confusion Matrix\n",
            "Classification Report\n",
            "                     precision    recall  f1-score   support\n",
            "\n",
            "Bacterial Pneumonia       0.79      0.82      0.80       242\n",
            "             Normal       0.75      0.82      0.79       234\n",
            "    Viral Pneumonia       0.74      0.59      0.65       148\n",
            "\n",
            "           accuracy                           0.77       624\n",
            "          macro avg       0.76      0.74      0.75       624\n",
            "       weighted avg       0.76      0.77      0.76       624\n",
            "\n"
          ],
          "name": "stdout"
        }
      ]
    },
    {
      "cell_type": "code",
      "metadata": {
        "id": "j5ipot7h6nmQ",
        "colab": {
          "base_uri": "https://localhost:8080/",
          "height": 381
        },
        "outputId": "e92cf2d1-ec70-4563-e867-deaa2ea24e89"
      },
      "source": [
        "print(train_gen.class_indices)\n",
        "print(val_gen.class_indices)\n",
        "print(test_gen.class_indices)\n",
        "# print(train_gen.classes)\n",
        "# print(val_gen.classes)\n",
        "print(test_gen.classes)"
      ],
      "execution_count": null,
      "outputs": [
        {
          "output_type": "stream",
          "text": [
            "{'Bacterial Pneumonia': 0, 'Normal': 1, 'Viral Pneumonia': 2}\n",
            "{'Bacterial Pneumonia': 0, 'Normal': 1, 'Viral Pneumonia': 2}\n",
            "{'Bacterial Pneumonia': 0, 'Normal': 1, 'Viral Pneumonia': 2}\n",
            "[0 0 0 0 0 0 0 0 0 0 0 0 0 0 0 0 0 0 0 0 0 0 0 0 0 0 0 0 0 0 0 0 0 0 0 0 0\n",
            " 0 0 0 0 0 0 0 0 0 0 0 0 0 0 0 0 0 0 0 0 0 0 0 0 0 0 0 0 0 0 0 0 0 0 0 0 0\n",
            " 0 0 0 0 0 0 0 0 0 0 0 0 0 0 0 0 0 0 0 0 0 0 0 0 0 0 0 0 0 0 0 0 0 0 0 0 0\n",
            " 0 0 0 0 0 0 0 0 0 0 0 0 0 0 0 0 0 0 0 0 0 0 0 0 0 0 0 0 0 0 0 0 0 0 0 0 0\n",
            " 0 0 0 0 0 0 0 0 0 0 0 0 0 0 0 0 0 0 0 0 0 0 0 0 0 0 0 0 0 0 0 0 0 0 0 0 0\n",
            " 0 0 0 0 0 0 0 0 0 0 0 0 0 0 0 0 0 0 0 0 0 0 0 0 0 0 0 0 0 0 0 0 0 0 0 0 0\n",
            " 0 0 0 0 0 0 0 0 0 0 0 0 0 0 0 0 0 0 0 0 1 1 1 1 1 1 1 1 1 1 1 1 1 1 1 1 1\n",
            " 1 1 1 1 1 1 1 1 1 1 1 1 1 1 1 1 1 1 1 1 1 1 1 1 1 1 1 1 1 1 1 1 1 1 1 1 1\n",
            " 1 1 1 1 1 1 1 1 1 1 1 1 1 1 1 1 1 1 1 1 1 1 1 1 1 1 1 1 1 1 1 1 1 1 1 1 1\n",
            " 1 1 1 1 1 1 1 1 1 1 1 1 1 1 1 1 1 1 1 1 1 1 1 1 1 1 1 1 1 1 1 1 1 1 1 1 1\n",
            " 1 1 1 1 1 1 1 1 1 1 1 1 1 1 1 1 1 1 1 1 1 1 1 1 1 1 1 1 1 1 1 1 1 1 1 1 1\n",
            " 1 1 1 1 1 1 1 1 1 1 1 1 1 1 1 1 1 1 1 1 1 1 1 1 1 1 1 1 1 1 1 1 1 1 1 1 1\n",
            " 1 1 1 1 1 1 1 1 1 1 1 1 1 1 1 1 1 1 1 1 1 1 1 1 1 1 1 1 1 1 1 1 2 2 2 2 2\n",
            " 2 2 2 2 2 2 2 2 2 2 2 2 2 2 2 2 2 2 2 2 2 2 2 2 2 2 2 2 2 2 2 2 2 2 2 2 2\n",
            " 2 2 2 2 2 2 2 2 2 2 2 2 2 2 2 2 2 2 2 2 2 2 2 2 2 2 2 2 2 2 2 2 2 2 2 2 2\n",
            " 2 2 2 2 2 2 2 2 2 2 2 2 2 2 2 2 2 2 2 2 2 2 2 2 2 2 2 2 2 2 2 2 2 2 2 2 2\n",
            " 2 2 2 2 2 2 2 2 2 2 2 2 2 2 2 2 2 2 2 2 2 2 2 2 2 2 2 2 2 2 2 2]\n"
          ],
          "name": "stdout"
        }
      ]
    },
    {
      "cell_type": "code",
      "metadata": {
        "id": "oIj8FfcRKl_5"
      },
      "source": [
        "model = load_model(\"/content/drive/My Drive/pneumonia_resnet101_aug/model_epoch_50_loss_0.7044059038162231.h5\")"
      ],
      "execution_count": null,
      "outputs": []
    },
    {
      "cell_type": "code",
      "metadata": {
        "id": "B0hRV7by6rbx",
        "colab": {
          "base_uri": "https://localhost:8080/",
          "height": 290
        },
        "outputId": "46413737-17b9-44d5-aa8e-e8947bac282e"
      },
      "source": [
        "from sklearn.metrics import classification_report, confusion_matrix\n",
        "import numpy as np\n",
        "Y_pred = model.predict(test_gen)\n",
        "Y_pred = np.array(Y_pred)\n",
        "Y_pred = Y_pred.reshape((624,3))\n",
        "y_pred = np.argmax(Y_pred, axis=1)\n",
        "print('Confusion Matrix')\n",
        "print(confusion_matrix(test_gen.classes, y_pred))\n",
        "print('Classification Report')\n",
        "target_names = ['Bacterial Pneumonia', 'Normal', 'Viral Pneumonia']\n",
        "print(classification_report(test_gen.classes, y_pred, target_names=target_names))"
      ],
      "execution_count": null,
      "outputs": [
        {
          "output_type": "stream",
          "text": [
            "Confusion Matrix\n",
            "[[ 91 104  47]\n",
            " [ 90 105  39]\n",
            " [ 69  47  32]]\n",
            "Classification Report\n",
            "                     precision    recall  f1-score   support\n",
            "\n",
            "Bacterial Pneumonia       0.36      0.38      0.37       242\n",
            "             Normal       0.41      0.45      0.43       234\n",
            "    Viral Pneumonia       0.27      0.22      0.24       148\n",
            "\n",
            "           accuracy                           0.37       624\n",
            "          macro avg       0.35      0.35      0.35       624\n",
            "       weighted avg       0.36      0.37      0.36       624\n",
            "\n"
          ],
          "name": "stdout"
        }
      ]
    },
    {
      "cell_type": "code",
      "metadata": {
        "id": "WqDXIe1Yf_LR",
        "colab": {
          "base_uri": "https://localhost:8080/",
          "height": 35
        },
        "outputId": "eac21893-9f66-4151-b6b9-1140b92021ad"
      },
      "source": [
        "Y_pred.shape"
      ],
      "execution_count": null,
      "outputs": [
        {
          "output_type": "execute_result",
          "data": {
            "text/plain": [
              "(624, 3)"
            ]
          },
          "metadata": {
            "tags": []
          },
          "execution_count": 9
        }
      ]
    },
    {
      "cell_type": "code",
      "metadata": {
        "id": "gLMHRsrw6vE8",
        "colab": {
          "base_uri": "https://localhost:8080/",
          "height": 297
        },
        "outputId": "bb0667a9-dae3-42af-8462-537118efb2fc"
      },
      "source": [
        "fig, axes = plt.subplots(nrows=1, ncols=2, figsize=(11,4))\n",
        "axes[0].plot(r.history['accuracy'], label='Accuracy')\n",
        "axes[0].plot(r.history['val_accuracy'], label='Validation Accuracy')\n",
        "axes[0].legend()\n",
        "#plt.show()\n",
        "axes[1].plot(r.history['loss'], label='Loss')\n",
        "axes[1].plot(r.history['val_loss'], label='Validation Loss')\n",
        "axes[1].legend()\n",
        "fig.tight_layout()"
      ],
      "execution_count": null,
      "outputs": [
        {
          "output_type": "display_data",
          "data": {
            "image/png": "[encoded data removed]",
            "text/plain": [
              "<Figure size 792x288 with 2 Axes>"
            ]
          },
          "metadata": {
            "tags": [],
            "needs_background": "light"
          }
        }
      ]
    },
    {
      "cell_type": "code",
      "metadata": {
        "id": "ydQJ7twa6zQI"
      },
      "source": [
        "accuracy = r.history['accuracy']\n",
        "loss = r.history['loss']\n",
        "val_accuracy = r.history['val_accuracy']\n",
        "val_loss = r.history['val_loss']"
      ],
      "execution_count": null,
      "outputs": []
    },
    {
      "cell_type": "code",
      "metadata": {
        "id": "TkRoXozc63RG",
        "colab": {
          "base_uri": "https://localhost:8080/",
          "height": 926
        },
        "outputId": "30d7d4cd-1b76-4337-e08c-be00628206f1"
      },
      "source": [
        "accuracy"
      ],
      "execution_count": null,
      "outputs": [
        {
          "output_type": "execute_result",
          "data": {
            "text/plain": [
              "[0.48590347170829773,\n",
              " 0.5254164934158325,\n",
              " 0.5354549288749695,\n",
              " 0.5941905379295349,\n",
              " 0.5980350375175476,\n",
              " 0.6255873441696167,\n",
              " 0.5931226015090942,\n",
              " 0.6345579028129578,\n",
              " 0.6514310240745544,\n",
              " 0.6266552805900574,\n",
              " 0.6416061520576477,\n",
              " 0.6439555883407593,\n",
              " 0.6533532738685608,\n",
              " 0.6424604654312134,\n",
              " 0.6614694595336914,\n",
              " 0.6706535816192627,\n",
              " 0.6561298370361328,\n",
              " 0.6520717740058899,\n",
              " 0.6674498319625854,\n",
              " 0.6542075872421265,\n",
              " 0.6618966460227966,\n",
              " 0.666595458984375,\n",
              " 0.6723622679710388,\n",
              " 0.6700128316879272,\n",
              " 0.6687313318252563,\n",
              " 0.663818895816803,\n",
              " 0.6687313318252563,\n",
              " 0.6631781458854675,\n",
              " 0.6755660176277161,\n",
              " 0.6751388311386108,\n",
              " 0.6900897026062012,\n",
              " 0.6806920170783997,\n",
              " 0.6830414533615112,\n",
              " 0.6751388311386108,\n",
              " 0.6781290173530579,\n",
              " 0.676633894443512,\n",
              " 0.6651003956794739,\n",
              " 0.6715078949928284,\n",
              " 0.6779153943061829,\n",
              " 0.6804784536361694,\n",
              " 0.6806920170783997,\n",
              " 0.6783425807952881,\n",
              " 0.6680905818939209,\n",
              " 0.6868859529495239,\n",
              " 0.6819735169410706,\n",
              " 0.669585645198822,\n",
              " 0.6849637031555176,\n",
              " 0.6749252676963806,\n",
              " 0.6932934522628784,\n",
              " 0.6950021386146545]"
            ]
          },
          "metadata": {
            "tags": []
          },
          "execution_count": 16
        }
      ]
    },
    {
      "cell_type": "code",
      "metadata": {
        "id": "cGS-Jwl064SU",
        "colab": {
          "base_uri": "https://localhost:8080/",
          "height": 926
        },
        "outputId": "84a47a88-0119-48fd-8e3c-18ee9ee711e0"
      },
      "source": [
        "loss"
      ],
      "execution_count": null,
      "outputs": [
        {
          "output_type": "execute_result",
          "data": {
            "text/plain": [
              "[3.0327906608581543,\n",
              " 1.5198649168014526,\n",
              " 1.2175387144088745,\n",
              " 0.9890176057815552,\n",
              " 0.8835972547531128,\n",
              " 0.8748606443405151,\n",
              " 0.9241876006126404,\n",
              " 0.8084126710891724,\n",
              " 0.7615094184875488,\n",
              " 0.8063968420028687,\n",
              " 0.7867058515548706,\n",
              " 0.7735403776168823,\n",
              " 0.7722216248512268,\n",
              " 0.7785233855247498,\n",
              " 0.7469313740730286,\n",
              " 0.7521395683288574,\n",
              " 0.7495357990264893,\n",
              " 0.758056104183197,\n",
              " 0.7456070780754089,\n",
              " 0.7705860137939453,\n",
              " 0.7444141507148743,\n",
              " 0.7540133595466614,\n",
              " 0.7512255907058716,\n",
              " 0.7279265522956848,\n",
              " 0.7357409000396729,\n",
              " 0.7485927939414978,\n",
              " 0.7488924264907837,\n",
              " 0.7348591089248657,\n",
              " 0.7341324687004089,\n",
              " 0.7219148874282837,\n",
              " 0.7106977701187134,\n",
              " 0.7333807349205017,\n",
              " 0.7171859741210938,\n",
              " 0.7332618236541748,\n",
              " 0.7205409407615662,\n",
              " 0.7332994937896729,\n",
              " 0.7433229684829712,\n",
              " 0.7233263850212097,\n",
              " 0.7176511883735657,\n",
              " 0.7178491950035095,\n",
              " 0.7234010696411133,\n",
              " 0.7232454419136047,\n",
              " 0.7259101271629333,\n",
              " 0.7068213820457458,\n",
              " 0.7083387970924377,\n",
              " 0.741364061832428,\n",
              " 0.7116442322731018,\n",
              " 0.7206723690032959,\n",
              " 0.70920729637146,\n",
              " 0.7044059038162231]"
            ]
          },
          "metadata": {
            "tags": []
          },
          "execution_count": 17
        }
      ]
    },
    {
      "cell_type": "code",
      "metadata": {
        "id": "cbgGRgiQ647l",
        "colab": {
          "base_uri": "https://localhost:8080/",
          "height": 926
        },
        "outputId": "55943b10-8173-40ab-baef-e9b24a2f4afc"
      },
      "source": [
        "val_accuracy"
      ],
      "execution_count": null,
      "outputs": [
        {
          "output_type": "execute_result",
          "data": {
            "text/plain": [
              "[0.2890909016132355,\n",
              " 0.5490909218788147,\n",
              " 0.42181816697120667,\n",
              " 0.5600000023841858,\n",
              " 0.6418181657791138,\n",
              " 0.6472727060317993,\n",
              " 0.6836363673210144,\n",
              " 0.6472727060317993,\n",
              " 0.7163636088371277,\n",
              " 0.5981818437576294,\n",
              " 0.6581818461418152,\n",
              " 0.7381818294525146,\n",
              " 0.6709091067314148,\n",
              " 0.6600000262260437,\n",
              " 0.721818208694458,\n",
              " 0.7145454287528992,\n",
              " 0.721818208694458,\n",
              " 0.6090909242630005,\n",
              " 0.7290909290313721,\n",
              " 0.7381818294525146,\n",
              " 0.7436363697052002,\n",
              " 0.7454545497894287,\n",
              " 0.6872727274894714,\n",
              " 0.6345454454421997,\n",
              " 0.7381818294525146,\n",
              " 0.7054545283317566,\n",
              " 0.6509090662002563,\n",
              " 0.7054545283317566,\n",
              " 0.6981818079948425,\n",
              " 0.7400000095367432,\n",
              " 0.6854545474052429,\n",
              " 0.692727267742157,\n",
              " 0.7236363887786865,\n",
              " 0.7454545497894287,\n",
              " 0.6781818270683289,\n",
              " 0.6581818461418152,\n",
              " 0.6945454478263855,\n",
              " 0.692727267742157,\n",
              " 0.6363636255264282,\n",
              " 0.7236363887786865,\n",
              " 0.6909090876579285,\n",
              " 0.6836363673210144,\n",
              " 0.7599999904632568,\n",
              " 0.6490908861160278,\n",
              " 0.7145454287528992,\n",
              " 0.6872727274894714,\n",
              " 0.7436363697052002,\n",
              " 0.699999988079071,\n",
              " 0.7527272701263428,\n",
              " 0.7309091091156006]"
            ]
          },
          "metadata": {
            "tags": []
          },
          "execution_count": 18
        }
      ]
    },
    {
      "cell_type": "code",
      "metadata": {
        "id": "47u1YMvz66Oh",
        "colab": {
          "base_uri": "https://localhost:8080/",
          "height": 926
        },
        "outputId": "6382b08e-dca9-4a3d-cd20-353f5b5af61b"
      },
      "source": [
        "val_loss"
      ],
      "execution_count": null,
      "outputs": [
        {
          "output_type": "execute_result",
          "data": {
            "text/plain": [
              "[3.0791072845458984,\n",
              " 0.991743266582489,\n",
              " 1.069204568862915,\n",
              " 0.8463345170021057,\n",
              " 0.7384243011474609,\n",
              " 0.7845495343208313,\n",
              " 0.7539387345314026,\n",
              " 0.7366737127304077,\n",
              " 0.6641096472740173,\n",
              " 0.8565673232078552,\n",
              " 0.7241212129592896,\n",
              " 0.6990783214569092,\n",
              " 0.7121178507804871,\n",
              " 0.71720951795578,\n",
              " 0.6559828519821167,\n",
              " 0.6503252387046814,\n",
              " 0.6557604074478149,\n",
              " 0.8338934779167175,\n",
              " 0.6497613787651062,\n",
              " 0.6444305181503296,\n",
              " 0.6542251706123352,\n",
              " 0.6850069165229797,\n",
              " 0.6911810040473938,\n",
              " 0.858589768409729,\n",
              " 0.6431591510772705,\n",
              " 0.6980972290039062,\n",
              " 0.7283324003219604,\n",
              " 0.7123700976371765,\n",
              " 0.6648681163787842,\n",
              " 0.6189035177230835,\n",
              " 0.6898806095123291,\n",
              " 0.6993023753166199,\n",
              " 0.6370419859886169,\n",
              " 0.6264604330062866,\n",
              " 0.6991211771965027,\n",
              " 0.7431870102882385,\n",
              " 0.6728854179382324,\n",
              " 0.6896829009056091,\n",
              " 0.7783536911010742,\n",
              " 0.6287256479263306,\n",
              " 0.6946448087692261,\n",
              " 0.7298659086227417,\n",
              " 0.6238246560096741,\n",
              " 0.7491973042488098,\n",
              " 0.6491391658782959,\n",
              " 0.6623744964599609,\n",
              " 0.6164805293083191,\n",
              " 0.6787774562835693,\n",
              " 0.6105872392654419,\n",
              " 0.6368982195854187]"
            ]
          },
          "metadata": {
            "tags": []
          },
          "execution_count": 19
        }
      ]
    },
    {
      "cell_type": "code",
      "metadata": {
        "id": "q6bsXo7l67Cv",
        "colab": {
          "base_uri": "https://localhost:8080/",
          "height": 35
        },
        "outputId": "c393d975-89ee-4a23-dd5c-c7b943dd209c"
      },
      "source": [
        "print(len(accuracy),len(loss),len(val_accuracy),len(val_loss))"
      ],
      "execution_count": null,
      "outputs": [
        {
          "output_type": "stream",
          "text": [
            "50 50 50 50\n"
          ],
          "name": "stdout"
        }
      ]
    },
    {
      "cell_type": "code",
      "metadata": {
        "id": "ZAjRjNAGe65H"
      },
      "source": [
        "from sklearn.metrics import confusion_matrix\n",
        "import itertools\n",
        "\n",
        "def plot_confusion_matrix(cm, classes,\n",
        "                          normalize=False,\n",
        "                          title='ResNet101 with augmentation',\n",
        "                          cmap=plt.cm.Blues):\n",
        "  if normalize:\n",
        "      cm = cm.astype('float') / cm.sum(axis=1)[:, np.newaxis]\n",
        "      print(\"Normalized confusion matrix\")\n",
        "  else:\n",
        "      print('Confusion matrix, without normalization')\n",
        "\n",
        "  print(cm)\n",
        "\n",
        "  plt.imshow(cm, interpolation='nearest', cmap=cmap)\n",
        "  plt.title(title)\n",
        "  plt.colorbar()\n",
        "  tick_marks = np.arange(len(classes))\n",
        "  plt.xticks(tick_marks, classes, rotation=45)\n",
        "  plt.yticks(tick_marks, classes)\n",
        "\n",
        "  fmt = '.2f' if normalize else 'd'\n",
        "  thresh = cm.max() / 2.\n",
        "  for i, j in itertools.product(range(cm.shape[0]), range(cm.shape[1])):\n",
        "      plt.text(j, i, format(cm[i, j], fmt),\n",
        "               horizontalalignment=\"center\",\n",
        "               color=\"white\" if cm[i, j] > thresh else \"black\")\n",
        "\n",
        "  plt.tight_layout()\n",
        "  plt.ylabel('True label')\n",
        "  plt.xlabel('Predicted label')\n",
        "  plt.savefig(\"resnet_with_aug_50_epoch.png\")\n",
        "  plt.show()\n"
      ],
      "execution_count": null,
      "outputs": []
    },
    {
      "cell_type": "code",
      "metadata": {
        "id": "8W-s_oElQIYZ",
        "colab": {
          "base_uri": "https://localhost:8080/",
          "height": 384
        },
        "outputId": "a89ec65b-5b9a-459e-8723-662e23295e5f"
      },
      "source": [
        "# cm = confusion_matrix(y_test, p_test)\n",
        "plot_confusion_matrix(cm, ['BP','N', 'VP'])"
      ],
      "execution_count": null,
      "outputs": [
        {
          "output_type": "stream",
          "text": [
            "Confusion matrix, without normalization\n",
            "[[198  39   5]\n",
            " [ 15 193  26]\n",
            " [ 37  24  87]]\n"
          ],
          "name": "stdout"
        },
        {
          "output_type": "display_data",
          "data": {
            "image/png": "[encoded data removed]",
            "text/plain": [
              "<Figure size 432x288 with 2 Axes>"
            ]
          },
          "metadata": {
            "tags": [],
            "needs_background": "light"
          }
        }
      ]
    },
    {
      "cell_type": "code",
      "metadata": {
        "id": "kcDRM-MYUyLr"
      },
      "source": [
        ""
      ],
      "execution_count": null,
      "outputs": []
    }
  ]
}