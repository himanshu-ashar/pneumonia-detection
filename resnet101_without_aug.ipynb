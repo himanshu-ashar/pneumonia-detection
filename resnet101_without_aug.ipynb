{
  "nbformat": 4,
  "nbformat_minor": 0,
  "metadata": {
    "colab": {
      "name": "Resnet101.ipynb",
      "provenance": [],
      "collapsed_sections": []
    },
    "kernelspec": {
      "name": "python3",
      "display_name": "Python 3"
    },
    "accelerator": "GPU"
  },
  "cells": [
    {
      "cell_type": "code",
      "metadata": {
        "id": "d1Y_C7uKt4XP",
        "colab": {
          "base_uri": "https://localhost:8080/",
          "height": 121
        },
        "outputId": "2c7db117-6e19-448a-af6e-c7a06d9fd9cd"
      },
      "source": [
        "from google.colab import drive\n",
        "drive.mount('/content/drive', force_remount=True)"
      ],
      "execution_count": null,
      "outputs": [
        {
          "output_type": "stream",
          "text": [
            "Go to this URL in a browser: https://accounts.google.com/o/oauth2/auth?client_id=947318989803-6bn6qk8qdgf4n4g3pfee6491hc0brc4i.apps.googleusercontent.com&redirect_uri=urn%3aietf%3awg%3aoauth%3a2.0%3aoob&scope=email%20https%3a%2f%2fwww.googleapis.com%2fauth%2fdocs.test%20https%3a%2f%2fwww.googleapis.com%2fauth%2fdrive%20https%3a%2f%2fwww.googleapis.com%2fauth%2fdrive.photos.readonly%20https%3a%2f%2fwww.googleapis.com%2fauth%2fpeopleapi.readonly&response_type=code\n",
            "\n",
            "Enter your authorization code:\n",
            "··········\n",
            "Mounted at /content/drive\n"
          ],
          "name": "stdout"
        }
      ]
    },
    {
      "cell_type": "code",
      "metadata": {
        "id": "eJ04mduyu5AO"
      },
      "source": [
        "import numpy as np \n",
        "import pandas as pd \n",
        "from matplotlib import pyplot as plt\n",
        "from tensorflow.keras.layers import Dense, Dropout\n",
        "from tensorflow.keras.models import Model, Sequential\n",
        "from tensorflow.keras.preprocessing.image import ImageDataGenerator\n",
        "from keras.preprocessing.image import ImageDataGenerator\n",
        "import matplotlib.pyplot as plt\n",
        "import tensorflow as tf\n",
        "import numpy as np\n",
        "import matplotlib.pyplot as plt\n",
        "from tensorflow.keras.layers import Dense, Dropout, Conv2D, MaxPooling2D, Flatten\n",
        "from tensorflow.keras.models import Model, Sequential, save_model, model_from_json, load_model\n",
        "from tensorflow.keras.preprocessing.image import ImageDataGenerator\n",
        "from tensorflow.keras import callbacks\n",
        "import os"
      ],
      "execution_count": null,
      "outputs": []
    },
    {
      "cell_type": "code",
      "metadata": {
        "id": "SiU22wVL-KZJ",
        "colab": {
          "base_uri": "https://localhost:8080/",
          "height": 218
        },
        "outputId": "0ed882e7-d7d3-4a46-dd8a-ce940f6c9bf4"
      },
      "source": [
        "print(\"Training set:\")\n",
        "for content in os.listdir(\"/content/drive/My Drive/pneumonia-detection1/train/\"):\n",
        "    print(str(len(os.listdir(\"/content/drive/My Drive/pneumonia-detection1/train/\"+content))),content,\"images.\")\n",
        "\n",
        "print(\"Validation set:\")\n",
        "for content in os.listdir(\"/content/drive/My Drive/pneumonia-detection1/validation/\"):\n",
        "    print(str(len(os.listdir(\"/content/drive/My Drive/pneumonia-detection1/validation/\"+content))),content,\"images.\")\n",
        "\n",
        "print(\"Test set:\")\n",
        "for content in os.listdir(\"/content/drive/My Drive/pneumonia-detection1/test/\"):\n",
        "    print(str(len(os.listdir(\"/content/drive/My Drive/pneumonia-detection1/test/\"+content))),content,\"images.\")"
      ],
      "execution_count": null,
      "outputs": [
        {
          "output_type": "stream",
          "text": [
            "Training set:\n",
            "1199 Normal images.\n",
            "2289 Bacterial Pneumonia images.\n",
            "1196 Viral Pneumonia images.\n",
            "Validation set:\n",
            "251 Bacterial Pneumonia images.\n",
            "150 Normal images.\n",
            "151 Viral Pneumonia images.\n",
            "Test set:\n",
            "243 Bacterial Pneumonia images.\n",
            "234 Normal images.\n",
            "149 Viral Pneuomina images.\n"
          ],
          "name": "stdout"
        }
      ]
    },
    {
      "cell_type": "code",
      "metadata": {
        "id": "n4D-cfTWHM7l",
        "colab": {
          "base_uri": "https://localhost:8080/",
          "height": 50
        },
        "outputId": "12b9c662-0864-4145-f347-de459bdcddfa"
      },
      "source": [
        "data_generator = ImageDataGenerator(\n",
        "                                    rescale=1./255,\n",
        "                                    rotation_range=30,\n",
        "                                  zoom_range=0.15,\n",
        "                                  shear_range=0.15,\n",
        "                                  horizontal_flip=True,\n",
        "                                  fill_mode=\"nearest\"\n",
        "                                    )\n",
        "data_generat = ImageDataGenerator(rescale=1./255)\n",
        "train_gen = data_generat.flow_from_directory(\"/content/drive/My Drive/pneumonia-detection1/train\",\n",
        "                                               target_size=(256,256),\n",
        "                                               color_mode='rgb',\n",
        "                                               class_mode=\"categorical\",\n",
        "                                               batch_size=16,\n",
        "                                               shuffle=True)\n",
        "\n",
        "val_gen = data_generat.flow_from_directory(\"/content/drive/My Drive/pneumonia-detection1/validation\",\n",
        "                                               target_size=(256,256),\n",
        "                                               color_mode='rgb',\n",
        "                                               class_mode=\"categorical\",\n",
        "                                               batch_size=16,\n",
        "                                               )"
      ],
      "execution_count": null,
      "outputs": [
        {
          "output_type": "stream",
          "text": [
            "Found 4682 images belonging to 3 classes.\n",
            "Found 550 images belonging to 3 classes.\n"
          ],
          "name": "stdout"
        }
      ]
    },
    {
      "cell_type": "code",
      "metadata": {
        "id": "JSOjtBXcIBNV"
      },
      "source": [
        "import tensorflow as tf"
      ],
      "execution_count": null,
      "outputs": []
    },
    {
      "cell_type": "markdown",
      "metadata": {
        "id": "thXHJIO2tVb_"
      },
      "source": [
        "Model **1**"
      ]
    },
    {
      "cell_type": "code",
      "metadata": {
        "id": "WVOgTy0aQJ2Q"
      },
      "source": [
        "# model.summary()"
      ],
      "execution_count": null,
      "outputs": []
    },
    {
      "cell_type": "code",
      "metadata": {
        "id": "LfnxDYYG18Ba"
      },
      "source": [
        "# r = model.fit(train_gen,epochs=25,validation_data=val_gen)"
      ],
      "execution_count": null,
      "outputs": []
    },
    {
      "cell_type": "code",
      "metadata": {
        "id": "N_y1x37n1xBx"
      },
      "source": [
        "# model.save('/content/drive/My Drive/pneumonia-detection/')"
      ],
      "execution_count": null,
      "outputs": []
    },
    {
      "cell_type": "markdown",
      "metadata": {
        "id": "bqD1Ip1Qtdad"
      },
      "source": [
        "Model **2**"
      ]
    },
    {
      "cell_type": "code",
      "metadata": {
        "id": "L7MEV4vJxFum",
        "colab": {
          "base_uri": "https://localhost:8080/",
          "height": 50
        },
        "outputId": "0c253189-263b-47b0-f464-8341e3f2d2a4"
      },
      "source": [
        "from tensorflow.keras.layers import Flatten\n",
        "resnet = tf.keras.applications.resnet.ResNet101(input_shape=(256,256,3), weights='imagenet', include_top=False)\n",
        "x = Flatten()(resnet.output)\n",
        "x = Dense(512 ,activation='relu')(x)\n",
        "x = Dense(64 ,activation='relu')(x)\n",
        "prediction = Dense(3 ,activation='softmax')(x),\n",
        "model = Model(inputs=resnet.input, outputs=prediction)"
      ],
      "execution_count": null,
      "outputs": [
        {
          "output_type": "stream",
          "text": [
            "Downloading data from https://storage.googleapis.com/tensorflow/keras-applications/resnet/resnet101_weights_tf_dim_ordering_tf_kernels_notop.h5\n",
            "171450368/171446536 [==============================] - 2s 0us/step\n"
          ],
          "name": "stdout"
        }
      ]
    },
    {
      "cell_type": "code",
      "metadata": {
        "id": "7i0yheRUbzsJ"
      },
      "source": [
        "for layer in resnet.layers:\n",
        "    layer.trainable = False"
      ],
      "execution_count": null,
      "outputs": []
    },
    {
      "cell_type": "code",
      "metadata": {
        "id": "bzxvSKHq417Q"
      },
      "source": [
        "# model.summary()"
      ],
      "execution_count": null,
      "outputs": []
    },
    {
      "cell_type": "code",
      "metadata": {
        "id": "7jGLg1175AT3"
      },
      "source": [
        "model.compile(\n",
        "  loss='categorical_crossentropy',\n",
        "  optimizer=tf.keras.optimizers.Adam(learning_rate=0.001),\n",
        "  metrics=['accuracy']\n",
        ")"
      ],
      "execution_count": null,
      "outputs": []
    },
    {
      "cell_type": "code",
      "metadata": {
        "id": "BXoTKadxKlkL",
        "colab": {
          "base_uri": "https://localhost:8080/",
          "height": 34
        },
        "outputId": "9c40c341-27c1-4bba-ebb1-a510e61ff8a3"
      },
      "source": [
        "checkpoint = tf.keras.callbacks.ModelCheckpoint('/content/drive/My Drive/pnuemonia-detection1/models/model{epoch:02d}.h5', save_weights_only=True, monitor='accuracy', verbose=1,\n",
        "    save_best_only=False, mode='auto', period=5)"
      ],
      "execution_count": null,
      "outputs": [
        {
          "output_type": "stream",
          "text": [
            "WARNING:tensorflow:`period` argument is deprecated. Please use `save_freq` to specify the frequency in number of batches seen.\n"
          ],
          "name": "stdout"
        }
      ]
    },
    {
      "cell_type": "code",
      "metadata": {
        "id": "LFMBcuI9Span"
      },
      "source": [
        "class CustomSaver(callbacks.Callback):\n",
        "  def on_epoch_end(self, epoch, logs=None):\n",
        "    if epoch==0 or epoch==19 or epoch==39 or epoch==49 or epoch==59 or epoch==69 or epoch==79 or epoch==89 or epoch==99:\n",
        "      self.model.save(\"/content/drive/My Drive/pneumonia-detection1/models/model_epoch_{}_loss_{:7.2f}.h5\".format(epoch, logs['loss']))\n",
        "      print(\"Epoch {} over. Saving model\".format(epoch))\n",
        "\n",
        "model_saver = CustomSaver()"
      ],
      "execution_count": null,
      "outputs": []
    },
    {
      "cell_type": "code",
      "metadata": {
        "id": "URGjqyWfLKob",
        "colab": {
          "base_uri": "https://localhost:8080/",
          "height": 1000
        },
        "outputId": "bb18e74a-24af-4c26-fb77-3587a9b5b3e5"
      },
      "source": [
        "r = model.fit(\n",
        "  train_gen,\n",
        "  validation_data=val_gen,\n",
        "  epochs=100,\n",
        "  callbacks = [model_saver]\n",
        ")"
      ],
      "execution_count": null,
      "outputs": [
        {
          "output_type": "stream",
          "text": [
            "Epoch 1/100\n",
            "293/293 [==============================] - ETA: 0s - loss: 0.4439 - accuracy: 0.8050Epoch 0 over. Saving model\n",
            "293/293 [==============================] - 111s 380ms/step - loss: 0.4439 - accuracy: 0.8050 - val_loss: 0.4690 - val_accuracy: 0.8200\n",
            "Epoch 2/100\n",
            "293/293 [==============================] - 105s 358ms/step - loss: 0.4532 - accuracy: 0.8029 - val_loss: 0.4499 - val_accuracy: 0.8055\n",
            "Epoch 3/100\n",
            "293/293 [==============================] - 104s 356ms/step - loss: 0.4445 - accuracy: 0.8024 - val_loss: 0.4553 - val_accuracy: 0.8182\n",
            "Epoch 4/100\n",
            "293/293 [==============================] - 107s 365ms/step - loss: 0.4471 - accuracy: 0.8044 - val_loss: 0.4548 - val_accuracy: 0.8109\n",
            "Epoch 5/100\n",
            "293/293 [==============================] - 105s 357ms/step - loss: 0.4302 - accuracy: 0.8114 - val_loss: 0.4686 - val_accuracy: 0.8091\n",
            "Epoch 6/100\n",
            "293/293 [==============================] - 102s 348ms/step - loss: 0.4307 - accuracy: 0.8110 - val_loss: 0.5041 - val_accuracy: 0.7964\n",
            "Epoch 7/100\n",
            "293/293 [==============================] - 104s 353ms/step - loss: 0.4429 - accuracy: 0.7992 - val_loss: 0.4446 - val_accuracy: 0.8109\n",
            "Epoch 8/100\n",
            "293/293 [==============================] - 105s 359ms/step - loss: 0.4350 - accuracy: 0.8091 - val_loss: 0.6581 - val_accuracy: 0.7400\n",
            "Epoch 9/100\n",
            "293/293 [==============================] - 108s 368ms/step - loss: 0.4288 - accuracy: 0.8071 - val_loss: 0.4913 - val_accuracy: 0.8036\n",
            "Epoch 10/100\n",
            "293/293 [==============================] - 105s 358ms/step - loss: 0.4249 - accuracy: 0.8101 - val_loss: 0.4535 - val_accuracy: 0.8091\n",
            "Epoch 11/100\n",
            "293/293 [==============================] - 106s 361ms/step - loss: 0.4240 - accuracy: 0.8099 - val_loss: 0.4547 - val_accuracy: 0.8073\n",
            "Epoch 12/100\n",
            "293/293 [==============================] - 106s 361ms/step - loss: 0.4339 - accuracy: 0.8052 - val_loss: 0.4567 - val_accuracy: 0.8109\n",
            "Epoch 13/100\n",
            "293/293 [==============================] - 106s 360ms/step - loss: 0.4454 - accuracy: 0.8046 - val_loss: 0.4425 - val_accuracy: 0.8109\n",
            "Epoch 14/100\n",
            "293/293 [==============================] - 94s 320ms/step - loss: 0.4187 - accuracy: 0.8135 - val_loss: 0.4791 - val_accuracy: 0.7927\n",
            "Epoch 15/100\n",
            "293/293 [==============================] - 98s 335ms/step - loss: 0.4350 - accuracy: 0.8101 - val_loss: 0.5344 - val_accuracy: 0.7745\n",
            "Epoch 16/100\n",
            "293/293 [==============================] - 98s 336ms/step - loss: 0.4125 - accuracy: 0.8187 - val_loss: 0.4448 - val_accuracy: 0.8200\n",
            "Epoch 17/100\n",
            "293/293 [==============================] - 102s 347ms/step - loss: 0.4172 - accuracy: 0.8167 - val_loss: 0.4896 - val_accuracy: 0.7873\n",
            "Epoch 18/100\n",
            "293/293 [==============================] - 99s 338ms/step - loss: 0.4275 - accuracy: 0.8133 - val_loss: 0.6619 - val_accuracy: 0.7145\n",
            "Epoch 19/100\n",
            "293/293 [==============================] - 103s 350ms/step - loss: 0.4280 - accuracy: 0.8097 - val_loss: 0.4551 - val_accuracy: 0.8127\n",
            "Epoch 20/100\n",
            "293/293 [==============================] - ETA: 0s - loss: 0.4059 - accuracy: 0.8199Epoch 19 over. Saving model\n",
            "293/293 [==============================] - 102s 349ms/step - loss: 0.4059 - accuracy: 0.8199 - val_loss: 0.4423 - val_accuracy: 0.8200\n",
            "Epoch 21/100\n",
            "293/293 [==============================] - 100s 343ms/step - loss: 0.4186 - accuracy: 0.8172 - val_loss: 0.4498 - val_accuracy: 0.8109\n",
            "Epoch 22/100\n",
            "293/293 [==============================] - 101s 346ms/step - loss: 0.4095 - accuracy: 0.8225 - val_loss: 0.5800 - val_accuracy: 0.7745\n",
            "Epoch 23/100\n",
            "293/293 [==============================] - 98s 334ms/step - loss: 0.4287 - accuracy: 0.8078 - val_loss: 0.6137 - val_accuracy: 0.7636\n",
            "Epoch 24/100\n",
            "293/293 [==============================] - 98s 335ms/step - loss: 0.4300 - accuracy: 0.8144 - val_loss: 0.5943 - val_accuracy: 0.7655\n",
            "Epoch 25/100\n",
            "293/293 [==============================] - 98s 335ms/step - loss: 0.4281 - accuracy: 0.8142 - val_loss: 0.5229 - val_accuracy: 0.7745\n",
            "Epoch 26/100\n",
            "293/293 [==============================] - 99s 339ms/step - loss: 0.4158 - accuracy: 0.8174 - val_loss: 0.5021 - val_accuracy: 0.7745\n",
            "Epoch 27/100\n",
            "293/293 [==============================] - 99s 339ms/step - loss: 0.4340 - accuracy: 0.8112 - val_loss: 0.4450 - val_accuracy: 0.8145\n",
            "Epoch 28/100\n",
            "293/293 [==============================] - 98s 335ms/step - loss: 0.3974 - accuracy: 0.8249 - val_loss: 0.4761 - val_accuracy: 0.8055\n",
            "Epoch 29/100\n",
            "293/293 [==============================] - 100s 341ms/step - loss: 0.4088 - accuracy: 0.8176 - val_loss: 0.4793 - val_accuracy: 0.8109\n",
            "Epoch 30/100\n",
            "293/293 [==============================] - 98s 334ms/step - loss: 0.4282 - accuracy: 0.8093 - val_loss: 0.6477 - val_accuracy: 0.7109\n",
            "Epoch 31/100\n",
            "293/293 [==============================] - 99s 339ms/step - loss: 0.4319 - accuracy: 0.8041 - val_loss: 0.4837 - val_accuracy: 0.8073\n",
            "Epoch 32/100\n",
            "293/293 [==============================] - 97s 331ms/step - loss: 0.4234 - accuracy: 0.8106 - val_loss: 0.4398 - val_accuracy: 0.8036\n",
            "Epoch 33/100\n",
            "293/293 [==============================] - 99s 337ms/step - loss: 0.4101 - accuracy: 0.8174 - val_loss: 0.4482 - val_accuracy: 0.8091\n",
            "Epoch 34/100\n",
            "293/293 [==============================] - 97s 331ms/step - loss: 0.4016 - accuracy: 0.8261 - val_loss: 0.4731 - val_accuracy: 0.8091\n",
            "Epoch 35/100\n",
            "293/293 [==============================] - 104s 356ms/step - loss: 0.4233 - accuracy: 0.8148 - val_loss: 0.4488 - val_accuracy: 0.8109\n",
            "Epoch 36/100\n",
            "293/293 [==============================] - 104s 355ms/step - loss: 0.4061 - accuracy: 0.8170 - val_loss: 0.4417 - val_accuracy: 0.8145\n",
            "Epoch 37/100\n",
            "293/293 [==============================] - 106s 362ms/step - loss: 0.4187 - accuracy: 0.8118 - val_loss: 0.4507 - val_accuracy: 0.8164\n",
            "Epoch 38/100\n",
            "293/293 [==============================] - 103s 351ms/step - loss: 0.4012 - accuracy: 0.8229 - val_loss: 0.4496 - val_accuracy: 0.8000\n",
            "Epoch 39/100\n",
            "293/293 [==============================] - 108s 367ms/step - loss: 0.4016 - accuracy: 0.8261 - val_loss: 0.4459 - val_accuracy: 0.8109\n",
            "Epoch 40/100\n",
            "293/293 [==============================] - ETA: 0s - loss: 0.4026 - accuracy: 0.8274Epoch 39 over. Saving model\n",
            "293/293 [==============================] - 108s 367ms/step - loss: 0.4026 - accuracy: 0.8274 - val_loss: 0.4677 - val_accuracy: 0.8145\n",
            "Epoch 41/100\n",
            "293/293 [==============================] - 108s 367ms/step - loss: 0.4064 - accuracy: 0.8193 - val_loss: 0.4453 - val_accuracy: 0.8145\n",
            "Epoch 42/100\n",
            "293/293 [==============================] - 106s 363ms/step - loss: 0.4043 - accuracy: 0.8172 - val_loss: 0.5065 - val_accuracy: 0.7982\n",
            "Epoch 43/100\n",
            "293/293 [==============================] - 106s 363ms/step - loss: 0.4279 - accuracy: 0.8078 - val_loss: 0.4286 - val_accuracy: 0.8164\n",
            "Epoch 44/100\n",
            "293/293 [==============================] - 105s 359ms/step - loss: 0.3881 - accuracy: 0.8261 - val_loss: 0.4781 - val_accuracy: 0.8127\n",
            "Epoch 45/100\n",
            "293/293 [==============================] - 105s 358ms/step - loss: 0.4164 - accuracy: 0.8202 - val_loss: 0.5469 - val_accuracy: 0.7345\n",
            "Epoch 46/100\n",
            "293/293 [==============================] - 106s 361ms/step - loss: 0.4195 - accuracy: 0.8144 - val_loss: 0.4869 - val_accuracy: 0.7800\n",
            "Epoch 47/100\n",
            "293/293 [==============================] - 107s 366ms/step - loss: 0.4017 - accuracy: 0.8212 - val_loss: 0.4454 - val_accuracy: 0.8182\n",
            "Epoch 48/100\n",
            "293/293 [==============================] - 108s 370ms/step - loss: 0.3921 - accuracy: 0.8257 - val_loss: 0.4715 - val_accuracy: 0.8036\n",
            "Epoch 49/100\n",
            "293/293 [==============================] - 105s 357ms/step - loss: 0.3967 - accuracy: 0.8283 - val_loss: 0.4903 - val_accuracy: 0.7927\n",
            "Epoch 50/100\n",
            "293/293 [==============================] - ETA: 0s - loss: 0.3811 - accuracy: 0.8285Epoch 49 over. Saving model\n",
            "293/293 [==============================] - 113s 386ms/step - loss: 0.3811 - accuracy: 0.8285 - val_loss: 0.4832 - val_accuracy: 0.7927\n",
            "Epoch 51/100\n",
            "293/293 [==============================] - 107s 364ms/step - loss: 0.3830 - accuracy: 0.8268 - val_loss: 0.4508 - val_accuracy: 0.8073\n",
            "Epoch 52/100\n",
            "293/293 [==============================] - 107s 365ms/step - loss: 0.3890 - accuracy: 0.8266 - val_loss: 0.5203 - val_accuracy: 0.7764\n",
            "Epoch 53/100\n",
            "293/293 [==============================] - 94s 319ms/step - loss: 0.3962 - accuracy: 0.8259 - val_loss: 0.4583 - val_accuracy: 0.8127\n",
            "Epoch 54/100\n",
            "293/293 [==============================] - 96s 326ms/step - loss: 0.3993 - accuracy: 0.8214 - val_loss: 0.4614 - val_accuracy: 0.8091\n",
            "Epoch 55/100\n",
            "293/293 [==============================] - 99s 339ms/step - loss: 0.3836 - accuracy: 0.8326 - val_loss: 0.4938 - val_accuracy: 0.8073\n",
            "Epoch 56/100\n",
            "293/293 [==============================] - 96s 326ms/step - loss: 0.4207 - accuracy: 0.8159 - val_loss: 0.4427 - val_accuracy: 0.8036\n",
            "Epoch 57/100\n",
            "293/293 [==============================] - 95s 325ms/step - loss: 0.4011 - accuracy: 0.8232 - val_loss: 0.6122 - val_accuracy: 0.7673\n",
            "Epoch 58/100\n",
            "293/293 [==============================] - 96s 328ms/step - loss: 0.5308 - accuracy: 0.7428 - val_loss: 0.5454 - val_accuracy: 0.7455\n",
            "Epoch 59/100\n",
            "293/293 [==============================] - 98s 335ms/step - loss: 0.4805 - accuracy: 0.7670 - val_loss: 0.5340 - val_accuracy: 0.7364\n",
            "Epoch 60/100\n",
            "293/293 [==============================] - ETA: 0s - loss: 0.4861 - accuracy: 0.7693Epoch 59 over. Saving model\n",
            "293/293 [==============================] - 101s 344ms/step - loss: 0.4861 - accuracy: 0.7693 - val_loss: 0.5307 - val_accuracy: 0.7418\n",
            "Epoch 61/100\n",
            "293/293 [==============================] - 98s 334ms/step - loss: 0.4428 - accuracy: 0.8014 - val_loss: 0.5050 - val_accuracy: 0.7855\n",
            "Epoch 62/100\n",
            "293/293 [==============================] - 97s 333ms/step - loss: 0.3924 - accuracy: 0.8291 - val_loss: 0.4765 - val_accuracy: 0.7982\n",
            "Epoch 63/100\n",
            "293/293 [==============================] - 95s 324ms/step - loss: 0.3998 - accuracy: 0.8261 - val_loss: 0.4407 - val_accuracy: 0.8018\n",
            "Epoch 64/100\n",
            "293/293 [==============================] - 98s 333ms/step - loss: 0.3926 - accuracy: 0.8304 - val_loss: 0.4919 - val_accuracy: 0.8127\n",
            "Epoch 65/100\n",
            "293/293 [==============================] - 94s 319ms/step - loss: 0.3900 - accuracy: 0.8240 - val_loss: 0.4749 - val_accuracy: 0.8091\n",
            "Epoch 66/100\n",
            "293/293 [==============================] - 93s 316ms/step - loss: 0.3780 - accuracy: 0.8311 - val_loss: 0.4603 - val_accuracy: 0.8036\n",
            "Epoch 67/100\n",
            "293/293 [==============================] - 94s 321ms/step - loss: 0.3916 - accuracy: 0.8279 - val_loss: 0.4680 - val_accuracy: 0.7982\n",
            "Epoch 68/100\n",
            "293/293 [==============================] - 94s 320ms/step - loss: 0.3786 - accuracy: 0.8349 - val_loss: 0.4661 - val_accuracy: 0.8073\n",
            "Epoch 69/100\n",
            "293/293 [==============================] - 93s 316ms/step - loss: 0.3951 - accuracy: 0.8285 - val_loss: 0.5233 - val_accuracy: 0.7836\n",
            "Epoch 70/100\n",
            "293/293 [==============================] - ETA: 0s - loss: 0.3959 - accuracy: 0.8249Epoch 69 over. Saving model\n",
            "293/293 [==============================] - 98s 334ms/step - loss: 0.3959 - accuracy: 0.8249 - val_loss: 0.5376 - val_accuracy: 0.7873\n",
            "Epoch 71/100\n",
            "293/293 [==============================] - 95s 324ms/step - loss: 0.4086 - accuracy: 0.8249 - val_loss: 0.4415 - val_accuracy: 0.8036\n",
            "Epoch 72/100\n",
            "293/293 [==============================] - 94s 321ms/step - loss: 0.3725 - accuracy: 0.8358 - val_loss: 0.4532 - val_accuracy: 0.8055\n",
            "Epoch 73/100\n",
            "293/293 [==============================] - 94s 321ms/step - loss: 0.3694 - accuracy: 0.8372 - val_loss: 0.4476 - val_accuracy: 0.8127\n",
            "Epoch 74/100\n",
            "293/293 [==============================] - 95s 325ms/step - loss: 0.4223 - accuracy: 0.8044 - val_loss: 0.4749 - val_accuracy: 0.7982\n",
            "Epoch 75/100\n",
            "293/293 [==============================] - 94s 322ms/step - loss: 0.3815 - accuracy: 0.8345 - val_loss: 0.4522 - val_accuracy: 0.8109\n",
            "Epoch 76/100\n",
            "293/293 [==============================] - 95s 323ms/step - loss: 0.3804 - accuracy: 0.8326 - val_loss: 0.4735 - val_accuracy: 0.7873\n",
            "Epoch 77/100\n",
            "293/293 [==============================] - 95s 325ms/step - loss: 0.3789 - accuracy: 0.8370 - val_loss: 0.4801 - val_accuracy: 0.8018\n",
            "Epoch 78/100\n",
            "293/293 [==============================] - 95s 324ms/step - loss: 0.3658 - accuracy: 0.8417 - val_loss: 0.5327 - val_accuracy: 0.7964\n",
            "Epoch 79/100\n",
            "293/293 [==============================] - 96s 326ms/step - loss: 0.3800 - accuracy: 0.8311 - val_loss: 0.4634 - val_accuracy: 0.8182\n",
            "Epoch 80/100\n",
            "293/293 [==============================] - ETA: 0s - loss: 0.3699 - accuracy: 0.8366Epoch 79 over. Saving model\n",
            "293/293 [==============================] - 102s 348ms/step - loss: 0.3699 - accuracy: 0.8366 - val_loss: 0.4681 - val_accuracy: 0.8055\n",
            "Epoch 81/100\n",
            "293/293 [==============================] - 97s 332ms/step - loss: 0.3802 - accuracy: 0.8308 - val_loss: 0.4751 - val_accuracy: 0.8036\n",
            "Epoch 82/100\n",
            "293/293 [==============================] - 96s 327ms/step - loss: 0.3648 - accuracy: 0.8400 - val_loss: 0.4619 - val_accuracy: 0.8036\n",
            "Epoch 83/100\n",
            "293/293 [==============================] - 97s 330ms/step - loss: 0.3754 - accuracy: 0.8319 - val_loss: 0.4941 - val_accuracy: 0.7909\n",
            "Epoch 84/100\n",
            "293/293 [==============================] - 95s 323ms/step - loss: 0.3682 - accuracy: 0.8343 - val_loss: 0.4843 - val_accuracy: 0.8073\n",
            "Epoch 85/100\n",
            "293/293 [==============================] - 95s 324ms/step - loss: 0.3802 - accuracy: 0.8351 - val_loss: 0.4647 - val_accuracy: 0.8109\n",
            "Epoch 86/100\n",
            "293/293 [==============================] - 94s 322ms/step - loss: 0.3761 - accuracy: 0.8308 - val_loss: 0.4653 - val_accuracy: 0.8109\n",
            "Epoch 87/100\n",
            "293/293 [==============================] - 94s 320ms/step - loss: 0.3718 - accuracy: 0.8300 - val_loss: 0.5373 - val_accuracy: 0.7727\n",
            "Epoch 88/100\n",
            "293/293 [==============================] - 94s 322ms/step - loss: 0.3862 - accuracy: 0.8296 - val_loss: 0.4396 - val_accuracy: 0.7982\n",
            "Epoch 89/100\n",
            "293/293 [==============================] - 95s 325ms/step - loss: 0.3706 - accuracy: 0.8353 - val_loss: 0.4796 - val_accuracy: 0.7855\n",
            "Epoch 90/100\n",
            "293/293 [==============================] - ETA: 0s - loss: 0.3735 - accuracy: 0.8355Epoch 89 over. Saving model\n",
            "293/293 [==============================] - 100s 341ms/step - loss: 0.3735 - accuracy: 0.8355 - val_loss: 0.4695 - val_accuracy: 0.7964\n",
            "Epoch 91/100\n",
            "293/293 [==============================] - 97s 332ms/step - loss: 0.3738 - accuracy: 0.8366 - val_loss: 0.5339 - val_accuracy: 0.7945\n",
            "Epoch 92/100\n",
            "293/293 [==============================] - 96s 327ms/step - loss: 0.3681 - accuracy: 0.8400 - val_loss: 0.9291 - val_accuracy: 0.6873\n",
            "Epoch 93/100\n",
            "293/293 [==============================] - 96s 328ms/step - loss: 0.3619 - accuracy: 0.8400 - val_loss: 0.4410 - val_accuracy: 0.8127\n",
            "Epoch 94/100\n",
            "293/293 [==============================] - 96s 327ms/step - loss: 0.3717 - accuracy: 0.8368 - val_loss: 0.4791 - val_accuracy: 0.7945\n",
            "Epoch 95/100\n",
            "293/293 [==============================] - 95s 325ms/step - loss: 0.3499 - accuracy: 0.8439 - val_loss: 0.5327 - val_accuracy: 0.7873\n",
            "Epoch 96/100\n",
            "293/293 [==============================] - 96s 327ms/step - loss: 0.3677 - accuracy: 0.8362 - val_loss: 0.5597 - val_accuracy: 0.6891\n",
            "Epoch 97/100\n",
            "293/293 [==============================] - 95s 324ms/step - loss: 0.4064 - accuracy: 0.8251 - val_loss: 0.4834 - val_accuracy: 0.8127\n",
            "Epoch 98/100\n",
            "293/293 [==============================] - 96s 329ms/step - loss: 0.3738 - accuracy: 0.8315 - val_loss: 0.4561 - val_accuracy: 0.8073\n",
            "Epoch 99/100\n",
            "293/293 [==============================] - 96s 327ms/step - loss: 0.3480 - accuracy: 0.8428 - val_loss: 0.4681 - val_accuracy: 0.7982\n",
            "Epoch 100/100\n",
            "293/293 [==============================] - ETA: 0s - loss: 0.3685 - accuracy: 0.8364Epoch 99 over. Saving model\n",
            "293/293 [==============================] - 101s 344ms/step - loss: 0.3685 - accuracy: 0.8364 - val_loss: 0.4823 - val_accuracy: 0.8036\n"
          ],
          "name": "stdout"
        }
      ]
    },
    {
      "cell_type": "code",
      "metadata": {
        "id": "jHZ8kPTp5Yt7",
        "colab": {
          "base_uri": "https://localhost:8080/",
          "height": 530
        },
        "outputId": "8b43e5ef-b5ff-4b37-d7e3-8798e4f9ed65"
      },
      "source": [
        "plt.plot(r.history['loss'], label='train loss')\n",
        "plt.plot(r.history['val_loss'], label='val loss')\n",
        "plt.legend()\n",
        "plt.show()\n",
        "plt.savefig('LossVal_loss')\n",
        "\n",
        "# plot the accuracy\n",
        "plt.plot(r.history['accuracy'], label='train acc')\n",
        "plt.plot(r.history['val_accuracy'], label='val acc')\n",
        "plt.legend()\n",
        "plt.show()\n",
        "plt.savefig('AccVal_acc')"
      ],
      "execution_count": null,
      "outputs": [
        {
          "output_type": "display_data",
          "data": {
            "image/png": "[encoded data removed]",
            "text/plain": [
              "<Figure size 432x288 with 1 Axes>"
            ]
          },
          "metadata": {
            "tags": [],
            "needs_background": "light"
          }
        },
        {
          "output_type": "display_data",
          "data": {
            "image/png": "[encoded data removed]",
            "text/plain": [
              "<Figure size 432x288 with 1 Axes>"
            ]
          },
          "metadata": {
            "tags": [],
            "needs_background": "light"
          }
        },
        {
          "output_type": "display_data",
          "data": {
            "text/plain": [
              "<Figure size 432x288 with 0 Axes>"
            ]
          },
          "metadata": {
            "tags": []
          }
        }
      ]
    },
    {
      "cell_type": "code",
      "metadata": {
        "id": "Tn-Wc7RkU8O8",
        "colab": {
          "base_uri": "https://localhost:8080/",
          "height": 250
        },
        "outputId": "4d8f0d5e-3561-4236-f754-86071eeb2d7e"
      },
      "source": [
        "plot_model(model, to_file='/content/drive/My Drive/pneumonia-detection/models/model_resnet101.png', show_shapes=True, show_layer_names=True)\n",
        "Image('model.png',width=400, height=200)"
      ],
      "execution_count": null,
      "outputs": [
        {
          "output_type": "stream",
          "text": [
            "dot: graph is too large for cairo-renderer bitmaps. Scaling by 0.869151 to fit\n",
            "\n"
          ],
          "name": "stdout"
        },
        {
          "output_type": "execute_result",
          "data": {
            "image/png": "model.png",
            "text/plain": [
              "<IPython.core.display.Image object>"
            ]
          },
          "metadata": {
            "tags": [],
            "image/png": {
              "width": 400,
              "height": 200
            }
          },
          "execution_count": 10
        }
      ]
    },
    {
      "cell_type": "code",
      "metadata": {
        "id": "mbmTFYQh20ca"
      },
      "source": [
        "model_50 = tf.keras.models.load_model('/content/drive/My Drive/pneumonia-detection1/models/model_epoch_49_loss_   0.38.h5')"
      ],
      "execution_count": null,
      "outputs": []
    },
    {
      "cell_type": "code",
      "metadata": {
        "id": "UiFkJtd1za3D",
        "colab": {
          "base_uri": "https://localhost:8080/",
          "height": 34
        },
        "outputId": "8ff43b38-0f1d-4eee-8048-b98acc9e468e"
      },
      "source": [
        "test_gen = data_generat.flow_from_directory(\"/content/drive/My Drive/pneumonia-detection1/test\",\n",
        "                                               target_size=(256,256),\n",
        "                                               color_mode='rgb',\n",
        "                                               class_mode=\"categorical\",\n",
        "                                               batch_size=32)"
      ],
      "execution_count": null,
      "outputs": [
        {
          "output_type": "stream",
          "text": [
            "Found 624 images belonging to 3 classes.\n"
          ],
          "name": "stdout"
        }
      ]
    },
    {
      "cell_type": "code",
      "metadata": {
        "id": "SrouQsPHyili",
        "colab": {
          "base_uri": "https://localhost:8080/",
          "height": 50
        },
        "outputId": "8ac9e844-13ce-4878-b5c0-1b8776e242e0"
      },
      "source": [
        "model_50.evaluate(test_gen)"
      ],
      "execution_count": null,
      "outputs": [
        {
          "output_type": "stream",
          "text": [
            "20/20 [==============================] - 148s 7s/step - loss: 1.5092 - accuracy: 0.6811\n"
          ],
          "name": "stdout"
        },
        {
          "output_type": "execute_result",
          "data": {
            "text/plain": [
              "[1.5091770887374878, 0.6810897588729858]"
            ]
          },
          "metadata": {
            "tags": []
          },
          "execution_count": 8
        }
      ]
    },
    {
      "cell_type": "code",
      "metadata": {
        "id": "Ev-JUfNwzhgN"
      },
      "source": [
        "model_40 = tf.keras.models.load_model('/content/drive/My Drive/pneumonia-detection1/models/model_epoch_39_loss_   0.40.h5')"
      ],
      "execution_count": null,
      "outputs": []
    },
    {
      "cell_type": "code",
      "metadata": {
        "id": "E_DAJaLq1FRS",
        "colab": {
          "base_uri": "https://localhost:8080/",
          "height": 50
        },
        "outputId": "c2f8192a-deed-49df-e323-f4c907d4e410"
      },
      "source": [
        "model_40.evaluate(test_gen) #74.86"
      ],
      "execution_count": null,
      "outputs": [
        {
          "output_type": "stream",
          "text": [
            "20/20 [==============================] - 10s 517ms/step - loss: 1.4038 - accuracy: 0.6955\n"
          ],
          "name": "stdout"
        },
        {
          "output_type": "execute_result",
          "data": {
            "text/plain": [
              "[1.403753638267517, 0.6955128312110901]"
            ]
          },
          "metadata": {
            "tags": []
          },
          "execution_count": 24
        }
      ]
    },
    {
      "cell_type": "code",
      "metadata": {
        "id": "3PpPP-G8FKAQ",
        "colab": {
          "base_uri": "https://localhost:8080/",
          "height": 50
        },
        "outputId": "91cc4e71-ff8c-4be4-9ddc-b16eddabd2a4"
      },
      "source": [
        "model_40.evaluate(train_gen)"
      ],
      "execution_count": null,
      "outputs": [
        {
          "output_type": "stream",
          "text": [
            "293/293 [==============================] - 84s 287ms/step - loss: 0.3729 - accuracy: 0.8313\n"
          ],
          "name": "stdout"
        },
        {
          "output_type": "execute_result",
          "data": {
            "text/plain": [
              "[0.372862845659256, 0.8312686681747437]"
            ]
          },
          "metadata": {
            "tags": []
          },
          "execution_count": 8
        }
      ]
    },
    {
      "cell_type": "code",
      "metadata": {
        "id": "OuT0hX8N1IqB"
      },
      "source": [
        "model_20 = tf.keras.models.load_model('/content/drive/My Drive/pneumonia-detection1/models/model_epoch_19_loss_   0.41.h5')"
      ],
      "execution_count": null,
      "outputs": []
    },
    {
      "cell_type": "code",
      "metadata": {
        "id": "LCUrgUVn1YMR",
        "colab": {
          "base_uri": "https://localhost:8080/",
          "height": 50
        },
        "outputId": "da2b9912-62ae-4328-9a65-00e3c3e36625"
      },
      "source": [
        "model_20.evaluate(test)"
      ],
      "execution_count": null,
      "outputs": [
        {
          "output_type": "stream",
          "text": [
            "20/20 [==============================] - 9s 462ms/step - loss: 2.0171 - accuracy: 0.6859\n"
          ],
          "name": "stdout"
        },
        {
          "output_type": "execute_result",
          "data": {
            "text/plain": [
              "[2.017104387283325, 0.6858974099159241]"
            ]
          },
          "metadata": {
            "tags": []
          },
          "execution_count": 24
        }
      ]
    },
    {
      "cell_type": "code",
      "metadata": {
        "id": "n_PJDvrk1a6H"
      },
      "source": [
        "model_70 = tf.keras.models.load_model('/content/drive/My Drive/pneumonia-detection1/models/model_epoch_69_loss_   0.40.h5')"
      ],
      "execution_count": null,
      "outputs": []
    },
    {
      "cell_type": "code",
      "metadata": {
        "id": "_XAh71NR1oYy",
        "colab": {
          "base_uri": "https://localhost:8080/",
          "height": 50
        },
        "outputId": "cf96aee9-1040-4101-f9db-7ce7483174ea"
      },
      "source": [
        "model_70.evaluate(test)"
      ],
      "execution_count": null,
      "outputs": [
        {
          "output_type": "stream",
          "text": [
            "20/20 [==============================] - 9s 472ms/step - loss: 1.3797 - accuracy: 0.6651\n"
          ],
          "name": "stdout"
        },
        {
          "output_type": "execute_result",
          "data": {
            "text/plain": [
              "[1.3797266483306885, 0.6650640964508057]"
            ]
          },
          "metadata": {
            "tags": []
          },
          "execution_count": 26
        }
      ]
    },
    {
      "cell_type": "code",
      "metadata": {
        "id": "xZesgv6r1rHR"
      },
      "source": [
        "model_100 = tf.keras.models.load_model('/content/drive/My Drive/pneumonia-detection1/models/model_epoch_99_loss_   0.37.h5')"
      ],
      "execution_count": null,
      "outputs": []
    },
    {
      "cell_type": "code",
      "metadata": {
        "id": "brcm5Bi714SD",
        "colab": {
          "base_uri": "https://localhost:8080/",
          "height": 50
        },
        "outputId": "2ab9bb72-47dd-4345-93e8-ef4313447ca9"
      },
      "source": [
        "model_100.evaluate(test)"
      ],
      "execution_count": null,
      "outputs": [
        {
          "output_type": "stream",
          "text": [
            "20/20 [==============================] - 9s 470ms/step - loss: 2.8223 - accuracy: 0.6330\n"
          ],
          "name": "stdout"
        },
        {
          "output_type": "execute_result",
          "data": {
            "text/plain": [
              "[2.822261095046997, 0.6330128312110901]"
            ]
          },
          "metadata": {
            "tags": []
          },
          "execution_count": 28
        }
      ]
    },
    {
      "cell_type": "code",
      "metadata": {
        "id": "GmxpNpYd16g3"
      },
      "source": [
        "model_80 = tf.keras.models.load_model('/content/drive/My Drive/pneumonia-detection1/models/model_epoch_79_loss_   0.37.h5')"
      ],
      "execution_count": null,
      "outputs": []
    },
    {
      "cell_type": "code",
      "metadata": {
        "id": "qatcDCSz2JHz",
        "colab": {
          "base_uri": "https://localhost:8080/",
          "height": 50
        },
        "outputId": "ff881d22-0afe-4a39-8405-039972783f57"
      },
      "source": [
        "model_80.evaluate(train_gen)"
      ],
      "execution_count": null,
      "outputs": [
        {
          "output_type": "stream",
          "text": [
            "293/293 [==============================] - 1315s 4s/step - loss: 0.3405 - accuracy: 0.8460\n"
          ],
          "name": "stdout"
        },
        {
          "output_type": "execute_result",
          "data": {
            "text/plain": [
              "[0.34047070145606995, 0.8460059762001038]"
            ]
          },
          "metadata": {
            "tags": []
          },
          "execution_count": 6
        }
      ]
    },
    {
      "cell_type": "code",
      "metadata": {
        "id": "7en3_87mO017",
        "colab": {
          "base_uri": "https://localhost:8080/",
          "height": 269
        },
        "outputId": "8c407f09-a37c-4ac7-d5db-1ef45471fa38"
      },
      "source": [
        "from sklearn.metrics import classification_report, confusion_matrix\n",
        "import numpy as np\n",
        "Y_pred = model_40.predict(test_gen)\n",
        "Y_pred = np.array(Y_pred)\n",
        "Y_pred = Y_pred.reshape((624,3))\n",
        "y_pred = np.argmax(Y_pred, axis=1)\n",
        "print('Confusion Matrix')\n",
        "print(confusion_matrix(test_gen.classes, y_pred))\n",
        "print('Classification Report')\n",
        "target_names = ['Bacterial Pneumonia', 'Normal', 'Viral Pneumonia']\n",
        "print(classification_report(test_gen.classes, y_pred, target_names=target_names))"
      ],
      "execution_count": null,
      "outputs": [
        {
          "output_type": "stream",
          "text": [
            "Confusion Matrix\n",
            "[[133  47  62]\n",
            " [136  41  57]\n",
            " [ 88  25  35]]\n",
            "Classification Report\n",
            "                     precision    recall  f1-score   support\n",
            "\n",
            "Bacterial Pneumonia       0.37      0.55      0.44       242\n",
            "             Normal       0.36      0.18      0.24       234\n",
            "    Viral Pneumonia       0.23      0.24      0.23       148\n",
            "\n",
            "           accuracy                           0.33       624\n",
            "          macro avg       0.32      0.32      0.30       624\n",
            "       weighted avg       0.33      0.33      0.32       624\n",
            "\n"
          ],
          "name": "stdout"
        }
      ]
    },
    {
      "cell_type": "code",
      "metadata": {
        "id": "aJLeWt1pw3hk",
        "colab": {
          "base_uri": "https://localhost:8080/",
          "height": 218
        },
        "outputId": "0cfe7f47-3336-46b7-e654-bc9a7d981741"
      },
      "source": [
        "from sklearn.metrics import classification_report, confusion_matrix\n",
        "y_pred = np.zeros([624,])\n",
        "y_test_full = np.zeros([624,])\n",
        "for i in range(0, 20):\n",
        "  (x_test, y_test) = test_gen[i]\n",
        "  Y_pred = model_40.predict(x_test)\n",
        "  y_test_full[32*i:32*i+32] = np.argmax(y_test, axis=1)\n",
        "  y_pred[32*i:32*i+32] = np.argmax(Y_pred, axis=1)\n",
        "print('Confusion Matrix')\n",
        "cm = confusion_matrix(y_test_full, y_pred)\n",
        "print('Classification Report')\n",
        "target_names = ['Bacterial Pneumonia', 'Normal', 'Viral Pneumonia']\n",
        "print(classification_report(y_test_full, y_pred, target_names=target_names))"
      ],
      "execution_count": null,
      "outputs": [
        {
          "output_type": "stream",
          "text": [
            "Confusion Matrix\n",
            "Classification Report\n",
            "                     precision    recall  f1-score   support\n",
            "\n",
            "Bacterial Pneumonia       0.66      0.98      0.79       242\n",
            "             Normal       0.95      0.46      0.62       234\n",
            "    Viral Pneumonia       0.58      0.61      0.60       148\n",
            "\n",
            "           accuracy                           0.70       624\n",
            "          macro avg       0.73      0.68      0.67       624\n",
            "       weighted avg       0.75      0.70      0.68       624\n",
            "\n"
          ],
          "name": "stdout"
        }
      ]
    },
    {
      "cell_type": "code",
      "metadata": {
        "id": "mKxeBy0K2LW9"
      },
      "source": [
        "our_with_40 = tf.keras.models.load_model('/content/drive/My Drive/pneumonia-detection1/our_model_with/model_epoch_39_loss_   0.43.h5')"
      ],
      "execution_count": null,
      "outputs": []
    },
    {
      "cell_type": "code",
      "metadata": {
        "id": "GQEywld6Q-aX",
        "colab": {
          "base_uri": "https://localhost:8080/",
          "height": 50
        },
        "outputId": "896d4543-c882-41e7-aee1-016ace725e3e"
      },
      "source": [
        "our_with_40.evaluate(test_gen)"
      ],
      "execution_count": null,
      "outputs": [
        {
          "output_type": "stream",
          "text": [
            "20/20 [==============================] - 7s 371ms/step - loss: 0.7271 - accuracy: 0.8013\n"
          ],
          "name": "stdout"
        },
        {
          "output_type": "execute_result",
          "data": {
            "text/plain": [
              "[0.7271037101745605, 0.8012820482254028]"
            ]
          },
          "metadata": {
            "tags": []
          },
          "execution_count": 13
        }
      ]
    },
    {
      "cell_type": "code",
      "metadata": {
        "id": "qnc7-JnsRFh0"
      },
      "source": [
        "our_with_50 = tf.keras.models.load_model('/content/drive/My Drive/pneumonia-detection1/our_model_with/model_epoch_49_loss_   0.41.h5')"
      ],
      "execution_count": null,
      "outputs": []
    },
    {
      "cell_type": "code",
      "metadata": {
        "id": "MPV4JQjkRNA7",
        "colab": {
          "base_uri": "https://localhost:8080/",
          "height": 50
        },
        "outputId": "84815495-1f2f-4248-b4fc-16dd495fbd5a"
      },
      "source": [
        "our_with_50.evaluate(test_gen)"
      ],
      "execution_count": null,
      "outputs": [
        {
          "output_type": "stream",
          "text": [
            "20/20 [==============================] - 8s 378ms/step - loss: 0.5686 - accuracy: 0.8413\n"
          ],
          "name": "stdout"
        },
        {
          "output_type": "execute_result",
          "data": {
            "text/plain": [
              "[0.568550705909729, 0.8413461446762085]"
            ]
          },
          "metadata": {
            "tags": []
          },
          "execution_count": 11
        }
      ]
    },
    {
      "cell_type": "code",
      "metadata": {
        "id": "BAEQwJoARQOi"
      },
      "source": [
        "our_with_60 = tf.keras.models.load_model('/content/drive/My Drive/pneumonia-detection1/our_model_with/model_epoch_59_loss_   0.40.h5')"
      ],
      "execution_count": null,
      "outputs": []
    },
    {
      "cell_type": "code",
      "metadata": {
        "id": "I-mHf_GFRcXZ",
        "colab": {
          "base_uri": "https://localhost:8080/",
          "height": 50
        },
        "outputId": "9014fd50-51f7-42ed-adaa-798026176e48"
      },
      "source": [
        "our_with_60.evaluate(test_gen)"
      ],
      "execution_count": null,
      "outputs": [
        {
          "output_type": "stream",
          "text": [
            "20/20 [==============================] - 8s 379ms/step - loss: 0.6976 - accuracy: 0.7901\n"
          ],
          "name": "stdout"
        },
        {
          "output_type": "execute_result",
          "data": {
            "text/plain": [
              "[0.6976091265678406, 0.7900640964508057]"
            ]
          },
          "metadata": {
            "tags": []
          },
          "execution_count": 17
        }
      ]
    },
    {
      "cell_type": "code",
      "metadata": {
        "id": "BuSwZ1l7Rfg7"
      },
      "source": [
        "our_with_70 = tf.keras.models.load_model('/content/drive/My Drive/pneumonia-detection1/our_model_with/model_epoch_69_loss_   0.38.h5')"
      ],
      "execution_count": null,
      "outputs": []
    },
    {
      "cell_type": "code",
      "metadata": {
        "id": "DOKwOiamRpZM",
        "colab": {
          "base_uri": "https://localhost:8080/",
          "height": 50
        },
        "outputId": "39e29b50-470b-4e78-fbf9-a5b1e777495b"
      },
      "source": [
        "our_with_70.evaluate(test_gen)"
      ],
      "execution_count": null,
      "outputs": [
        {
          "output_type": "stream",
          "text": [
            "20/20 [==============================] - 8s 389ms/step - loss: 0.6195 - accuracy: 0.8301\n"
          ],
          "name": "stdout"
        },
        {
          "output_type": "execute_result",
          "data": {
            "text/plain": [
              "[0.6195243000984192, 0.8301281929016113]"
            ]
          },
          "metadata": {
            "tags": []
          },
          "execution_count": 19
        }
      ]
    },
    {
      "cell_type": "code",
      "metadata": {
        "id": "3Nu0HyAaRtsw"
      },
      "source": [
        "our_with_80 = tf.keras.models.load_model('/content/drive/My Drive/pneumonia-detection1/our_model_with/model_epoch_79_loss_   0.36.h5')"
      ],
      "execution_count": null,
      "outputs": []
    },
    {
      "cell_type": "code",
      "metadata": {
        "id": "gDyjfJ_UR1qM",
        "colab": {
          "base_uri": "https://localhost:8080/",
          "height": 50
        },
        "outputId": "9a05fa3b-d487-485a-8cc5-cdddad43343e"
      },
      "source": [
        "our_with_80.evaluate(test_gen)"
      ],
      "execution_count": null,
      "outputs": [
        {
          "output_type": "stream",
          "text": [
            "20/20 [==============================] - 8s 395ms/step - loss: 0.6482 - accuracy: 0.8269\n"
          ],
          "name": "stdout"
        },
        {
          "output_type": "execute_result",
          "data": {
            "text/plain": [
              "[0.6481956243515015, 0.8269230723381042]"
            ]
          },
          "metadata": {
            "tags": []
          },
          "execution_count": 21
        }
      ]
    },
    {
      "cell_type": "code",
      "metadata": {
        "id": "7wXDDLl6R39n"
      },
      "source": [
        "our_without_50 = tf.keras.models.load_model('/content/drive/My Drive/pneumonia-detection1/our_model_without/model_epoch_49_loss_   0.01.h5')"
      ],
      "execution_count": null,
      "outputs": []
    },
    {
      "cell_type": "code",
      "metadata": {
        "id": "esZ8oha-SiBu",
        "colab": {
          "base_uri": "https://localhost:8080/",
          "height": 50
        },
        "outputId": "132859eb-ffba-421f-d461-44413f27dbb4"
      },
      "source": [
        "our_without_50.evaluate(test_gen)"
      ],
      "execution_count": null,
      "outputs": [
        {
          "output_type": "stream",
          "text": [
            "20/20 [==============================] - 8s 378ms/step - loss: 3.2345 - accuracy: 0.6458\n"
          ],
          "name": "stdout"
        },
        {
          "output_type": "execute_result",
          "data": {
            "text/plain": [
              "[3.234539270401001, 0.6458333134651184]"
            ]
          },
          "metadata": {
            "tags": []
          },
          "execution_count": 13
        }
      ]
    },
    {
      "cell_type": "code",
      "metadata": {
        "id": "qulgREZSSmEx"
      },
      "source": [
        "our_without_40 = tf.keras.models.load_model('/content/drive/My Drive/pneumonia-detection1/our_model_without/model_epoch_39_loss_   0.02.h5')"
      ],
      "execution_count": null,
      "outputs": []
    },
    {
      "cell_type": "code",
      "metadata": {
        "id": "P90HZVq0Suli",
        "colab": {
          "base_uri": "https://localhost:8080/",
          "height": 50
        },
        "outputId": "51d87fe1-dbec-4dd7-d8b5-5fcae0222e6e"
      },
      "source": [
        "our_without_40.evaluate(test_gen)"
      ],
      "execution_count": null,
      "outputs": [
        {
          "output_type": "stream",
          "text": [
            "20/20 [==============================] - 8s 390ms/step - loss: 2.8919 - accuracy: 0.6635\n"
          ],
          "name": "stdout"
        },
        {
          "output_type": "execute_result",
          "data": {
            "text/plain": [
              "[2.891876697540283, 0.6634615659713745]"
            ]
          },
          "metadata": {
            "tags": []
          },
          "execution_count": 25
        }
      ]
    },
    {
      "cell_type": "code",
      "metadata": {
        "id": "o0khd_jGSxa8"
      },
      "source": [
        "our_without_60 = tf.keras.models.load_model('/content/drive/My Drive/pneumonia-detection1/our_model_without/model_epoch_59_loss_   0.01.h5')"
      ],
      "execution_count": null,
      "outputs": []
    },
    {
      "cell_type": "code",
      "metadata": {
        "id": "ON3Z_oJ_S5ta",
        "colab": {
          "base_uri": "https://localhost:8080/",
          "height": 50
        },
        "outputId": "0156f627-15dc-49cf-bb23-b661d4d26906"
      },
      "source": [
        "our_without_60.evaluate(test_gen)"
      ],
      "execution_count": null,
      "outputs": [
        {
          "output_type": "stream",
          "text": [
            "20/20 [==============================] - 7s 362ms/step - loss: 3.9744 - accuracy: 0.6330\n"
          ],
          "name": "stdout"
        },
        {
          "output_type": "execute_result",
          "data": {
            "text/plain": [
              "[3.9744293689727783, 0.6330128312110901]"
            ]
          },
          "metadata": {
            "tags": []
          },
          "execution_count": 27
        }
      ]
    },
    {
      "cell_type": "code",
      "metadata": {
        "id": "Oe0c5XSBS7ee"
      },
      "source": [
        "dense_with_50 = tf.keras.models.load_model('/content/drive/My Drive/pneumonia-detection1/dense_net_models/model_epoch_49_loss_   0.32.h5')"
      ],
      "execution_count": null,
      "outputs": []
    },
    {
      "cell_type": "code",
      "metadata": {
        "id": "cM_5jocsVIXU",
        "colab": {
          "base_uri": "https://localhost:8080/",
          "height": 50
        },
        "outputId": "3463f912-5cc9-48a1-e4ea-1a1d65aae6ff"
      },
      "source": [
        "dense_with_50.evaluate(test_gen)"
      ],
      "execution_count": null,
      "outputs": [
        {
          "output_type": "stream",
          "text": [
            "20/20 [==============================] - 10s 502ms/step - loss: 0.5815 - accuracy: 0.8173\n"
          ],
          "name": "stdout"
        },
        {
          "output_type": "execute_result",
          "data": {
            "text/plain": [
              "[0.581531286239624, 0.817307710647583]"
            ]
          },
          "metadata": {
            "tags": []
          },
          "execution_count": 29
        }
      ]
    },
    {
      "cell_type": "code",
      "metadata": {
        "id": "EVrjNfRnVNwM"
      },
      "source": [
        "dense_with_40 = tf.keras.models.load_model('/content/drive/My Drive/pneumonia-detection1/dense_net_models/model_epoch_39_loss_   0.34.h5')"
      ],
      "execution_count": null,
      "outputs": []
    },
    {
      "cell_type": "code",
      "metadata": {
        "id": "iIRPNGEhVXLs",
        "colab": {
          "base_uri": "https://localhost:8080/",
          "height": 50
        },
        "outputId": "a16e547b-5876-4f9d-d026-ac29d1b8b557"
      },
      "source": [
        "dense_with_40.evaluate(test_gen)"
      ],
      "execution_count": null,
      "outputs": [
        {
          "output_type": "stream",
          "text": [
            "20/20 [==============================] - 9s 445ms/step - loss: 0.8067 - accuracy: 0.8093\n"
          ],
          "name": "stdout"
        },
        {
          "output_type": "execute_result",
          "data": {
            "text/plain": [
              "[0.8066987991333008, 0.8092948794364929]"
            ]
          },
          "metadata": {
            "tags": []
          },
          "execution_count": 31
        }
      ]
    },
    {
      "cell_type": "code",
      "metadata": {
        "id": "RVJiZco7VbVl"
      },
      "source": [
        "dense_with_20 = tf.keras.models.load_model('/content/drive/My Drive/pneumonia-detection1/dense_net_models/model_epoch_19_loss_   0.40.h5')"
      ],
      "execution_count": null,
      "outputs": []
    },
    {
      "cell_type": "code",
      "metadata": {
        "id": "chTLXrbBVnWN",
        "colab": {
          "base_uri": "https://localhost:8080/",
          "height": 50
        },
        "outputId": "27e426f5-f094-49ee-c85b-3de8de5fd6f7"
      },
      "source": [
        "dense_with_20.evaluate(test_gen)"
      ],
      "execution_count": null,
      "outputs": [
        {
          "output_type": "stream",
          "text": [
            "20/20 [==============================] - 9s 440ms/step - loss: 0.5099 - accuracy: 0.8718\n"
          ],
          "name": "stdout"
        },
        {
          "output_type": "execute_result",
          "data": {
            "text/plain": [
              "[0.5099469423294067, 0.8717948794364929]"
            ]
          },
          "metadata": {
            "tags": []
          },
          "execution_count": 33
        }
      ]
    },
    {
      "cell_type": "code",
      "metadata": {
        "id": "5XXo-2QQVrNe"
      },
      "source": [
        "dense_without_20 = tf.keras.models.load_model('/content/drive/My Drive/pneumonia-detection1/dense_net_models_without/model_epoch_19_loss_   0.08.h5')"
      ],
      "execution_count": null,
      "outputs": []
    },
    {
      "cell_type": "code",
      "metadata": {
        "id": "27se06cnWLd-",
        "colab": {
          "base_uri": "https://localhost:8080/",
          "height": 50
        },
        "outputId": "831070d5-c0ff-4853-f1d9-0a6dcc604993"
      },
      "source": [
        "dense_without_20.evaluate(test_gen)"
      ],
      "execution_count": null,
      "outputs": [
        {
          "output_type": "stream",
          "text": [
            "20/20 [==============================] - 9s 450ms/step - loss: 3.5681 - accuracy: 0.6138\n"
          ],
          "name": "stdout"
        },
        {
          "output_type": "execute_result",
          "data": {
            "text/plain": [
              "[3.5681464672088623, 0.6137820482254028]"
            ]
          },
          "metadata": {
            "tags": []
          },
          "execution_count": 35
        }
      ]
    },
    {
      "cell_type": "code",
      "metadata": {
        "id": "vZP_PlWgWRIM"
      },
      "source": [
        "dense_without_40 = tf.keras.models.load_model('/content/drive/My Drive/pneumonia-detection1/dense_net_models_without/model_epoch_39_loss_   0.00.h5')"
      ],
      "execution_count": null,
      "outputs": []
    },
    {
      "cell_type": "code",
      "metadata": {
        "id": "tqaHUMN5WeA1",
        "colab": {
          "base_uri": "https://localhost:8080/",
          "height": 50
        },
        "outputId": "9293a391-8e0c-45df-8703-112e1f6d7ab3"
      },
      "source": [
        "dense_without_40.evaluate(test_gen)"
      ],
      "execution_count": null,
      "outputs": [
        {
          "output_type": "stream",
          "text": [
            "20/20 [==============================] - 10s 508ms/step - loss: 3.6458 - accuracy: 0.7147\n"
          ],
          "name": "stdout"
        },
        {
          "output_type": "execute_result",
          "data": {
            "text/plain": [
              "[3.645845413208008, 0.7147436141967773]"
            ]
          },
          "metadata": {
            "tags": []
          },
          "execution_count": 18
        }
      ]
    },
    {
      "cell_type": "code",
      "metadata": {
        "id": "wvKoEQZGWiIG"
      },
      "source": [
        "dense_wthout_50 = tf.keras.models.load_model('/content/drive/My Drive/pneumonia-detection1/dense_net_models_without/model_epoch_49_loss_   0.00.h5')"
      ],
      "execution_count": null,
      "outputs": []
    },
    {
      "cell_type": "code",
      "metadata": {
        "id": "uXtixzTKWpg_",
        "colab": {
          "base_uri": "https://localhost:8080/",
          "height": 50
        },
        "outputId": "4e2dade4-4fbb-450f-cc5e-b04d55ff0bd9"
      },
      "source": [
        "dense_wthout_50.evaluate(test_gen)"
      ],
      "execution_count": null,
      "outputs": [
        {
          "output_type": "stream",
          "text": [
            "20/20 [==============================] - 9s 465ms/step - loss: 4.4578 - accuracy: 0.7131\n"
          ],
          "name": "stdout"
        },
        {
          "output_type": "execute_result",
          "data": {
            "text/plain": [
              "[4.457840919494629, 0.7131410241127014]"
            ]
          },
          "metadata": {
            "tags": []
          },
          "execution_count": 40
        }
      ]
    },
    {
      "cell_type": "code",
      "metadata": {
        "id": "zZM6_tJZWtIs"
      },
      "source": [
        "from sklearn.metrics import confusion_matrix\n",
        "import itertools\n",
        "from matplotlib import pyplot as plt\n",
        "\n",
        "def plot_confusion_matrix(cm, classes,\n",
        "                          normalize=False,\n",
        "                          title='Resnet101 without augmentation',\n",
        "                          cmap=plt.cm.Blues):\n",
        "  if normalize:\n",
        "      cm = cm.astype('float') / cm.sum(axis=1)[:, np.newaxis]\n",
        "      print(\"Normalized confusion matrix\")\n",
        "  else:\n",
        "      print('Confusion matrix, without normalization')\n",
        "\n",
        "  print(cm)\n",
        "\n",
        "  plt.imshow(cm, interpolation='nearest', cmap=cmap)\n",
        "  plt.title(title)\n",
        "  plt.colorbar()\n",
        "  tick_marks = np.arange(len(classes))\n",
        "  plt.xticks(tick_marks, classes, rotation=45)\n",
        "  plt.yticks(tick_marks, classes)\n",
        "\n",
        "  fmt = '.2f' if normalize else 'd'\n",
        "  thresh = cm.max() / 2.\n",
        "  for i, j in itertools.product(range(cm.shape[0]), range(cm.shape[1])):\n",
        "      plt.text(j, i, format(cm[i, j], fmt),\n",
        "               horizontalalignment=\"center\",\n",
        "               color=\"white\" if cm[i, j] > thresh else \"black\")\n",
        "\n",
        "  plt.tight_layout()\n",
        "  plt.ylabel('True label')\n",
        "  plt.xlabel('Predicted label')\n",
        "  plt.savefig('/content/drive/My Drive/pneumonia-detection1/resnet_without_40.png')\n",
        "  plt.show()"
      ],
      "execution_count": null,
      "outputs": []
    },
    {
      "cell_type": "code",
      "metadata": {
        "id": "YW8IHtb5ydgd",
        "colab": {
          "base_uri": "https://localhost:8080/",
          "height": 378
        },
        "outputId": "5e769108-b767-4497-b93f-da45dc9adfdf"
      },
      "source": [
        "plot_confusion_matrix(cm, ['BP','N','VP'])"
      ],
      "execution_count": null,
      "outputs": [
        {
          "output_type": "stream",
          "text": [
            "Confusion matrix, without normalization\n",
            "[[237   4   1]\n",
            " [ 64 107  63]\n",
            " [ 56   2  90]]\n"
          ],
          "name": "stdout"
        },
        {
          "output_type": "display_data",
          "data": {
            "image/png": "[encoded data removed]",
            "text/plain": [
              "<Figure size 432x288 with 2 Axes>"
            ]
          },
          "metadata": {
            "tags": [],
            "needs_background": "light"
          }
        }
      ]
    },
    {
      "cell_type": "code",
      "metadata": {
        "id": "pPDV090ozeVE"
      },
      "source": [
        "class_names = ['Normal','Bacterial Pneumonia','Viral Pneumonia']"
      ],
      "execution_count": null,
      "outputs": []
    },
    {
      "cell_type": "code",
      "metadata": {
        "id": "TbPGGoRq4mTH",
        "colab": {
          "base_uri": "https://localhost:8080/",
          "height": 504
        },
        "outputId": "64394d95-0380-4d12-fee2-4b3845f3281d"
      },
      "source": [
        "test_gen.labels"
      ],
      "execution_count": null,
      "outputs": [
        {
          "output_type": "execute_result",
          "data": {
            "text/plain": [
              "array([0, 0, 0, 0, 0, 0, 0, 0, 0, 0, 0, 0, 0, 0, 0, 0, 0, 0, 0, 0, 0, 0,\n",
              "       0, 0, 0, 0, 0, 0, 0, 0, 0, 0, 0, 0, 0, 0, 0, 0, 0, 0, 0, 0, 0, 0,\n",
              "       0, 0, 0, 0, 0, 0, 0, 0, 0, 0, 0, 0, 0, 0, 0, 0, 0, 0, 0, 0, 0, 0,\n",
              "       0, 0, 0, 0, 0, 0, 0, 0, 0, 0, 0, 0, 0, 0, 0, 0, 0, 0, 0, 0, 0, 0,\n",
              "       0, 0, 0, 0, 0, 0, 0, 0, 0, 0, 0, 0, 0, 0, 0, 0, 0, 0, 0, 0, 0, 0,\n",
              "       0, 0, 0, 0, 0, 0, 0, 0, 0, 0, 0, 0, 0, 0, 0, 0, 0, 0, 0, 0, 0, 0,\n",
              "       0, 0, 0, 0, 0, 0, 0, 0, 0, 0, 0, 0, 0, 0, 0, 0, 0, 0, 0, 0, 0, 0,\n",
              "       0, 0, 0, 0, 0, 0, 0, 0, 0, 0, 0, 0, 0, 0, 0, 0, 0, 0, 0, 0, 0, 0,\n",
              "       0, 0, 0, 0, 0, 0, 0, 0, 0, 0, 0, 0, 0, 0, 0, 0, 0, 0, 0, 0, 0, 0,\n",
              "       0, 0, 0, 0, 0, 0, 0, 0, 0, 0, 0, 0, 0, 0, 0, 0, 0, 0, 0, 0, 0, 0,\n",
              "       0, 0, 0, 0, 0, 0, 0, 0, 0, 0, 0, 0, 0, 0, 0, 0, 0, 0, 0, 0, 0, 0,\n",
              "       1, 1, 1, 1, 1, 1, 1, 1, 1, 1, 1, 1, 1, 1, 1, 1, 1, 1, 1, 1, 1, 1,\n",
              "       1, 1, 1, 1, 1, 1, 1, 1, 1, 1, 1, 1, 1, 1, 1, 1, 1, 1, 1, 1, 1, 1,\n",
              "       1, 1, 1, 1, 1, 1, 1, 1, 1, 1, 1, 1, 1, 1, 1, 1, 1, 1, 1, 1, 1, 1,\n",
              "       1, 1, 1, 1, 1, 1, 1, 1, 1, 1, 1, 1, 1, 1, 1, 1, 1, 1, 1, 1, 1, 1,\n",
              "       1, 1, 1, 1, 1, 1, 1, 1, 1, 1, 1, 1, 1, 1, 1, 1, 1, 1, 1, 1, 1, 1,\n",
              "       1, 1, 1, 1, 1, 1, 1, 1, 1, 1, 1, 1, 1, 1, 1, 1, 1, 1, 1, 1, 1, 1,\n",
              "       1, 1, 1, 1, 1, 1, 1, 1, 1, 1, 1, 1, 1, 1, 1, 1, 1, 1, 1, 1, 1, 1,\n",
              "       1, 1, 1, 1, 1, 1, 1, 1, 1, 1, 1, 1, 1, 1, 1, 1, 1, 1, 1, 1, 1, 1,\n",
              "       1, 1, 1, 1, 1, 1, 1, 1, 1, 1, 1, 1, 1, 1, 1, 1, 1, 1, 1, 1, 1, 1,\n",
              "       1, 1, 1, 1, 1, 1, 1, 1, 1, 1, 1, 1, 1, 1, 1, 1, 1, 1, 1, 1, 1, 1,\n",
              "       1, 1, 1, 1, 1, 1, 1, 1, 1, 1, 1, 1, 1, 1, 2, 2, 2, 2, 2, 2, 2, 2,\n",
              "       2, 2, 2, 2, 2, 2, 2, 2, 2, 2, 2, 2, 2, 2, 2, 2, 2, 2, 2, 2, 2, 2,\n",
              "       2, 2, 2, 2, 2, 2, 2, 2, 2, 2, 2, 2, 2, 2, 2, 2, 2, 2, 2, 2, 2, 2,\n",
              "       2, 2, 2, 2, 2, 2, 2, 2, 2, 2, 2, 2, 2, 2, 2, 2, 2, 2, 2, 2, 2, 2,\n",
              "       2, 2, 2, 2, 2, 2, 2, 2, 2, 2, 2, 2, 2, 2, 2, 2, 2, 2, 2, 2, 2, 2,\n",
              "       2, 2, 2, 2, 2, 2, 2, 2, 2, 2, 2, 2, 2, 2, 2, 2, 2, 2, 2, 2, 2, 2,\n",
              "       2, 2, 2, 2, 2, 2, 2, 2, 2, 2, 2, 2, 2, 2, 2, 2, 2, 2, 2, 2, 2, 2,\n",
              "       2, 2, 2, 2, 2, 2, 2, 2], dtype=int32)"
            ]
          },
          "metadata": {
            "tags": []
          },
          "execution_count": 50
        }
      ]
    },
    {
      "cell_type": "code",
      "metadata": {
        "id": "EZ0I9n0K7Rqm"
      },
      "source": [
        ""
      ],
      "execution_count": null,
      "outputs": []
    }
  ]
}